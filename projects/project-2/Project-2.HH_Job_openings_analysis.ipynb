{
  "cells": [
    {
      "cell_type": "markdown",
      "id": "42289889-bd57-434e-9637-d3e354756316",
      "metadata": {
        "id": "42289889-bd57-434e-9637-d3e354756316"
      },
      "source": [
        "<center> <img src = https://raw.githubusercontent.com/AndreyRysistov/DatasetsForPandas/main/hh%20label.jpg alt=\"drawing\" style=\"width:400px;\">"
      ]
    },
    {
      "cell_type": "markdown",
      "id": "829cb75b-f14e-4ba8-9195-7ba929a7d656",
      "metadata": {
        "id": "829cb75b-f14e-4ba8-9195-7ba929a7d656",
        "tags": []
      },
      "source": [
        "# <center> Project: HeadHunter Job Openings Analysis\n",
        "   "
      ]
    },
    {
      "cell_type": "code",
      "execution_count": 108,
      "id": "dccfde33-2452-43fb-a8a5-5c6ebc02a71d",
      "metadata": {
        "id": "dccfde33-2452-43fb-a8a5-5c6ebc02a71d"
      },
      "outputs": [],
      "source": [
        "import pandas as pd\n",
        "import plotly.express as px\n",
        "import psycopg2\n",
        "import requests\n",
        "import settings\n",
        "import warnings\n",
        "\n",
        "warnings.simplefilter(action='ignore', category=UserWarning)\n",
        "\n",
        "from bs4 import BeautifulSoup\n",
        "from collections import Counter"
      ]
    },
    {
      "cell_type": "code",
      "execution_count": 109,
      "id": "oVKH4ehvf8Ay",
      "metadata": {
        "id": "oVKH4ehvf8Ay"
      },
      "outputs": [],
      "source": [
        "# The database connection settings are stored in the file settings.py. \n",
        "# This file has been excluded from commits via an entry in .gitignore."
      ]
    },
    {
      "cell_type": "code",
      "execution_count": 110,
      "id": "G4X_q8KBf7SF",
      "metadata": {
        "id": "G4X_q8KBf7SF"
      },
      "outputs": [],
      "source": [
        "connection = psycopg2.connect(\n",
        "    dbname=settings.DBNAME,\n",
        "    user=settings.USER,\n",
        "    host=settings.HOST,\n",
        "    password=settings.PASSWORD,\n",
        "    port=settings.PORT\n",
        ")"
      ]
    },
    {
      "cell_type": "markdown",
      "id": "0dc6476b-7a00-44f1-ac93-6e3baed33a29",
      "metadata": {
        "id": "0dc6476b-7a00-44f1-ac93-6e3baed33a29"
      },
      "source": [
        "# Unit 3. Preliminary data analysis"
      ]
    },
    {
      "cell_type": "markdown",
      "id": "889782b6-8d1c-410e-8920-e57f27917c64",
      "metadata": {
        "id": "889782b6-8d1c-410e-8920-e57f27917c64"
      },
      "source": [
        "1. Write a query to count the number of job openings in the database (job openings are located in the table 'vacancies')."
      ]
    },
    {
      "cell_type": "code",
      "execution_count": 111,
      "id": "bc39e68e-ed02-4ee2-9235-7258a2f867a8",
      "metadata": {
        "id": "bc39e68e-ed02-4ee2-9235-7258a2f867a8"
      },
      "outputs": [],
      "source": [
        "query_3_1 = f'''\n",
        "    SELECT COUNT(*)\n",
        "    FROM public.vacancies\n",
        "'''"
      ]
    },
    {
      "cell_type": "code",
      "execution_count": 112,
      "id": "7mAwtsk4hEHY",
      "metadata": {
        "id": "7mAwtsk4hEHY"
      },
      "outputs": [
        {
          "data": {
            "text/plain": [
              "'Number of job openings:'"
            ]
          },
          "metadata": {},
          "output_type": "display_data"
        },
        {
          "data": {
            "text/html": [
              "<div>\n",
              "<style scoped>\n",
              "    .dataframe tbody tr th:only-of-type {\n",
              "        vertical-align: middle;\n",
              "    }\n",
              "\n",
              "    .dataframe tbody tr th {\n",
              "        vertical-align: top;\n",
              "    }\n",
              "\n",
              "    .dataframe thead th {\n",
              "        text-align: right;\n",
              "    }\n",
              "</style>\n",
              "<table border=\"1\" class=\"dataframe\">\n",
              "  <thead>\n",
              "    <tr style=\"text-align: right;\">\n",
              "      <th></th>\n",
              "      <th>count</th>\n",
              "    </tr>\n",
              "  </thead>\n",
              "  <tbody>\n",
              "    <tr>\n",
              "      <th>0</th>\n",
              "      <td>49197</td>\n",
              "    </tr>\n",
              "  </tbody>\n",
              "</table>\n",
              "</div>"
            ],
            "text/plain": [
              "   count\n",
              "0  49197"
            ]
          },
          "execution_count": 112,
          "metadata": {},
          "output_type": "execute_result"
        }
      ],
      "source": [
        "df = pd.read_sql_query(query_3_1, connection)\n",
        "display('Number of job openings:')\n",
        "df"
      ]
    },
    {
      "cell_type": "markdown",
      "id": "b583485d-1f9e-494e-ada4-80ffff7c53d6",
      "metadata": {
        "id": "b583485d-1f9e-494e-ada4-80ffff7c53d6"
      },
      "source": [
        "2. Write a query to count the number of employers (table 'employers')."
      ]
    },
    {
      "cell_type": "code",
      "execution_count": 113,
      "id": "5408c52c-3407-4a63-b25b-1aafa2322d28",
      "metadata": {
        "id": "5408c52c-3407-4a63-b25b-1aafa2322d28"
      },
      "outputs": [],
      "source": [
        "query_3_2 = f'''\n",
        "    SELECT COUNT(*)\n",
        "    FROM public.employers\n",
        "'''"
      ]
    },
    {
      "cell_type": "code",
      "execution_count": 114,
      "id": "jVL4eshKhdqc",
      "metadata": {
        "id": "jVL4eshKhdqc"
      },
      "outputs": [
        {
          "data": {
            "text/plain": [
              "'Number of employers:'"
            ]
          },
          "metadata": {},
          "output_type": "display_data"
        },
        {
          "data": {
            "text/html": [
              "<div>\n",
              "<style scoped>\n",
              "    .dataframe tbody tr th:only-of-type {\n",
              "        vertical-align: middle;\n",
              "    }\n",
              "\n",
              "    .dataframe tbody tr th {\n",
              "        vertical-align: top;\n",
              "    }\n",
              "\n",
              "    .dataframe thead th {\n",
              "        text-align: right;\n",
              "    }\n",
              "</style>\n",
              "<table border=\"1\" class=\"dataframe\">\n",
              "  <thead>\n",
              "    <tr style=\"text-align: right;\">\n",
              "      <th></th>\n",
              "      <th>count</th>\n",
              "    </tr>\n",
              "  </thead>\n",
              "  <tbody>\n",
              "    <tr>\n",
              "      <th>0</th>\n",
              "      <td>23501</td>\n",
              "    </tr>\n",
              "  </tbody>\n",
              "</table>\n",
              "</div>"
            ],
            "text/plain": [
              "   count\n",
              "0  23501"
            ]
          },
          "execution_count": 114,
          "metadata": {},
          "output_type": "execute_result"
        }
      ],
      "source": [
        "df = pd.read_sql_query(query_3_2, connection)\n",
        "display('Number of employers:')\n",
        "df"
      ]
    },
    {
      "cell_type": "markdown",
      "id": "a2bfff1f-c975-4bf6-84be-2185d79dcb76",
      "metadata": {
        "id": "a2bfff1f-c975-4bf6-84be-2185d79dcb76"
      },
      "source": [
        "3. Write a query to count the number of areas (table 'area')."
      ]
    },
    {
      "cell_type": "code",
      "execution_count": 115,
      "id": "1m8QJwBYhey6",
      "metadata": {
        "id": "1m8QJwBYhey6"
      },
      "outputs": [],
      "source": [
        "query_3_3 = f'''\n",
        "    SELECT COUNT(*)\n",
        "    FROM public.areas\n",
        "'''"
      ]
    },
    {
      "cell_type": "code",
      "execution_count": 116,
      "id": "EZsn9tlfhe7f",
      "metadata": {
        "id": "EZsn9tlfhe7f"
      },
      "outputs": [
        {
          "data": {
            "text/plain": [
              "'Number of areas:'"
            ]
          },
          "metadata": {},
          "output_type": "display_data"
        },
        {
          "data": {
            "text/html": [
              "<div>\n",
              "<style scoped>\n",
              "    .dataframe tbody tr th:only-of-type {\n",
              "        vertical-align: middle;\n",
              "    }\n",
              "\n",
              "    .dataframe tbody tr th {\n",
              "        vertical-align: top;\n",
              "    }\n",
              "\n",
              "    .dataframe thead th {\n",
              "        text-align: right;\n",
              "    }\n",
              "</style>\n",
              "<table border=\"1\" class=\"dataframe\">\n",
              "  <thead>\n",
              "    <tr style=\"text-align: right;\">\n",
              "      <th></th>\n",
              "      <th>count</th>\n",
              "    </tr>\n",
              "  </thead>\n",
              "  <tbody>\n",
              "    <tr>\n",
              "      <th>0</th>\n",
              "      <td>1362</td>\n",
              "    </tr>\n",
              "  </tbody>\n",
              "</table>\n",
              "</div>"
            ],
            "text/plain": [
              "   count\n",
              "0   1362"
            ]
          },
          "execution_count": 116,
          "metadata": {},
          "output_type": "execute_result"
        }
      ],
      "source": [
        "df = pd.read_sql_query(query_3_3, connection)\n",
        "display('Number of areas:')\n",
        "df"
      ]
    },
    {
      "cell_type": "markdown",
      "id": "41bb59f3-53cc-4a67-a5bc-bedf573955e4",
      "metadata": {
        "id": "41bb59f3-53cc-4a67-a5bc-bedf573955e4"
      },
      "source": [
        "4. Write a query to count the number of industries in the database (table 'industries')."
      ]
    },
    {
      "cell_type": "code",
      "execution_count": 117,
      "id": "d286cf4c-707b-4cd2-9190-7ab3587d04a1",
      "metadata": {
        "id": "d286cf4c-707b-4cd2-9190-7ab3587d04a1"
      },
      "outputs": [],
      "source": [
        "query_3_4 = f'''\n",
        "    SELECT COUNT(*)\n",
        "    FROM public.industries\n",
        "'''"
      ]
    },
    {
      "cell_type": "code",
      "execution_count": 118,
      "id": "JYAaoZ4qhfzW",
      "metadata": {
        "id": "JYAaoZ4qhfzW"
      },
      "outputs": [
        {
          "data": {
            "text/plain": [
              "'Number of industries:'"
            ]
          },
          "metadata": {},
          "output_type": "display_data"
        },
        {
          "data": {
            "text/html": [
              "<div>\n",
              "<style scoped>\n",
              "    .dataframe tbody tr th:only-of-type {\n",
              "        vertical-align: middle;\n",
              "    }\n",
              "\n",
              "    .dataframe tbody tr th {\n",
              "        vertical-align: top;\n",
              "    }\n",
              "\n",
              "    .dataframe thead th {\n",
              "        text-align: right;\n",
              "    }\n",
              "</style>\n",
              "<table border=\"1\" class=\"dataframe\">\n",
              "  <thead>\n",
              "    <tr style=\"text-align: right;\">\n",
              "      <th></th>\n",
              "      <th>count</th>\n",
              "    </tr>\n",
              "  </thead>\n",
              "  <tbody>\n",
              "    <tr>\n",
              "      <th>0</th>\n",
              "      <td>294</td>\n",
              "    </tr>\n",
              "  </tbody>\n",
              "</table>\n",
              "</div>"
            ],
            "text/plain": [
              "   count\n",
              "0    294"
            ]
          },
          "execution_count": 118,
          "metadata": {},
          "output_type": "execute_result"
        }
      ],
      "source": [
        "df = pd.read_sql_query(query_3_4, connection)\n",
        "display('Number of industries:')\n",
        "df"
      ]
    },
    {
      "cell_type": "markdown",
      "id": "9a8a2181-6914-448b-85f1-38f5f18b8a93",
      "metadata": {
        "id": "9a8a2181-6914-448b-85f1-38f5f18b8a93"
      },
      "source": [
        "***"
      ]
    },
    {
      "cell_type": "markdown",
      "id": "ad83014f",
      "metadata": {},
      "source": [
        "## Results of preliminary data analysis\n",
        "* The number of job openings is around the double number of employers which results on average in around two job openings per employer.\n",
        "* The number of areas is very high and should cover a broad geography. This could be a topic for more detailed analysis.\n",
        "* The number of industries is also very high which should cover the job market to a large extent."
      ]
    },
    {
      "cell_type": "markdown",
      "id": "8d62a9f3-f64e-4fe7-bdac-c4dffa16155e",
      "metadata": {
        "id": "8d62a9f3-f64e-4fe7-bdac-c4dffa16155e"
      },
      "source": [
        "# Unit 4. Detalied job openings analisys"
      ]
    },
    {
      "cell_type": "markdown",
      "id": "93053d3d-b284-481a-9cf7-012d7014c0e0",
      "metadata": {
        "id": "93053d3d-b284-481a-9cf7-012d7014c0e0"
      },
      "source": [
        "1. Write a query to calculate the number of job openings (column 'cnt') in each area (column 'area').\n",
        "Order by the number of job openings descending."
      ]
    },
    {
      "cell_type": "code",
      "execution_count": 119,
      "id": "3f069da6-fdc9-4ae7-b514-fafe2675efd3",
      "metadata": {
        "id": "3f069da6-fdc9-4ae7-b514-fafe2675efd3"
      },
      "outputs": [],
      "source": [
        "query_4_1 = f'''\n",
        "    SELECT \n",
        "        a.name AS area, \n",
        "        COUNT(*) AS cnt\n",
        "    FROM\n",
        "        public.vacancies AS v\n",
        "        JOIN public.areas AS a ON v.area_id = a.id\n",
        "    GROUP BY\n",
        "        a.id\n",
        "    ORDER BY\n",
        "        cnt DESC\n",
        "'''"
      ]
    },
    {
      "cell_type": "code",
      "execution_count": 120,
      "id": "P7QL86hrjhRJ",
      "metadata": {
        "id": "P7QL86hrjhRJ"
      },
      "outputs": [
        {
          "data": {
            "text/plain": [
              "'Number of job openings per area:'"
            ]
          },
          "metadata": {},
          "output_type": "display_data"
        },
        {
          "data": {
            "text/html": [
              "<div>\n",
              "<style scoped>\n",
              "    .dataframe tbody tr th:only-of-type {\n",
              "        vertical-align: middle;\n",
              "    }\n",
              "\n",
              "    .dataframe tbody tr th {\n",
              "        vertical-align: top;\n",
              "    }\n",
              "\n",
              "    .dataframe thead th {\n",
              "        text-align: right;\n",
              "    }\n",
              "</style>\n",
              "<table border=\"1\" class=\"dataframe\">\n",
              "  <thead>\n",
              "    <tr style=\"text-align: right;\">\n",
              "      <th></th>\n",
              "      <th>area</th>\n",
              "      <th>cnt</th>\n",
              "    </tr>\n",
              "  </thead>\n",
              "  <tbody>\n",
              "    <tr>\n",
              "      <th>0</th>\n",
              "      <td>Москва</td>\n",
              "      <td>5333</td>\n",
              "    </tr>\n",
              "    <tr>\n",
              "      <th>1</th>\n",
              "      <td>Санкт-Петербург</td>\n",
              "      <td>2851</td>\n",
              "    </tr>\n",
              "    <tr>\n",
              "      <th>2</th>\n",
              "      <td>Минск</td>\n",
              "      <td>2112</td>\n",
              "    </tr>\n",
              "    <tr>\n",
              "      <th>3</th>\n",
              "      <td>Новосибирск</td>\n",
              "      <td>2006</td>\n",
              "    </tr>\n",
              "    <tr>\n",
              "      <th>4</th>\n",
              "      <td>Алматы</td>\n",
              "      <td>1892</td>\n",
              "    </tr>\n",
              "    <tr>\n",
              "      <th>...</th>\n",
              "      <td>...</td>\n",
              "      <td>...</td>\n",
              "    </tr>\n",
              "    <tr>\n",
              "      <th>764</th>\n",
              "      <td>Кизляр</td>\n",
              "      <td>1</td>\n",
              "    </tr>\n",
              "    <tr>\n",
              "      <th>765</th>\n",
              "      <td>Джизак</td>\n",
              "      <td>1</td>\n",
              "    </tr>\n",
              "    <tr>\n",
              "      <th>766</th>\n",
              "      <td>Эртиль</td>\n",
              "      <td>1</td>\n",
              "    </tr>\n",
              "    <tr>\n",
              "      <th>767</th>\n",
              "      <td>Арсеньев</td>\n",
              "      <td>1</td>\n",
              "    </tr>\n",
              "    <tr>\n",
              "      <th>768</th>\n",
              "      <td>Тура (Красноярский край)</td>\n",
              "      <td>1</td>\n",
              "    </tr>\n",
              "  </tbody>\n",
              "</table>\n",
              "<p>769 rows × 2 columns</p>\n",
              "</div>"
            ],
            "text/plain": [
              "                         area   cnt\n",
              "0                      Москва  5333\n",
              "1             Санкт-Петербург  2851\n",
              "2                       Минск  2112\n",
              "3                 Новосибирск  2006\n",
              "4                      Алматы  1892\n",
              "..                        ...   ...\n",
              "764                    Кизляр     1\n",
              "765                    Джизак     1\n",
              "766                    Эртиль     1\n",
              "767                  Арсеньев     1\n",
              "768  Тура (Красноярский край)     1\n",
              "\n",
              "[769 rows x 2 columns]"
            ]
          },
          "execution_count": 120,
          "metadata": {},
          "output_type": "execute_result"
        }
      ],
      "source": [
        "df = pd.read_sql_query(query_4_1, connection)\n",
        "display('Number of job openings per area:')\n",
        "df"
      ]
    },
    {
      "cell_type": "markdown",
      "id": "d83d7575",
      "metadata": {},
      "source": [
        "1a. Present the number of job openings per area on a diagram."
      ]
    },
    {
      "cell_type": "code",
      "execution_count": 121,
      "id": "e6fa174f",
      "metadata": {},
      "outputs": [
        {
          "data": {
            "image/png": "[encoded data removed]"
          },
          "metadata": {},
          "output_type": "display_data"
        }
      ],
      "source": [
        "fig = px.bar(\n",
        "    data_frame=df.head(10),\n",
        "    x='area',\n",
        "    y='cnt',\n",
        "    width=1000,\n",
        "    height=500,\n",
        "    title='Number of job openings per area',\n",
        "    text_auto=True\n",
        ").update_layout(\n",
        "    yaxis_title='Number of job openings'\n",
        ")\n",
        "fig.show('png')"
      ]
    },
    {
      "cell_type": "markdown",
      "id": "4266f0b6-1646-492a-88b4-2f6a46502135",
      "metadata": {
        "id": "4266f0b6-1646-492a-88b4-2f6a46502135"
      },
      "source": [
        "2. Write a query to determine the number of job openings having a value in at least one of the two salary fields."
      ]
    },
    {
      "cell_type": "code",
      "execution_count": 122,
      "id": "0c44b350-72eb-4d65-8b54-a1fc449ba9fd",
      "metadata": {
        "id": "0c44b350-72eb-4d65-8b54-a1fc449ba9fd"
      },
      "outputs": [],
      "source": [
        "query_4_2 = f'''\n",
        "    SELECT \n",
        "        COUNT(*) AS cnt\n",
        "    FROM\n",
        "        public.vacancies\n",
        "    WHERE\n",
        "        salary_from IS NOT NULL\n",
        "        OR salary_to IS NOT NULL\n",
        "'''"
      ]
    },
    {
      "cell_type": "code",
      "execution_count": 123,
      "id": "rhvwaMDkoWTi",
      "metadata": {
        "id": "rhvwaMDkoWTi"
      },
      "outputs": [
        {
          "data": {
            "text/plain": [
              "'Number of job openings which have salary information:'"
            ]
          },
          "metadata": {},
          "output_type": "display_data"
        },
        {
          "data": {
            "text/html": [
              "<div>\n",
              "<style scoped>\n",
              "    .dataframe tbody tr th:only-of-type {\n",
              "        vertical-align: middle;\n",
              "    }\n",
              "\n",
              "    .dataframe tbody tr th {\n",
              "        vertical-align: top;\n",
              "    }\n",
              "\n",
              "    .dataframe thead th {\n",
              "        text-align: right;\n",
              "    }\n",
              "</style>\n",
              "<table border=\"1\" class=\"dataframe\">\n",
              "  <thead>\n",
              "    <tr style=\"text-align: right;\">\n",
              "      <th></th>\n",
              "      <th>cnt</th>\n",
              "    </tr>\n",
              "  </thead>\n",
              "  <tbody>\n",
              "    <tr>\n",
              "      <th>0</th>\n",
              "      <td>24073</td>\n",
              "    </tr>\n",
              "  </tbody>\n",
              "</table>\n",
              "</div>"
            ],
            "text/plain": [
              "     cnt\n",
              "0  24073"
            ]
          },
          "execution_count": 123,
          "metadata": {},
          "output_type": "execute_result"
        }
      ],
      "source": [
        "df = pd.read_sql_query(query_4_2, connection)\n",
        "display('Number of job openings which have salary information:')\n",
        "df"
      ]
    },
    {
      "cell_type": "markdown",
      "id": "635c4d5d-f323-4c66-b428-50a088120aa0",
      "metadata": {
        "id": "635c4d5d-f323-4c66-b428-50a088120aa0"
      },
      "source": [
        "3. Find the mean values for the lower and upper salary boundaries. Round the values to a whole number."
      ]
    },
    {
      "cell_type": "code",
      "execution_count": 124,
      "id": "603cdbe4-0ec3-4106-8eaf-c73fcdd29165",
      "metadata": {
        "id": "603cdbe4-0ec3-4106-8eaf-c73fcdd29165"
      },
      "outputs": [],
      "source": [
        "query_4_3 = f'''\n",
        "    SELECT\n",
        "        ROUND(AVG(salary_from)) AS avg_salary_from,\n",
        "        ROUND(AVG(salary_to)) AS avg_salary_to\n",
        "    FROM\n",
        "        public.vacancies\n",
        "'''"
      ]
    },
    {
      "cell_type": "code",
      "execution_count": 125,
      "id": "pswpAb66ovZZ",
      "metadata": {
        "id": "pswpAb66ovZZ"
      },
      "outputs": [
        {
          "data": {
            "text/plain": [
              "'Mean values of salary boundaries:'"
            ]
          },
          "metadata": {},
          "output_type": "display_data"
        },
        {
          "data": {
            "text/html": [
              "<div>\n",
              "<style scoped>\n",
              "    .dataframe tbody tr th:only-of-type {\n",
              "        vertical-align: middle;\n",
              "    }\n",
              "\n",
              "    .dataframe tbody tr th {\n",
              "        vertical-align: top;\n",
              "    }\n",
              "\n",
              "    .dataframe thead th {\n",
              "        text-align: right;\n",
              "    }\n",
              "</style>\n",
              "<table border=\"1\" class=\"dataframe\">\n",
              "  <thead>\n",
              "    <tr style=\"text-align: right;\">\n",
              "      <th></th>\n",
              "      <th>avg_salary_from</th>\n",
              "      <th>avg_salary_to</th>\n",
              "    </tr>\n",
              "  </thead>\n",
              "  <tbody>\n",
              "    <tr>\n",
              "      <th>0</th>\n",
              "      <td>71065.0</td>\n",
              "      <td>110537.0</td>\n",
              "    </tr>\n",
              "  </tbody>\n",
              "</table>\n",
              "</div>"
            ],
            "text/plain": [
              "   avg_salary_from  avg_salary_to\n",
              "0          71065.0       110537.0"
            ]
          },
          "metadata": {},
          "output_type": "display_data"
        }
      ],
      "source": [
        "df = pd.read_sql_query(query_4_3, connection)\n",
        "display('Mean values of salary boundaries:')\n",
        "display(df)\n",
        "avg_salary_from = df.loc[0, 'avg_salary_from']\n",
        "avg_salary_to = df.loc[0, 'avg_salary_to']\n"
      ]
    },
    {
      "cell_type": "markdown",
      "id": "3350d06a",
      "metadata": {},
      "source": [
        "3a. Present the salary information on a diagram."
      ]
    },
    {
      "cell_type": "code",
      "execution_count": 126,
      "id": "f06c7768",
      "metadata": {},
      "outputs": [],
      "source": [
        "query_4_3a = f'''\n",
        "    SELECT \n",
        "        salary_from,\n",
        "        salary_to\n",
        "    FROM\n",
        "        public.vacancies\n",
        "    WHERE\n",
        "        salary_from IS NOT NULL\n",
        "        OR salary_to IS NOT NULL\n",
        "'''"
      ]
    },
    {
      "cell_type": "code",
      "execution_count": 127,
      "id": "409006f7",
      "metadata": {},
      "outputs": [
        {
          "data": {
            "text/html": [
              "<div>\n",
              "<style scoped>\n",
              "    .dataframe tbody tr th:only-of-type {\n",
              "        vertical-align: middle;\n",
              "    }\n",
              "\n",
              "    .dataframe tbody tr th {\n",
              "        vertical-align: top;\n",
              "    }\n",
              "\n",
              "    .dataframe thead th {\n",
              "        text-align: right;\n",
              "    }\n",
              "</style>\n",
              "<table border=\"1\" class=\"dataframe\">\n",
              "  <thead>\n",
              "    <tr style=\"text-align: right;\">\n",
              "      <th></th>\n",
              "      <th>salary_from</th>\n",
              "      <th>salary_to</th>\n",
              "    </tr>\n",
              "  </thead>\n",
              "  <tbody>\n",
              "    <tr>\n",
              "      <th>0</th>\n",
              "      <td>64000.0</td>\n",
              "      <td>NaN</td>\n",
              "    </tr>\n",
              "    <tr>\n",
              "      <th>1</th>\n",
              "      <td>15000.0</td>\n",
              "      <td>NaN</td>\n",
              "    </tr>\n",
              "    <tr>\n",
              "      <th>2</th>\n",
              "      <td>40000.0</td>\n",
              "      <td>60000.0</td>\n",
              "    </tr>\n",
              "    <tr>\n",
              "      <th>3</th>\n",
              "      <td>50000.0</td>\n",
              "      <td>NaN</td>\n",
              "    </tr>\n",
              "    <tr>\n",
              "      <th>4</th>\n",
              "      <td>150000.0</td>\n",
              "      <td>NaN</td>\n",
              "    </tr>\n",
              "    <tr>\n",
              "      <th>...</th>\n",
              "      <td>...</td>\n",
              "      <td>...</td>\n",
              "    </tr>\n",
              "    <tr>\n",
              "      <th>24068</th>\n",
              "      <td>50000.0</td>\n",
              "      <td>NaN</td>\n",
              "    </tr>\n",
              "    <tr>\n",
              "      <th>24069</th>\n",
              "      <td>102500.0</td>\n",
              "      <td>NaN</td>\n",
              "    </tr>\n",
              "    <tr>\n",
              "      <th>24070</th>\n",
              "      <td>40000.0</td>\n",
              "      <td>78000.0</td>\n",
              "    </tr>\n",
              "    <tr>\n",
              "      <th>24071</th>\n",
              "      <td>60000.0</td>\n",
              "      <td>NaN</td>\n",
              "    </tr>\n",
              "    <tr>\n",
              "      <th>24072</th>\n",
              "      <td>146456.0</td>\n",
              "      <td>244094.0</td>\n",
              "    </tr>\n",
              "  </tbody>\n",
              "</table>\n",
              "<p>24073 rows × 2 columns</p>\n",
              "</div>"
            ],
            "text/plain": [
              "       salary_from  salary_to\n",
              "0          64000.0        NaN\n",
              "1          15000.0        NaN\n",
              "2          40000.0    60000.0\n",
              "3          50000.0        NaN\n",
              "4         150000.0        NaN\n",
              "...            ...        ...\n",
              "24068      50000.0        NaN\n",
              "24069     102500.0        NaN\n",
              "24070      40000.0    78000.0\n",
              "24071      60000.0        NaN\n",
              "24072     146456.0   244094.0\n",
              "\n",
              "[24073 rows x 2 columns]"
            ]
          },
          "execution_count": 127,
          "metadata": {},
          "output_type": "execute_result"
        }
      ],
      "source": [
        "df = pd.read_sql_query(query_4_3a, connection)\n",
        "df"
      ]
    },
    {
      "cell_type": "code",
      "execution_count": 128,
      "id": "e553625c",
      "metadata": {},
      "outputs": [
        {
          "data": {
            "image/png": "[encoded data removed]"
          },
          "metadata": {},
          "output_type": "display_data"
        }
      ],
      "source": [
        "fig = px.histogram(\n",
        "    data_frame=df,\n",
        "    width=1000,\n",
        "    height=500,\n",
        "    nbins=50,\n",
        "    title='Distribution of salary range'\n",
        ").update_layout(\n",
        "    yaxis_title='Number of job openigs',\n",
        "    xaxis_range=[0, 500000]\n",
        ")\n",
        "fig.add_vline(\n",
        "    x=avg_salary_from,\n",
        "    annotation_text=f'Mean salary from: {avg_salary_from}',\n",
        "    annotation_position='top left'\n",
        ")\n",
        "fig.add_vline(\n",
        "    x=avg_salary_to,\n",
        "    annotation_text=f'Mean salary to: {avg_salary_to}',\n",
        "    annotation_position='top right'\n",
        ")\n",
        "fig.show('png')"
      ]
    },
    {
      "cell_type": "markdown",
      "id": "f3fdaec9-5fd3-4260-9cf5-1d7406b628a5",
      "metadata": {
        "id": "f3fdaec9-5fd3-4260-9cf5-1d7406b628a5"
      },
      "source": [
        "4. Write a query to count the number of job openings (column 'cnt') for each combination of work schedule (column 'schedule') and employment type (column 'employment'). Order the results by the number of job openings descending.\n"
      ]
    },
    {
      "cell_type": "code",
      "execution_count": 129,
      "id": "1ea710ec-871b-431e-9462-c7d0fd87011b",
      "metadata": {
        "id": "1ea710ec-871b-431e-9462-c7d0fd87011b"
      },
      "outputs": [],
      "source": [
        "query_4_4 = f'''\n",
        "    SELECT\n",
        "        schedule,\n",
        "        employment,\n",
        "        COUNT(*) AS cnt\n",
        "    FROM\n",
        "        public.vacancies\n",
        "    GROUP BY\n",
        "        schedule,\n",
        "        employment\n",
        "    ORDER BY\n",
        "        cnt DESC\n",
        "'''"
      ]
    },
    {
      "cell_type": "code",
      "execution_count": 130,
      "id": "lGUVqavdo4JQ",
      "metadata": {
        "id": "lGUVqavdo4JQ"
      },
      "outputs": [
        {
          "data": {
            "text/plain": [
              "'Number of job openings by work schedule and employment type:'"
            ]
          },
          "metadata": {},
          "output_type": "display_data"
        },
        {
          "data": {
            "text/html": [
              "<div>\n",
              "<style scoped>\n",
              "    .dataframe tbody tr th:only-of-type {\n",
              "        vertical-align: middle;\n",
              "    }\n",
              "\n",
              "    .dataframe tbody tr th {\n",
              "        vertical-align: top;\n",
              "    }\n",
              "\n",
              "    .dataframe thead th {\n",
              "        text-align: right;\n",
              "    }\n",
              "</style>\n",
              "<table border=\"1\" class=\"dataframe\">\n",
              "  <thead>\n",
              "    <tr style=\"text-align: right;\">\n",
              "      <th></th>\n",
              "      <th>schedule</th>\n",
              "      <th>employment</th>\n",
              "      <th>cnt</th>\n",
              "    </tr>\n",
              "  </thead>\n",
              "  <tbody>\n",
              "    <tr>\n",
              "      <th>0</th>\n",
              "      <td>Полный день</td>\n",
              "      <td>Полная занятость</td>\n",
              "      <td>35367</td>\n",
              "    </tr>\n",
              "    <tr>\n",
              "      <th>1</th>\n",
              "      <td>Удаленная работа</td>\n",
              "      <td>Полная занятость</td>\n",
              "      <td>7802</td>\n",
              "    </tr>\n",
              "    <tr>\n",
              "      <th>2</th>\n",
              "      <td>Гибкий график</td>\n",
              "      <td>Полная занятость</td>\n",
              "      <td>1593</td>\n",
              "    </tr>\n",
              "    <tr>\n",
              "      <th>3</th>\n",
              "      <td>Удаленная работа</td>\n",
              "      <td>Частичная занятость</td>\n",
              "      <td>1312</td>\n",
              "    </tr>\n",
              "    <tr>\n",
              "      <th>4</th>\n",
              "      <td>Сменный график</td>\n",
              "      <td>Полная занятость</td>\n",
              "      <td>940</td>\n",
              "    </tr>\n",
              "    <tr>\n",
              "      <th>5</th>\n",
              "      <td>Полный день</td>\n",
              "      <td>Стажировка</td>\n",
              "      <td>569</td>\n",
              "    </tr>\n",
              "    <tr>\n",
              "      <th>6</th>\n",
              "      <td>Вахтовый метод</td>\n",
              "      <td>Полная занятость</td>\n",
              "      <td>367</td>\n",
              "    </tr>\n",
              "    <tr>\n",
              "      <th>7</th>\n",
              "      <td>Полный день</td>\n",
              "      <td>Частичная занятость</td>\n",
              "      <td>347</td>\n",
              "    </tr>\n",
              "    <tr>\n",
              "      <th>8</th>\n",
              "      <td>Гибкий график</td>\n",
              "      <td>Частичная занятость</td>\n",
              "      <td>312</td>\n",
              "    </tr>\n",
              "    <tr>\n",
              "      <th>9</th>\n",
              "      <td>Полный день</td>\n",
              "      <td>Проектная работа</td>\n",
              "      <td>141</td>\n",
              "    </tr>\n",
              "    <tr>\n",
              "      <th>10</th>\n",
              "      <td>Удаленная работа</td>\n",
              "      <td>Проектная работа</td>\n",
              "      <td>133</td>\n",
              "    </tr>\n",
              "    <tr>\n",
              "      <th>11</th>\n",
              "      <td>Гибкий график</td>\n",
              "      <td>Стажировка</td>\n",
              "      <td>116</td>\n",
              "    </tr>\n",
              "    <tr>\n",
              "      <th>12</th>\n",
              "      <td>Сменный график</td>\n",
              "      <td>Частичная занятость</td>\n",
              "      <td>101</td>\n",
              "    </tr>\n",
              "    <tr>\n",
              "      <th>13</th>\n",
              "      <td>Удаленная работа</td>\n",
              "      <td>Стажировка</td>\n",
              "      <td>64</td>\n",
              "    </tr>\n",
              "    <tr>\n",
              "      <th>14</th>\n",
              "      <td>Гибкий график</td>\n",
              "      <td>Проектная работа</td>\n",
              "      <td>18</td>\n",
              "    </tr>\n",
              "    <tr>\n",
              "      <th>15</th>\n",
              "      <td>Сменный график</td>\n",
              "      <td>Стажировка</td>\n",
              "      <td>12</td>\n",
              "    </tr>\n",
              "    <tr>\n",
              "      <th>16</th>\n",
              "      <td>Вахтовый метод</td>\n",
              "      <td>Проектная работа</td>\n",
              "      <td>2</td>\n",
              "    </tr>\n",
              "    <tr>\n",
              "      <th>17</th>\n",
              "      <td>Сменный график</td>\n",
              "      <td>Проектная работа</td>\n",
              "      <td>1</td>\n",
              "    </tr>\n",
              "  </tbody>\n",
              "</table>\n",
              "</div>"
            ],
            "text/plain": [
              "            schedule           employment    cnt\n",
              "0        Полный день     Полная занятость  35367\n",
              "1   Удаленная работа     Полная занятость   7802\n",
              "2      Гибкий график     Полная занятость   1593\n",
              "3   Удаленная работа  Частичная занятость   1312\n",
              "4     Сменный график     Полная занятость    940\n",
              "5        Полный день           Стажировка    569\n",
              "6     Вахтовый метод     Полная занятость    367\n",
              "7        Полный день  Частичная занятость    347\n",
              "8      Гибкий график  Частичная занятость    312\n",
              "9        Полный день     Проектная работа    141\n",
              "10  Удаленная работа     Проектная работа    133\n",
              "11     Гибкий график           Стажировка    116\n",
              "12    Сменный график  Частичная занятость    101\n",
              "13  Удаленная работа           Стажировка     64\n",
              "14     Гибкий график     Проектная работа     18\n",
              "15    Сменный график           Стажировка     12\n",
              "16    Вахтовый метод     Проектная работа      2\n",
              "17    Сменный график     Проектная работа      1"
            ]
          },
          "execution_count": 130,
          "metadata": {},
          "output_type": "execute_result"
        }
      ],
      "source": [
        "df = pd.read_sql_query(query_4_4, connection)\n",
        "display('Number of job openings by work schedule and employment type:')\n",
        "df"
      ]
    },
    {
      "cell_type": "markdown",
      "id": "78522ae2",
      "metadata": {},
      "source": [
        "4a. Present the work schedule and employment type information on a diagram."
      ]
    },
    {
      "cell_type": "code",
      "execution_count": 149,
      "id": "b9554483",
      "metadata": {},
      "outputs": [
        {
          "data": {
            "image/png": "[encoded data removed]"
          },
          "metadata": {},
          "output_type": "display_data"
        }
      ],
      "source": [
        "fig = px.density_heatmap(\n",
        "    df,\n",
        "    x='employment',\n",
        "    y='schedule',\n",
        "    z='cnt',\n",
        "    range_color=[0, 35000],\n",
        "    width=1000,\n",
        "    height=500,\n",
        "    title='Number of job openings by work schedule and employment type'\n",
        ").update_layout(\n",
        "    yaxis_title='Work schedule',\n",
        "    xaxis_title='Employment type'\n",
        ")\n",
        "fig.show('png')"
      ]
    },
    {
      "cell_type": "markdown",
      "id": "0136ffee-0ead-4a6b-b608-61d1c753a438",
      "metadata": {
        "id": "0136ffee-0ead-4a6b-b608-61d1c753a438"
      },
      "source": [
        "5. Write a query to get the number of job openings (column 'cnt') having a specific required experience (column 'experience'). Order by number of job openings."
      ]
    },
    {
      "cell_type": "code",
      "execution_count": 151,
      "id": "5b3a8e79-f7ab-4008-b767-12aea3a205ea",
      "metadata": {
        "id": "5b3a8e79-f7ab-4008-b767-12aea3a205ea"
      },
      "outputs": [],
      "source": [
        "query_4_5 = f'''\n",
        "    SELECT\n",
        "        experience,\n",
        "        COUNT(*) AS cnt\n",
        "    FROM\n",
        "        public.vacancies\n",
        "    GROUP BY\n",
        "        experience\n",
        "    ORDER BY\n",
        "        cnt\n",
        "'''"
      ]
    },
    {
      "cell_type": "code",
      "execution_count": 152,
      "id": "3Is64Y-hpDpq",
      "metadata": {
        "id": "3Is64Y-hpDpq"
      },
      "outputs": [
        {
          "data": {
            "text/plain": [
              "'Number of job openings by work experience:'"
            ]
          },
          "metadata": {},
          "output_type": "display_data"
        },
        {
          "data": {
            "text/html": [
              "<div>\n",
              "<style scoped>\n",
              "    .dataframe tbody tr th:only-of-type {\n",
              "        vertical-align: middle;\n",
              "    }\n",
              "\n",
              "    .dataframe tbody tr th {\n",
              "        vertical-align: top;\n",
              "    }\n",
              "\n",
              "    .dataframe thead th {\n",
              "        text-align: right;\n",
              "    }\n",
              "</style>\n",
              "<table border=\"1\" class=\"dataframe\">\n",
              "  <thead>\n",
              "    <tr style=\"text-align: right;\">\n",
              "      <th></th>\n",
              "      <th>experience</th>\n",
              "      <th>cnt</th>\n",
              "    </tr>\n",
              "  </thead>\n",
              "  <tbody>\n",
              "    <tr>\n",
              "      <th>0</th>\n",
              "      <td>Более 6 лет</td>\n",
              "      <td>1337</td>\n",
              "    </tr>\n",
              "    <tr>\n",
              "      <th>1</th>\n",
              "      <td>Нет опыта</td>\n",
              "      <td>7197</td>\n",
              "    </tr>\n",
              "    <tr>\n",
              "      <th>2</th>\n",
              "      <td>От 3 до 6 лет</td>\n",
              "      <td>14511</td>\n",
              "    </tr>\n",
              "    <tr>\n",
              "      <th>3</th>\n",
              "      <td>От 1 года до 3 лет</td>\n",
              "      <td>26152</td>\n",
              "    </tr>\n",
              "  </tbody>\n",
              "</table>\n",
              "</div>"
            ],
            "text/plain": [
              "           experience    cnt\n",
              "0         Более 6 лет   1337\n",
              "1           Нет опыта   7197\n",
              "2       От 3 до 6 лет  14511\n",
              "3  От 1 года до 3 лет  26152"
            ]
          },
          "execution_count": 152,
          "metadata": {},
          "output_type": "execute_result"
        }
      ],
      "source": [
        "df = pd.read_sql_query(query_4_5, connection)\n",
        "display('Number of job openings by work experience:')\n",
        "df"
      ]
    },
    {
      "cell_type": "markdown",
      "id": "beda7caa",
      "metadata": {},
      "source": [
        "5a. Present the work experience information on a diagram."
      ]
    },
    {
      "cell_type": "markdown",
      "id": "oq2b7n1QpIka",
      "metadata": {
        "id": "oq2b7n1QpIka"
      },
      "source": [
        "***"
      ]
    },
    {
      "cell_type": "code",
      "execution_count": 155,
      "id": "8230b2e0",
      "metadata": {},
      "outputs": [
        {
          "data": {
            "image/png": "[encoded data removed]"
          },
          "metadata": {},
          "output_type": "display_data"
        }
      ],
      "source": [
        "fig = px.pie(\n",
        "    data_frame=df,\n",
        "    values='cnt',\n",
        "    names='experience',\n",
        "    width=700,\n",
        "    height=500,\n",
        "    title='Distribution of job openings by work experience'\n",
        ")\n",
        "fig.show('png')"
      ]
    },
    {
      "cell_type": "markdown",
      "id": "2d6ef874",
      "metadata": {},
      "source": [
        "## Results of detalied job openings analisys\n",
        "* Top 5 areas of job openings total to around 30 % of all job openings.\n",
        "* Job openings are not only from Russia, but at least such countries as Belarus and Kazakhstan are represented.\n",
        "* Salary information is available for around 50 % of the job openings. Based on the theory which we learned about data cleaning, these two columns ('salary_from' and 'salary_to') should be analyzed more precisely and if any of them has more than 30-40 % of empty cells, it should not be considered for the further analysis.\n",
        "* The mean salary boundaries are 71065 and 110537, which means it is a difference of around 50 %. This seems plausible.\n",
        "* The work schedule and employment type distribution show that the observed job market is mostly a classical one with full time jobs on-site (around 70 % of all job openings). 15 % of full time home office jobs are probably a consequence of the pandemics.\n",
        "* Most of the job openings (> 50%) are for candidates with 1-3 years of experience. To me it is a sign of a labor shortage on the job market, the companies are ready to take less experienced candidates."
      ]
    },
    {
      "cell_type": "markdown",
      "id": "7ea20ab6-04a7-40a0-adec-443a0e5a42c3",
      "metadata": {
        "id": "7ea20ab6-04a7-40a0-adec-443a0e5a42c3"
      },
      "source": [
        "# Unit 5. Employer analysis"
      ]
    },
    {
      "cell_type": "markdown",
      "id": "968aed80-74ef-4ffb-b5bf-c65b84e9caea",
      "metadata": {
        "id": "968aed80-74ef-4ffb-b5bf-c65b84e9caea"
      },
      "source": [
        "1. Write a query to find out which employers are on rank 1 and 5 by number of job openings."
      ]
    },
    {
      "cell_type": "code",
      "execution_count": 156,
      "id": "f2d62796-d400-4ec1-a675-88112739a50e",
      "metadata": {
        "id": "f2d62796-d400-4ec1-a675-88112739a50e"
      },
      "outputs": [],
      "source": [
        "query_5_1 = f'''\n",
        "    SELECT\n",
        "        e.name,\n",
        "        COUNT(*) AS cnt\n",
        "    FROM\n",
        "        public.employers AS e\n",
        "        JOIN public.vacancies AS v ON e.id = v.employer_id\n",
        "    GROUP BY\n",
        "        e.id\n",
        "    ORDER BY\n",
        "        cnt DESC\n",
        "'''"
      ]
    },
    {
      "cell_type": "code",
      "execution_count": 157,
      "id": "64tOMkAxqkQk",
      "metadata": {
        "id": "64tOMkAxqkQk"
      },
      "outputs": [
        {
          "data": {
            "text/plain": [
              "'Number of job openings by employer:'"
            ]
          },
          "metadata": {},
          "output_type": "display_data"
        },
        {
          "data": {
            "text/html": [
              "<div>\n",
              "<style scoped>\n",
              "    .dataframe tbody tr th:only-of-type {\n",
              "        vertical-align: middle;\n",
              "    }\n",
              "\n",
              "    .dataframe tbody tr th {\n",
              "        vertical-align: top;\n",
              "    }\n",
              "\n",
              "    .dataframe thead th {\n",
              "        text-align: right;\n",
              "    }\n",
              "</style>\n",
              "<table border=\"1\" class=\"dataframe\">\n",
              "  <thead>\n",
              "    <tr style=\"text-align: right;\">\n",
              "      <th></th>\n",
              "      <th>name</th>\n",
              "      <th>cnt</th>\n",
              "    </tr>\n",
              "  </thead>\n",
              "  <tbody>\n",
              "    <tr>\n",
              "      <th>0</th>\n",
              "      <td>Яндекс</td>\n",
              "      <td>1933</td>\n",
              "    </tr>\n",
              "    <tr>\n",
              "      <th>1</th>\n",
              "      <td>Ростелеком</td>\n",
              "      <td>491</td>\n",
              "    </tr>\n",
              "    <tr>\n",
              "      <th>2</th>\n",
              "      <td>Тинькофф</td>\n",
              "      <td>444</td>\n",
              "    </tr>\n",
              "    <tr>\n",
              "      <th>3</th>\n",
              "      <td>СБЕР</td>\n",
              "      <td>428</td>\n",
              "    </tr>\n",
              "    <tr>\n",
              "      <th>4</th>\n",
              "      <td>Газпром нефть</td>\n",
              "      <td>331</td>\n",
              "    </tr>\n",
              "    <tr>\n",
              "      <th>...</th>\n",
              "      <td>...</td>\n",
              "      <td>...</td>\n",
              "    </tr>\n",
              "    <tr>\n",
              "      <th>14901</th>\n",
              "      <td>Евсеев Сергей Владимирович</td>\n",
              "      <td>1</td>\n",
              "    </tr>\n",
              "    <tr>\n",
              "      <th>14902</th>\n",
              "      <td>Кадровые технологии</td>\n",
              "      <td>1</td>\n",
              "    </tr>\n",
              "    <tr>\n",
              "      <th>14903</th>\n",
              "      <td>ЛОМБАРД 24</td>\n",
              "      <td>1</td>\n",
              "    </tr>\n",
              "    <tr>\n",
              "      <th>14904</th>\n",
              "      <td>Авто-Компонент ТД</td>\n",
              "      <td>1</td>\n",
              "    </tr>\n",
              "    <tr>\n",
              "      <th>14905</th>\n",
              "      <td>НПП «Старт» им. А.И. Яскина</td>\n",
              "      <td>1</td>\n",
              "    </tr>\n",
              "  </tbody>\n",
              "</table>\n",
              "<p>14906 rows × 2 columns</p>\n",
              "</div>"
            ],
            "text/plain": [
              "                              name   cnt\n",
              "0                           Яндекс  1933\n",
              "1                       Ростелеком   491\n",
              "2                         Тинькофф   444\n",
              "3                             СБЕР   428\n",
              "4                    Газпром нефть   331\n",
              "...                            ...   ...\n",
              "14901   Евсеев Сергей Владимирович     1\n",
              "14902          Кадровые технологии     1\n",
              "14903                   ЛОМБАРД 24     1\n",
              "14904            Авто-Компонент ТД     1\n",
              "14905  НПП «Старт» им. А.И. Яскина     1\n",
              "\n",
              "[14906 rows x 2 columns]"
            ]
          },
          "execution_count": 157,
          "metadata": {},
          "output_type": "execute_result"
        }
      ],
      "source": [
        "df = pd.read_sql_query(query_5_1, connection)\n",
        "display('Number of job openings by employer:')\n",
        "df"
      ]
    },
    {
      "cell_type": "markdown",
      "id": "697151c2",
      "metadata": {},
      "source": [
        "1a. Present the number of job openings by employer on a diagram."
      ]
    },
    {
      "cell_type": "code",
      "execution_count": 160,
      "id": "ddd4ab88",
      "metadata": {},
      "outputs": [
        {
          "data": {
            "image/png": "[encoded data removed]"
          },
          "metadata": {},
          "output_type": "display_data"
        }
      ],
      "source": [
        "fig = px.bar(\n",
        "    data_frame=df.head(10),\n",
        "    x='name',\n",
        "    y='cnt',\n",
        "    width=1000,\n",
        "    height=500,\n",
        "    title='Number of job openings by employer'\n",
        ").update_layout(\n",
        "    xaxis_title='Employer',\n",
        "    yaxis_title='Number of job openings'\n",
        ")\n",
        "fig.show('png')"
      ]
    },
    {
      "cell_type": "markdown",
      "id": "68377cfc-b378-43dc-ab7d-1195abf2c515",
      "metadata": {
        "id": "68377cfc-b378-43dc-ab7d-1195abf2c515"
      },
      "source": [
        "2. Write a query to determine the number of employers and job openings for each area. From the areas which don't have job openings find the one having the most employers."
      ]
    },
    {
      "cell_type": "code",
      "execution_count": 76,
      "id": "448055db",
      "metadata": {},
      "outputs": [],
      "source": [
        "query_5_2 = f'''\n",
        "    SELECT\n",
        "        a.name,\n",
        "        COUNT(DISTINCT e.id) AS cnt_employers\n",
        "    FROM\n",
        "        areas AS a\n",
        "        JOIN public.employers AS e ON a.id = e.area\n",
        "        LEFT JOIN public.vacancies AS v ON a.id = v.area_id\n",
        "    WHERE\n",
        "        v.id IS NULL\n",
        "    GROUP BY\n",
        "        a.id\n",
        "    ORDER BY\n",
        "        cnt_employers DESC\n",
        "'''"
      ]
    },
    {
      "cell_type": "code",
      "execution_count": 77,
      "id": "x1ikWbydrbf6",
      "metadata": {
        "id": "x1ikWbydrbf6"
      },
      "outputs": [
        {
          "data": {
            "text/plain": [
              "'Number of employers in regions which dont have job openings:'"
            ]
          },
          "metadata": {},
          "output_type": "display_data"
        },
        {
          "data": {
            "text/html": [
              "<div>\n",
              "<style scoped>\n",
              "    .dataframe tbody tr th:only-of-type {\n",
              "        vertical-align: middle;\n",
              "    }\n",
              "\n",
              "    .dataframe tbody tr th {\n",
              "        vertical-align: top;\n",
              "    }\n",
              "\n",
              "    .dataframe thead th {\n",
              "        text-align: right;\n",
              "    }\n",
              "</style>\n",
              "<table border=\"1\" class=\"dataframe\">\n",
              "  <thead>\n",
              "    <tr style=\"text-align: right;\">\n",
              "      <th></th>\n",
              "      <th>name</th>\n",
              "      <th>cnt_employers</th>\n",
              "    </tr>\n",
              "  </thead>\n",
              "  <tbody>\n",
              "    <tr>\n",
              "      <th>0</th>\n",
              "      <td>Россия</td>\n",
              "      <td>410</td>\n",
              "    </tr>\n",
              "    <tr>\n",
              "      <th>1</th>\n",
              "      <td>Казахстан</td>\n",
              "      <td>207</td>\n",
              "    </tr>\n",
              "    <tr>\n",
              "      <th>2</th>\n",
              "      <td>Московская область</td>\n",
              "      <td>75</td>\n",
              "    </tr>\n",
              "    <tr>\n",
              "      <th>3</th>\n",
              "      <td>Краснодарский край</td>\n",
              "      <td>19</td>\n",
              "    </tr>\n",
              "    <tr>\n",
              "      <th>4</th>\n",
              "      <td>Беларусь</td>\n",
              "      <td>18</td>\n",
              "    </tr>\n",
              "    <tr>\n",
              "      <th>...</th>\n",
              "      <td>...</td>\n",
              "      <td>...</td>\n",
              "    </tr>\n",
              "    <tr>\n",
              "      <th>181</th>\n",
              "      <td>Витебская область</td>\n",
              "      <td>1</td>\n",
              "    </tr>\n",
              "    <tr>\n",
              "      <th>182</th>\n",
              "      <td>Ивацевичи</td>\n",
              "      <td>1</td>\n",
              "    </tr>\n",
              "    <tr>\n",
              "      <th>183</th>\n",
              "      <td>Дубровно</td>\n",
              "      <td>1</td>\n",
              "    </tr>\n",
              "    <tr>\n",
              "      <th>184</th>\n",
              "      <td>Буда-Кошелево</td>\n",
              "      <td>1</td>\n",
              "    </tr>\n",
              "    <tr>\n",
              "      <th>185</th>\n",
              "      <td>Сморгонь</td>\n",
              "      <td>1</td>\n",
              "    </tr>\n",
              "  </tbody>\n",
              "</table>\n",
              "<p>186 rows × 2 columns</p>\n",
              "</div>"
            ],
            "text/plain": [
              "                   name  cnt_employers\n",
              "0                Россия            410\n",
              "1             Казахстан            207\n",
              "2    Московская область             75\n",
              "3    Краснодарский край             19\n",
              "4              Беларусь             18\n",
              "..                  ...            ...\n",
              "181   Витебская область              1\n",
              "182           Ивацевичи              1\n",
              "183            Дубровно              1\n",
              "184       Буда-Кошелево              1\n",
              "185            Сморгонь              1\n",
              "\n",
              "[186 rows x 2 columns]"
            ]
          },
          "execution_count": 77,
          "metadata": {},
          "output_type": "execute_result"
        }
      ],
      "source": [
        "df = pd.read_sql_query(query_5_2, connection)\n",
        "display('Number of employers in regions which don''t have job openings:')\n",
        "df"
      ]
    },
    {
      "cell_type": "markdown",
      "id": "f2fe0acb-ab1a-4e15-9326-2560e22d73c1",
      "metadata": {
        "id": "f2fe0acb-ab1a-4e15-9326-2560e22d73c1"
      },
      "source": [
        "3. For each employer count the number of areas in which this employer publishes the job openings. Order the results by the number of areas  descending.\n"
      ]
    },
    {
      "cell_type": "code",
      "execution_count": 78,
      "id": "6271f8ad-bd2e-4196-ae4a-5b39c4c1010e",
      "metadata": {
        "id": "6271f8ad-bd2e-4196-ae4a-5b39c4c1010e"
      },
      "outputs": [],
      "source": [
        "query_5_3 = f'''\n",
        "    SELECT\n",
        "        e.name,\n",
        "        COUNT(DISTINCT v.area_id) AS cnt\n",
        "    FROM\n",
        "        public.vacancies AS v\n",
        "        JOIN public.employers AS e ON v.employer_id = e.id\n",
        "    GROUP BY\n",
        "        e.id\n",
        "    ORDER BY\n",
        "        cnt DESC\n",
        "'''"
      ]
    },
    {
      "cell_type": "code",
      "execution_count": 79,
      "id": "1EIvX3HasH4F",
      "metadata": {
        "id": "1EIvX3HasH4F"
      },
      "outputs": [
        {
          "data": {
            "text/plain": [
              "'Number of areas per employer:'"
            ]
          },
          "metadata": {},
          "output_type": "display_data"
        },
        {
          "data": {
            "text/html": [
              "<div>\n",
              "<style scoped>\n",
              "    .dataframe tbody tr th:only-of-type {\n",
              "        vertical-align: middle;\n",
              "    }\n",
              "\n",
              "    .dataframe tbody tr th {\n",
              "        vertical-align: top;\n",
              "    }\n",
              "\n",
              "    .dataframe thead th {\n",
              "        text-align: right;\n",
              "    }\n",
              "</style>\n",
              "<table border=\"1\" class=\"dataframe\">\n",
              "  <thead>\n",
              "    <tr style=\"text-align: right;\">\n",
              "      <th></th>\n",
              "      <th>name</th>\n",
              "      <th>cnt</th>\n",
              "    </tr>\n",
              "  </thead>\n",
              "  <tbody>\n",
              "    <tr>\n",
              "      <th>0</th>\n",
              "      <td>Яндекс</td>\n",
              "      <td>181</td>\n",
              "    </tr>\n",
              "    <tr>\n",
              "      <th>1</th>\n",
              "      <td>Ростелеком</td>\n",
              "      <td>152</td>\n",
              "    </tr>\n",
              "    <tr>\n",
              "      <th>2</th>\n",
              "      <td>Спецремонт</td>\n",
              "      <td>116</td>\n",
              "    </tr>\n",
              "    <tr>\n",
              "      <th>3</th>\n",
              "      <td>Поляков Денис Иванович</td>\n",
              "      <td>88</td>\n",
              "    </tr>\n",
              "    <tr>\n",
              "      <th>4</th>\n",
              "      <td>ООО ЕФИН</td>\n",
              "      <td>71</td>\n",
              "    </tr>\n",
              "    <tr>\n",
              "      <th>...</th>\n",
              "      <td>...</td>\n",
              "      <td>...</td>\n",
              "    </tr>\n",
              "    <tr>\n",
              "      <th>14901</th>\n",
              "      <td>НПП Авиатрон</td>\n",
              "      <td>1</td>\n",
              "    </tr>\n",
              "    <tr>\n",
              "      <th>14902</th>\n",
              "      <td>Центр дистанционных торгов</td>\n",
              "      <td>1</td>\n",
              "    </tr>\n",
              "    <tr>\n",
              "      <th>14903</th>\n",
              "      <td>Городские Телекоммуникационные Системы</td>\n",
              "      <td>1</td>\n",
              "    </tr>\n",
              "    <tr>\n",
              "      <th>14904</th>\n",
              "      <td>Введенский, Отель</td>\n",
              "      <td>1</td>\n",
              "    </tr>\n",
              "    <tr>\n",
              "      <th>14905</th>\n",
              "      <td>Группа Компаний Автоимпорт</td>\n",
              "      <td>1</td>\n",
              "    </tr>\n",
              "  </tbody>\n",
              "</table>\n",
              "<p>14906 rows × 2 columns</p>\n",
              "</div>"
            ],
            "text/plain": [
              "                                         name  cnt\n",
              "0                                      Яндекс  181\n",
              "1                                  Ростелеком  152\n",
              "2                                  Спецремонт  116\n",
              "3                      Поляков Денис Иванович   88\n",
              "4                                   ООО ЕФИН    71\n",
              "...                                       ...  ...\n",
              "14901                            НПП Авиатрон    1\n",
              "14902              Центр дистанционных торгов    1\n",
              "14903  Городские Телекоммуникационные Системы    1\n",
              "14904                       Введенский, Отель    1\n",
              "14905              Группа Компаний Автоимпорт    1\n",
              "\n",
              "[14906 rows x 2 columns]"
            ]
          },
          "execution_count": 79,
          "metadata": {},
          "output_type": "execute_result"
        }
      ],
      "source": [
        "df = pd.read_sql_query(query_5_3, connection)\n",
        "display('Number of areas per employer:')\n",
        "df"
      ]
    },
    {
      "cell_type": "markdown",
      "id": "eab2206d-d95b-468b-8e5f-34381abf0ce7",
      "metadata": {
        "id": "eab2206d-d95b-468b-8e5f-34381abf0ce7"
      },
      "source": [
        "4. Write a query to count the number of employers for which the industry is not specified."
      ]
    },
    {
      "cell_type": "code",
      "execution_count": 80,
      "id": "80defb23-bfb1-4a18-8be6-bf36aa7165d5",
      "metadata": {
        "id": "80defb23-bfb1-4a18-8be6-bf36aa7165d5"
      },
      "outputs": [],
      "source": [
        "query_5_4 = f'''\n",
        "    SELECT\n",
        "        COUNT(*) AS cnt\n",
        "    FROM\n",
        "        public.employers AS e\n",
        "        LEFT JOIN public.employers_industries AS ei ON e.id = ei.employer_id\n",
        "    WHERE\n",
        "        ei.industry_id IS NULL\n",
        "'''"
      ]
    },
    {
      "cell_type": "code",
      "execution_count": 81,
      "id": "Dp_yCx6ysQSu",
      "metadata": {
        "id": "Dp_yCx6ysQSu"
      },
      "outputs": [
        {
          "data": {
            "text/plain": [
              "'Number of employers without industries:'"
            ]
          },
          "metadata": {},
          "output_type": "display_data"
        },
        {
          "data": {
            "text/html": [
              "<div>\n",
              "<style scoped>\n",
              "    .dataframe tbody tr th:only-of-type {\n",
              "        vertical-align: middle;\n",
              "    }\n",
              "\n",
              "    .dataframe tbody tr th {\n",
              "        vertical-align: top;\n",
              "    }\n",
              "\n",
              "    .dataframe thead th {\n",
              "        text-align: right;\n",
              "    }\n",
              "</style>\n",
              "<table border=\"1\" class=\"dataframe\">\n",
              "  <thead>\n",
              "    <tr style=\"text-align: right;\">\n",
              "      <th></th>\n",
              "      <th>cnt</th>\n",
              "    </tr>\n",
              "  </thead>\n",
              "  <tbody>\n",
              "    <tr>\n",
              "      <th>0</th>\n",
              "      <td>8419</td>\n",
              "    </tr>\n",
              "  </tbody>\n",
              "</table>\n",
              "</div>"
            ],
            "text/plain": [
              "    cnt\n",
              "0  8419"
            ]
          },
          "execution_count": 81,
          "metadata": {},
          "output_type": "execute_result"
        }
      ],
      "source": [
        "df = pd.read_sql_query(query_5_4, connection)\n",
        "display('Number of employers without industries:')\n",
        "df"
      ]
    },
    {
      "cell_type": "markdown",
      "id": "0112af31-f6b0-4e3b-82ab-71296e752e5e",
      "metadata": {
        "id": "0112af31-f6b0-4e3b-82ab-71296e752e5e"
      },
      "source": [
        "5. Write a query to get the employer company name ranked third in the list of the employers which are active in four industries, ordered by name."
      ]
    },
    {
      "cell_type": "code",
      "execution_count": 82,
      "id": "973b0cfc-a972-470a-8b4a-68744ef220c4",
      "metadata": {
        "id": "973b0cfc-a972-470a-8b4a-68744ef220c4"
      },
      "outputs": [],
      "source": [
        "query_5_5 = f'''\n",
        "    SELECT\n",
        "        e.name\n",
        "    FROM\n",
        "        public.employers AS e\n",
        "        JOIN public.employers_industries AS ei ON e.id = ei.employer_id\n",
        "    GROUP BY\n",
        "        e.id\n",
        "    HAVING\n",
        "        COUNT(ei.industry_id) = 4\n",
        "    ORDER BY\n",
        "        e.name\n",
        "'''"
      ]
    },
    {
      "cell_type": "code",
      "execution_count": 83,
      "id": "xsPtpp8EsaED",
      "metadata": {
        "id": "xsPtpp8EsaED"
      },
      "outputs": [
        {
          "data": {
            "text/plain": [
              "'Employers active in four industries:'"
            ]
          },
          "metadata": {},
          "output_type": "display_data"
        },
        {
          "data": {
            "text/html": [
              "<div>\n",
              "<style scoped>\n",
              "    .dataframe tbody tr th:only-of-type {\n",
              "        vertical-align: middle;\n",
              "    }\n",
              "\n",
              "    .dataframe tbody tr th {\n",
              "        vertical-align: top;\n",
              "    }\n",
              "\n",
              "    .dataframe thead th {\n",
              "        text-align: right;\n",
              "    }\n",
              "</style>\n",
              "<table border=\"1\" class=\"dataframe\">\n",
              "  <thead>\n",
              "    <tr style=\"text-align: right;\">\n",
              "      <th></th>\n",
              "      <th>name</th>\n",
              "    </tr>\n",
              "  </thead>\n",
              "  <tbody>\n",
              "    <tr>\n",
              "      <th>0</th>\n",
              "      <td>101 Интернет</td>\n",
              "    </tr>\n",
              "    <tr>\n",
              "      <th>1</th>\n",
              "      <td>21vek.by</td>\n",
              "    </tr>\n",
              "    <tr>\n",
              "      <th>2</th>\n",
              "      <td>2ГИС</td>\n",
              "    </tr>\n",
              "    <tr>\n",
              "      <th>3</th>\n",
              "      <td>2К</td>\n",
              "    </tr>\n",
              "    <tr>\n",
              "      <th>4</th>\n",
              "      <td>4 пикселя +</td>\n",
              "    </tr>\n",
              "    <tr>\n",
              "      <th>...</th>\n",
              "      <td>...</td>\n",
              "    </tr>\n",
              "    <tr>\n",
              "      <th>1133</th>\n",
              "      <td>ЮРИОН</td>\n",
              "    </tr>\n",
              "    <tr>\n",
              "      <th>1134</th>\n",
              "      <td>ЮТИП Технологии</td>\n",
              "    </tr>\n",
              "    <tr>\n",
              "      <th>1135</th>\n",
              "      <td>ЯКласс</td>\n",
              "    </tr>\n",
              "    <tr>\n",
              "      <th>1136</th>\n",
              "      <td>ЯрНео</td>\n",
              "    </tr>\n",
              "    <tr>\n",
              "      <th>1137</th>\n",
              "      <td>Яшин&amp;Партнёры</td>\n",
              "    </tr>\n",
              "  </tbody>\n",
              "</table>\n",
              "<p>1138 rows × 1 columns</p>\n",
              "</div>"
            ],
            "text/plain": [
              "                 name\n",
              "0        101 Интернет\n",
              "1            21vek.by\n",
              "2                2ГИС\n",
              "3                  2К\n",
              "4         4 пикселя +\n",
              "...               ...\n",
              "1133            ЮРИОН\n",
              "1134  ЮТИП Технологии\n",
              "1135           ЯКласс\n",
              "1136            ЯрНео\n",
              "1137    Яшин&Партнёры\n",
              "\n",
              "[1138 rows x 1 columns]"
            ]
          },
          "execution_count": 83,
          "metadata": {},
          "output_type": "execute_result"
        }
      ],
      "source": [
        "df = pd.read_sql_query(query_5_5, connection)\n",
        "display('Employers active in four industries:')\n",
        "df"
      ]
    },
    {
      "cell_type": "markdown",
      "id": "3bfcfdaf-755d-4d2b-8ed8-326201dc07ab",
      "metadata": {
        "id": "3bfcfdaf-755d-4d2b-8ed8-326201dc07ab"
      },
      "source": [
        "6. Write a query to determine the number of employers which are active in the software development industry."
      ]
    },
    {
      "cell_type": "code",
      "execution_count": 84,
      "id": "ad3f270f-2991-47eb-929b-e8f88a55b0d1",
      "metadata": {
        "id": "ad3f270f-2991-47eb-929b-e8f88a55b0d1"
      },
      "outputs": [],
      "source": [
        "query_5_6 = f'''\n",
        "    SELECT\n",
        "        COUNT(DISTINCT e.id) AS cnt\n",
        "    FROM\n",
        "        public.employers AS e\n",
        "        JOIN public.employers_industries AS ei ON e.id = ei.employer_id\n",
        "        JOIN public.industries AS i ON ei.industry_id = i.id\n",
        "    WHERE\n",
        "        i.name = 'Разработка программного обеспечения'\n",
        "'''"
      ]
    },
    {
      "cell_type": "code",
      "execution_count": 85,
      "id": "H72qxWM0shPR",
      "metadata": {
        "id": "H72qxWM0shPR"
      },
      "outputs": [
        {
          "data": {
            "text/plain": [
              "'Number of employers which are active in software development:'"
            ]
          },
          "metadata": {},
          "output_type": "display_data"
        },
        {
          "data": {
            "text/html": [
              "<div>\n",
              "<style scoped>\n",
              "    .dataframe tbody tr th:only-of-type {\n",
              "        vertical-align: middle;\n",
              "    }\n",
              "\n",
              "    .dataframe tbody tr th {\n",
              "        vertical-align: top;\n",
              "    }\n",
              "\n",
              "    .dataframe thead th {\n",
              "        text-align: right;\n",
              "    }\n",
              "</style>\n",
              "<table border=\"1\" class=\"dataframe\">\n",
              "  <thead>\n",
              "    <tr style=\"text-align: right;\">\n",
              "      <th></th>\n",
              "      <th>cnt</th>\n",
              "    </tr>\n",
              "  </thead>\n",
              "  <tbody>\n",
              "    <tr>\n",
              "      <th>0</th>\n",
              "      <td>3553</td>\n",
              "    </tr>\n",
              "  </tbody>\n",
              "</table>\n",
              "</div>"
            ],
            "text/plain": [
              "    cnt\n",
              "0  3553"
            ]
          },
          "execution_count": 85,
          "metadata": {},
          "output_type": "execute_result"
        }
      ],
      "source": [
        "df = pd.read_sql_query(query_5_6, connection)\n",
        "display('Number of employers which are active in software development:')\n",
        "df"
      ]
    },
    {
      "cell_type": "markdown",
      "id": "7b02bb86-0546-40fb-94a4-242f050a5c57",
      "metadata": {
        "id": "7b02bb86-0546-40fb-94a4-242f050a5c57"
      },
      "source": [
        "7. For the company \"Yandex\" determine the list of million-areas, in which there are job openings of the company. Also get the number of job openings in each of these areas. Add a row with the total number of company's job openings. Order the results by number.\n",
        "\n",
        "The list of the million-cities can be taken from [here](https://ru.wikipedia.org/wiki/%D0%93%D0%BE%D1%80%D0%BE%D0%B4%D0%B0-%D0%BC%D0%B8%D0%BB%D0%BB%D0%B8%D0%BE%D0%BD%D0%B5%D1%80%D1%8B_%D0%A0%D0%BE%D1%81%D1%81%D0%B8%D0%B8). "
      ]
    },
    {
      "cell_type": "code",
      "execution_count": 86,
      "id": "ZdfrL6gIs1Pn",
      "metadata": {
        "id": "ZdfrL6gIs1Pn"
      },
      "outputs": [
        {
          "data": {
            "text/plain": [
              "['Москва',\n",
              " 'Санкт-Петербург',\n",
              " 'Новосибирск',\n",
              " 'Екатеринбург',\n",
              " 'Казань',\n",
              " 'Нижний Новгород',\n",
              " 'Красноярск',\n",
              " 'Челябинск',\n",
              " 'Самара',\n",
              " 'Уфа',\n",
              " 'Ростов-на-Дону',\n",
              " 'Краснодар',\n",
              " 'Омск',\n",
              " 'Воронеж',\n",
              " 'Пермь',\n",
              " 'Волгоград']"
            ]
          },
          "execution_count": 86,
          "metadata": {},
          "output_type": "execute_result"
        }
      ],
      "source": [
        "million_areas = []\n",
        "\n",
        "url = 'https://ru.wikipedia.org/wiki/%D0%93%D0%BE%D1%80%D0%BE%D0%B4%D0%B0-%D0%BC%D0%B8%D0%BB%D0%BB%D0%B8%D0%BE%D0%BD%D0%B5%D1%80%D1%8B_%D0%A0%D0%BE%D1%81%D1%81%D0%B8%D0%B8'\n",
        "\n",
        "response = requests.get(url)\n",
        "page = BeautifulSoup(response.text, 'html.parser')\n",
        "for tr in page.find_all('tbody')[1].find_all('tr')[1:]:\n",
        "    million_areas.append(tr.find('a').text)\n",
        "\n",
        "million_areas"
      ]
    },
    {
      "cell_type": "code",
      "execution_count": 87,
      "id": "5a0e32a4-e68a-4365-8a39-2fe24c542c36",
      "metadata": {
        "id": "5a0e32a4-e68a-4365-8a39-2fe24c542c36"
      },
      "outputs": [],
      "source": [
        "query_5_7 = f'''\n",
        "    SELECT\n",
        "        a.name,\n",
        "        COUNT(*) AS cnt\n",
        "    FROM\n",
        "        public.vacancies AS v\n",
        "        JOIN public.areas AS a ON v.area_id = a.id\n",
        "        JOIN public.employers AS e ON v.employer_id = e.id\n",
        "    WHERE\n",
        "        e.name = 'Яндекс'\n",
        "        AND a.name IN ('{'\\', \\''.join(million_areas)}')\n",
        "    GROUP BY\n",
        "        a.id\n",
        "    UNION\n",
        "    SELECT\n",
        "        'Total',\n",
        "        COUNT(*) AS cnt\n",
        "    FROM\n",
        "        public.vacancies AS v\n",
        "        JOIN public.areas AS a ON v.area_id = a.id\n",
        "        JOIN public.employers AS e ON v.employer_id = e.id\n",
        "    WHERE\n",
        "        e.name = 'Яндекс'\n",
        "        AND a.name IN ('{'\\', \\''.join(million_areas)}')\n",
        "    ORDER BY\n",
        "        cnt\n",
        "'''"
      ]
    },
    {
      "cell_type": "code",
      "execution_count": 88,
      "id": "ttPhiO1rsvPq",
      "metadata": {
        "id": "ttPhiO1rsvPq"
      },
      "outputs": [
        {
          "data": {
            "text/plain": [
              "'Yandex job openings in the million-areas:'"
            ]
          },
          "metadata": {},
          "output_type": "display_data"
        },
        {
          "data": {
            "text/html": [
              "<div>\n",
              "<style scoped>\n",
              "    .dataframe tbody tr th:only-of-type {\n",
              "        vertical-align: middle;\n",
              "    }\n",
              "\n",
              "    .dataframe tbody tr th {\n",
              "        vertical-align: top;\n",
              "    }\n",
              "\n",
              "    .dataframe thead th {\n",
              "        text-align: right;\n",
              "    }\n",
              "</style>\n",
              "<table border=\"1\" class=\"dataframe\">\n",
              "  <thead>\n",
              "    <tr style=\"text-align: right;\">\n",
              "      <th></th>\n",
              "      <th>name</th>\n",
              "      <th>cnt</th>\n",
              "    </tr>\n",
              "  </thead>\n",
              "  <tbody>\n",
              "    <tr>\n",
              "      <th>0</th>\n",
              "      <td>Омск</td>\n",
              "      <td>21</td>\n",
              "    </tr>\n",
              "    <tr>\n",
              "      <th>1</th>\n",
              "      <td>Челябинск</td>\n",
              "      <td>22</td>\n",
              "    </tr>\n",
              "    <tr>\n",
              "      <th>2</th>\n",
              "      <td>Красноярск</td>\n",
              "      <td>23</td>\n",
              "    </tr>\n",
              "    <tr>\n",
              "      <th>3</th>\n",
              "      <td>Волгоград</td>\n",
              "      <td>24</td>\n",
              "    </tr>\n",
              "    <tr>\n",
              "      <th>4</th>\n",
              "      <td>Пермь</td>\n",
              "      <td>25</td>\n",
              "    </tr>\n",
              "    <tr>\n",
              "      <th>5</th>\n",
              "      <td>Казань</td>\n",
              "      <td>25</td>\n",
              "    </tr>\n",
              "    <tr>\n",
              "      <th>6</th>\n",
              "      <td>Ростов-на-Дону</td>\n",
              "      <td>25</td>\n",
              "    </tr>\n",
              "    <tr>\n",
              "      <th>7</th>\n",
              "      <td>Уфа</td>\n",
              "      <td>26</td>\n",
              "    </tr>\n",
              "    <tr>\n",
              "      <th>8</th>\n",
              "      <td>Самара</td>\n",
              "      <td>26</td>\n",
              "    </tr>\n",
              "    <tr>\n",
              "      <th>9</th>\n",
              "      <td>Краснодар</td>\n",
              "      <td>30</td>\n",
              "    </tr>\n",
              "    <tr>\n",
              "      <th>10</th>\n",
              "      <td>Воронеж</td>\n",
              "      <td>32</td>\n",
              "    </tr>\n",
              "    <tr>\n",
              "      <th>11</th>\n",
              "      <td>Новосибирск</td>\n",
              "      <td>35</td>\n",
              "    </tr>\n",
              "    <tr>\n",
              "      <th>12</th>\n",
              "      <td>Нижний Новгород</td>\n",
              "      <td>36</td>\n",
              "    </tr>\n",
              "    <tr>\n",
              "      <th>13</th>\n",
              "      <td>Екатеринбург</td>\n",
              "      <td>39</td>\n",
              "    </tr>\n",
              "    <tr>\n",
              "      <th>14</th>\n",
              "      <td>Санкт-Петербург</td>\n",
              "      <td>42</td>\n",
              "    </tr>\n",
              "    <tr>\n",
              "      <th>15</th>\n",
              "      <td>Москва</td>\n",
              "      <td>54</td>\n",
              "    </tr>\n",
              "    <tr>\n",
              "      <th>16</th>\n",
              "      <td>Total</td>\n",
              "      <td>485</td>\n",
              "    </tr>\n",
              "  </tbody>\n",
              "</table>\n",
              "</div>"
            ],
            "text/plain": [
              "               name  cnt\n",
              "0              Омск   21\n",
              "1         Челябинск   22\n",
              "2        Красноярск   23\n",
              "3         Волгоград   24\n",
              "4             Пермь   25\n",
              "5            Казань   25\n",
              "6    Ростов-на-Дону   25\n",
              "7               Уфа   26\n",
              "8            Самара   26\n",
              "9         Краснодар   30\n",
              "10          Воронеж   32\n",
              "11      Новосибирск   35\n",
              "12  Нижний Новгород   36\n",
              "13     Екатеринбург   39\n",
              "14  Санкт-Петербург   42\n",
              "15           Москва   54\n",
              "16            Total  485"
            ]
          },
          "execution_count": 88,
          "metadata": {},
          "output_type": "execute_result"
        }
      ],
      "source": [
        "df = pd.read_sql_query(query_5_7, connection)\n",
        "display('Yandex job openings in the million-areas:')\n",
        "df"
      ]
    },
    {
      "cell_type": "markdown",
      "id": "04966e40-3bc3-4dc8-9ba2-e80580ce3abc",
      "metadata": {
        "id": "04966e40-3bc3-4dc8-9ba2-e80580ce3abc"
      },
      "source": [
        "***"
      ]
    },
    {
      "cell_type": "markdown",
      "id": "a6ae79f8",
      "metadata": {},
      "source": [
        "## Results of employer analysis\n",
        "* A previous assumption that there are on average 2 job openings per employer turned out to be wrong. Top employer has around two thousand job openings, employers 2 - 5 have over 300 job openings. This means that thousands of employers have just one job opening.\n",
        "* Further analysis shows that there are areas which don't have any job openings and there are hundreds of registered employers which don't have any job openings.\n",
        "* Some larger employers have job openings in more than a hunderd areas. They are really profiting from the platforms like HeadHunter, because with a single platform they can target a broad set of areas.\n",
        "* For around 1/3 of employers the industries are not specified. I would recommend to fill this gap to enhance search over their job openings.\n",
        "* On the other hand there are over 1000 employers who specify four industries. They would be found in the job searches for those industries, which makes their job campaigns more efficient.\n",
        "* Around 7% of the employers are active in software development. This confirms that HeadHunter is not a niche platform for the IT industry.\n",
        "* Yandex as the market leader in terms of the job openings has open positions in all million-areas in Russia. I think this means that Moscow and Saint-Petersburg are not supplying enough talent to Yandex and the company has to expand and seek for the talent country-wide."
      ]
    },
    {
      "cell_type": "markdown",
      "id": "b1ef156a-efcb-49ce-bb23-90763e7f35b2",
      "metadata": {
        "id": "b1ef156a-efcb-49ce-bb23-90763e7f35b2",
        "tags": []
      },
      "source": [
        "# Unit 6. Data science job openings analysis"
      ]
    },
    {
      "cell_type": "markdown",
      "id": "b9cd50a0-992d-4988-8463-2b2b1c4629b4",
      "metadata": {
        "id": "b9cd50a0-992d-4988-8463-2b2b1c4629b4"
      },
      "source": [
        "1. How many job openings are realted to data?\n",
        "\n",
        "We consider a job opening related to data if its title has the words 'data' or 'данн' (rus: 'data')."
      ]
    },
    {
      "cell_type": "code",
      "execution_count": 89,
      "id": "54ab0e50-c0f1-47cc-a54b-bc5c8bc363f9",
      "metadata": {
        "id": "54ab0e50-c0f1-47cc-a54b-bc5c8bc363f9"
      },
      "outputs": [],
      "source": [
        "query_6_1 = f'''\n",
        "    SELECT\n",
        "        COUNT(*)\n",
        "    FROM\n",
        "        public.vacancies\n",
        "    WHERE\n",
        "        LOWER(name) LIKE '%data%'\n",
        "        OR LOWER(name) LIKE '%данн%'\n",
        "'''"
      ]
    },
    {
      "cell_type": "code",
      "execution_count": 90,
      "id": "9F1meAqsuUjd",
      "metadata": {
        "id": "9F1meAqsuUjd"
      },
      "outputs": [
        {
          "data": {
            "text/plain": [
              "'Number of job openings related to data:'"
            ]
          },
          "metadata": {},
          "output_type": "display_data"
        },
        {
          "data": {
            "text/html": [
              "<div>\n",
              "<style scoped>\n",
              "    .dataframe tbody tr th:only-of-type {\n",
              "        vertical-align: middle;\n",
              "    }\n",
              "\n",
              "    .dataframe tbody tr th {\n",
              "        vertical-align: top;\n",
              "    }\n",
              "\n",
              "    .dataframe thead th {\n",
              "        text-align: right;\n",
              "    }\n",
              "</style>\n",
              "<table border=\"1\" class=\"dataframe\">\n",
              "  <thead>\n",
              "    <tr style=\"text-align: right;\">\n",
              "      <th></th>\n",
              "      <th>count</th>\n",
              "    </tr>\n",
              "  </thead>\n",
              "  <tbody>\n",
              "    <tr>\n",
              "      <th>0</th>\n",
              "      <td>1771</td>\n",
              "    </tr>\n",
              "  </tbody>\n",
              "</table>\n",
              "</div>"
            ],
            "text/plain": [
              "   count\n",
              "0   1771"
            ]
          },
          "execution_count": 90,
          "metadata": {},
          "output_type": "execute_result"
        }
      ],
      "source": [
        "df = pd.read_sql_query(query_6_1, connection)\n",
        "display('Number of job openings related to data:')\n",
        "df"
      ]
    },
    {
      "cell_type": "markdown",
      "id": "4dea20cb-a36b-474a-a0b9-e08e8e3857a5",
      "metadata": {
        "id": "4dea20cb-a36b-474a-a0b9-e08e8e3857a5"
      },
      "source": [
        "2. How many job openings for a junior data scientist are available?\n",
        "\n",
        "A job opening is a data scientist one if its title contains one of the following phrases:\n",
        "* 'data scientist'\n",
        "* 'data science'\n",
        "* 'исследователь данных' (rus: 'data researcher')\n",
        "* 'ML' (don't include job openings for HTMML)\n",
        "* 'machine learning'\n",
        "* 'машинн%обучен%' (rus: 'machine learning')\n",
        "\n",
        "Job openings for the junior level are the following ones:\n",
        "* job title contains the word 'junior' or\n",
        "* required experience is 'Нет опыта' (rus: 'no experience') or\n",
        "* type of employment is 'Стажировка' (rus: 'internship')"
      ]
    },
    {
      "cell_type": "code",
      "execution_count": 91,
      "id": "9c61b3c0-bb66-46c9-ae1e-81d3f5752b4a",
      "metadata": {
        "id": "9c61b3c0-bb66-46c9-ae1e-81d3f5752b4a"
      },
      "outputs": [],
      "source": [
        "query_6_2 = f'''\n",
        "    SELECT\n",
        "        COUNT(*)\n",
        "    FROM\n",
        "        public.vacancies\n",
        "    WHERE\n",
        "        (\n",
        "            LOWER(name) LIKE '%data scientist%'\n",
        "            OR LOWER(name) LIKE '%data science%'\n",
        "            OR LOWER(name) LIKE '%исследователь данных%'\n",
        "            OR LOWER(name) LIKE '%ml%' AND LOWER(name) NOT LIKE '%html%'\n",
        "            OR LOWER(name) LIKE '%machine learning%'\n",
        "            OR LOWER(name) LIKE '%машинн%обучен%%'\n",
        "        )\n",
        "        AND (\n",
        "            LOWER(name) LIKE '%junior%'\n",
        "            OR experience = 'Нет опыта'\n",
        "            OR employment = 'Стажировка'\n",
        "        )\n",
        "'''"
      ]
    },
    {
      "cell_type": "code",
      "execution_count": 92,
      "id": "ZNM-LLYuu1dj",
      "metadata": {
        "id": "ZNM-LLYuu1dj"
      },
      "outputs": [
        {
          "data": {
            "text/plain": [
              "'Number of job openings for a junior data scientist:'"
            ]
          },
          "metadata": {},
          "output_type": "display_data"
        },
        {
          "data": {
            "text/html": [
              "<div>\n",
              "<style scoped>\n",
              "    .dataframe tbody tr th:only-of-type {\n",
              "        vertical-align: middle;\n",
              "    }\n",
              "\n",
              "    .dataframe tbody tr th {\n",
              "        vertical-align: top;\n",
              "    }\n",
              "\n",
              "    .dataframe thead th {\n",
              "        text-align: right;\n",
              "    }\n",
              "</style>\n",
              "<table border=\"1\" class=\"dataframe\">\n",
              "  <thead>\n",
              "    <tr style=\"text-align: right;\">\n",
              "      <th></th>\n",
              "      <th>count</th>\n",
              "    </tr>\n",
              "  </thead>\n",
              "  <tbody>\n",
              "    <tr>\n",
              "      <th>0</th>\n",
              "      <td>51</td>\n",
              "    </tr>\n",
              "  </tbody>\n",
              "</table>\n",
              "</div>"
            ],
            "text/plain": [
              "   count\n",
              "0     51"
            ]
          },
          "execution_count": 92,
          "metadata": {},
          "output_type": "execute_result"
        }
      ],
      "source": [
        "df = pd.read_sql_query(query_6_2, connection)\n",
        "display('Number of job openings for a junior data scientist:')\n",
        "df"
      ]
    },
    {
      "cell_type": "markdown",
      "id": "eedceb80-c5ca-480e-b27a-278dfb8b4438",
      "metadata": {
        "id": "eedceb80-c5ca-480e-b27a-278dfb8b4438"
      },
      "source": [
        "3. How many data scientist job openings are available, which have SQL or postgres as a key skill?\n",
        "\n",
        "Use the same DS criteria as in the previous task."
      ]
    },
    {
      "cell_type": "code",
      "execution_count": 93,
      "id": "69621713-0cc5-4f1b-a1d7-bb144fa6148c",
      "metadata": {
        "id": "69621713-0cc5-4f1b-a1d7-bb144fa6148c"
      },
      "outputs": [],
      "source": [
        "query_6_3 = f'''\n",
        "    SELECT\n",
        "        COUNT(*)\n",
        "    FROM\n",
        "        public.vacancies\n",
        "    WHERE\n",
        "        (\n",
        "            LOWER(name) LIKE '%data scientist%'\n",
        "            OR LOWER(name) LIKE '%data science%'\n",
        "            OR LOWER(name) LIKE '%исследователь данных%'\n",
        "            OR LOWER(name) LIKE '%ml%' AND LOWER(name) NOT LIKE '%html%'\n",
        "            OR LOWER(name) LIKE '%machine learning%'\n",
        "            OR LOWER(name) LIKE '%машинн%обучен%%'\n",
        "        )\n",
        "        AND (\n",
        "            key_skills LIKE '%SQL%'\n",
        "            OR key_skills LIKE '%postgres%'\n",
        "        ) \n",
        "'''"
      ]
    },
    {
      "cell_type": "code",
      "execution_count": 94,
      "id": "alA8WEAAvGdf",
      "metadata": {
        "id": "alA8WEAAvGdf"
      },
      "outputs": [
        {
          "data": {
            "text/plain": [
              "'Number of data science job openings with key skill SQL or postgres:'"
            ]
          },
          "metadata": {},
          "output_type": "display_data"
        },
        {
          "data": {
            "text/html": [
              "<div>\n",
              "<style scoped>\n",
              "    .dataframe tbody tr th:only-of-type {\n",
              "        vertical-align: middle;\n",
              "    }\n",
              "\n",
              "    .dataframe tbody tr th {\n",
              "        vertical-align: top;\n",
              "    }\n",
              "\n",
              "    .dataframe thead th {\n",
              "        text-align: right;\n",
              "    }\n",
              "</style>\n",
              "<table border=\"1\" class=\"dataframe\">\n",
              "  <thead>\n",
              "    <tr style=\"text-align: right;\">\n",
              "      <th></th>\n",
              "      <th>count</th>\n",
              "    </tr>\n",
              "  </thead>\n",
              "  <tbody>\n",
              "    <tr>\n",
              "      <th>0</th>\n",
              "      <td>229</td>\n",
              "    </tr>\n",
              "  </tbody>\n",
              "</table>\n",
              "</div>"
            ],
            "text/plain": [
              "   count\n",
              "0    229"
            ]
          },
          "execution_count": 94,
          "metadata": {},
          "output_type": "execute_result"
        }
      ],
      "source": [
        "df = pd.read_sql_query(query_6_3, connection)\n",
        "display('Number of data science job openings with key skill SQL or postgres:')\n",
        "df"
      ]
    },
    {
      "cell_type": "markdown",
      "id": "1be1e9c6-37cf-4a5f-bfeb-04cab799dc80",
      "metadata": {
        "id": "1be1e9c6-37cf-4a5f-bfeb-04cab799dc80"
      },
      "source": [
        "4. Check the frequency of Python in the DS skillset required for the employers. For that calculate the number of job openings in which 'Python' is specified as a key skill."
      ]
    },
    {
      "cell_type": "code",
      "execution_count": 95,
      "id": "0036a355-9ccf-4564-8b01-73d8194297e7",
      "metadata": {
        "id": "0036a355-9ccf-4564-8b01-73d8194297e7"
      },
      "outputs": [],
      "source": [
        "query_6_4 = f'''\n",
        "    SELECT\n",
        "        COUNT(*)\n",
        "    FROM\n",
        "        public.vacancies\n",
        "    WHERE\n",
        "        (\n",
        "            LOWER(name) LIKE '%data scientist%'\n",
        "            OR LOWER(name) LIKE '%data science%'\n",
        "            OR LOWER(name) LIKE '%исследователь данных%'\n",
        "            OR LOWER(name) LIKE '%ml%' AND LOWER(name) NOT LIKE '%html%'\n",
        "            OR LOWER(name) LIKE '%machine learning%'\n",
        "            OR LOWER(name) LIKE '%машинн%обучен%%'\n",
        "        )\n",
        "        AND (\n",
        "            lower(key_skills) LIKE '%python%'\n",
        "        ) \n",
        "'''"
      ]
    },
    {
      "cell_type": "code",
      "execution_count": 96,
      "id": "1i-5WyucvQ6v",
      "metadata": {
        "id": "1i-5WyucvQ6v"
      },
      "outputs": [
        {
          "data": {
            "text/plain": [
              "'Number of data science job openings with key skill Python:'"
            ]
          },
          "metadata": {},
          "output_type": "display_data"
        },
        {
          "data": {
            "text/html": [
              "<div>\n",
              "<style scoped>\n",
              "    .dataframe tbody tr th:only-of-type {\n",
              "        vertical-align: middle;\n",
              "    }\n",
              "\n",
              "    .dataframe tbody tr th {\n",
              "        vertical-align: top;\n",
              "    }\n",
              "\n",
              "    .dataframe thead th {\n",
              "        text-align: right;\n",
              "    }\n",
              "</style>\n",
              "<table border=\"1\" class=\"dataframe\">\n",
              "  <thead>\n",
              "    <tr style=\"text-align: right;\">\n",
              "      <th></th>\n",
              "      <th>count</th>\n",
              "    </tr>\n",
              "  </thead>\n",
              "  <tbody>\n",
              "    <tr>\n",
              "      <th>0</th>\n",
              "      <td>357</td>\n",
              "    </tr>\n",
              "  </tbody>\n",
              "</table>\n",
              "</div>"
            ],
            "text/plain": [
              "   count\n",
              "0    357"
            ]
          },
          "execution_count": 96,
          "metadata": {},
          "output_type": "execute_result"
        }
      ],
      "source": [
        "df = pd.read_sql_query(query_6_4, connection)\n",
        "display('Number of data science job openings with key skill Python:')\n",
        "df"
      ]
    },
    {
      "cell_type": "markdown",
      "id": "ec3c8db7-fa21-4a41-a994-1af63742a642",
      "metadata": {
        "id": "ec3c8db7-fa21-4a41-a994-1af63742a642"
      },
      "source": [
        "5. How many key skills are specified on average for the DS job openings? Round the result to two decimal digits."
      ]
    },
    {
      "cell_type": "code",
      "execution_count": 97,
      "id": "949132bc-d5b6-4611-8218-0b9a504d74f4",
      "metadata": {
        "id": "949132bc-d5b6-4611-8218-0b9a504d74f4"
      },
      "outputs": [],
      "source": [
        "query_6_5 = f'''\n",
        "    SELECT\n",
        "        ROUND(AVG(CARDINALITY(STRING_TO_ARRAY(key_skills, '\\t'))), 2) AS cnt_skills_avg\n",
        "    FROM\n",
        "        public.vacancies\n",
        "    WHERE\n",
        "        (\n",
        "            LOWER(name) LIKE '%data scientist%'\n",
        "            OR LOWER(name) LIKE '%data science%'\n",
        "            OR LOWER(name) LIKE '%исследователь данных%'\n",
        "            OR name LIKE '%ML%' AND name NOT LIKE '%HTML%'\n",
        "            OR LOWER(name) LIKE '%machine learning%'\n",
        "            OR LOWER(name) LIKE '%машинн%обучен%%'\n",
        "        )        \n",
        "'''"
      ]
    },
    {
      "cell_type": "code",
      "execution_count": 98,
      "id": "a3V24Tvmviqk",
      "metadata": {
        "id": "a3V24Tvmviqk"
      },
      "outputs": [
        {
          "data": {
            "text/plain": [
              "'Average number of key skills in DS job openings:'"
            ]
          },
          "metadata": {},
          "output_type": "display_data"
        },
        {
          "data": {
            "text/html": [
              "<div>\n",
              "<style scoped>\n",
              "    .dataframe tbody tr th:only-of-type {\n",
              "        vertical-align: middle;\n",
              "    }\n",
              "\n",
              "    .dataframe tbody tr th {\n",
              "        vertical-align: top;\n",
              "    }\n",
              "\n",
              "    .dataframe thead th {\n",
              "        text-align: right;\n",
              "    }\n",
              "</style>\n",
              "<table border=\"1\" class=\"dataframe\">\n",
              "  <thead>\n",
              "    <tr style=\"text-align: right;\">\n",
              "      <th></th>\n",
              "      <th>cnt_skills_avg</th>\n",
              "    </tr>\n",
              "  </thead>\n",
              "  <tbody>\n",
              "    <tr>\n",
              "      <th>0</th>\n",
              "      <td>6.41</td>\n",
              "    </tr>\n",
              "  </tbody>\n",
              "</table>\n",
              "</div>"
            ],
            "text/plain": [
              "   cnt_skills_avg\n",
              "0            6.41"
            ]
          },
          "execution_count": 98,
          "metadata": {},
          "output_type": "execute_result"
        }
      ],
      "source": [
        "df = pd.read_sql_query(query_6_5, connection)\n",
        "display('Average number of key skills in DS job openings:')\n",
        "df"
      ]
    },
    {
      "cell_type": "markdown",
      "id": "1041c17a-ca8f-4543-a0ca-32778914fb00",
      "metadata": {
        "id": "1041c17a-ca8f-4543-a0ca-32778914fb00"
      },
      "source": [
        "6. Write a query to determine the mean salary for DS job openings for each type of required work experience.\n",
        "\n",
        "While working on the task consider the following:\n",
        "1. Only pick the job openings which have a value in at least one of the salary fields ('salary_from' and 'salary_to').\n",
        "2. If both salary fields have a value, take their average, otherwise take the available field value.\n",
        "3. Use the function [coalesce](https://postgrespro.ru/docs/postgresql/9.5/functions-conditional#functions-coalesce-nvl-ifnull) to take an alternative value in case of NULL values.\n",
        "\n",
        "Find out on which average salary a DS with 3 to 6 years of experience can count. Round the result to a whole number."
      ]
    },
    {
      "cell_type": "code",
      "execution_count": 99,
      "id": "6a743d39-5204-48d3-8271-b9f88e68d40e",
      "metadata": {
        "id": "6a743d39-5204-48d3-8271-b9f88e68d40e"
      },
      "outputs": [],
      "source": [
        "query_6_6 = f'''\n",
        "    SELECT\n",
        "        experience,\n",
        "        ROUND(AVG(CASE\n",
        "            WhEN salary_from IS NOT NULL AND salary_to IS NOT NULL\n",
        "                THEN (salary_from + salary_to) / 2\n",
        "            ELSE COALESCE(salary_from, 0) + COALESCE(salary_to, 0)\n",
        "        END)) AS salary\n",
        "    FROM\n",
        "        public.vacancies\n",
        "    WHERE\n",
        "        (\n",
        "            LOWER(name) LIKE '%data scientist%'\n",
        "            OR LOWER(name) LIKE '%data science%'\n",
        "            OR LOWER(name) LIKE '%исследователь данных%'\n",
        "            OR name LIKE '%ML%' AND name NOT LIKE '%HTML%'\n",
        "            OR LOWER(name) LIKE '%machine learning%'\n",
        "            OR LOWER(name) LIKE '%машинн%обучен%%'\n",
        "        )\n",
        "        AND (\n",
        "            salary_from IS NOT NULL\n",
        "            OR salary_to IS NOT NULL\n",
        "        )\n",
        "    GROUP BY\n",
        "        experience\n",
        "'''"
      ]
    },
    {
      "cell_type": "code",
      "execution_count": 100,
      "id": "aRIJ0mZEwU1_",
      "metadata": {
        "id": "aRIJ0mZEwU1_"
      },
      "outputs": [
        {
          "data": {
            "text/plain": [
              "'Average salaries for DS job openings per experience level:'"
            ]
          },
          "metadata": {},
          "output_type": "display_data"
        },
        {
          "data": {
            "text/html": [
              "<div>\n",
              "<style scoped>\n",
              "    .dataframe tbody tr th:only-of-type {\n",
              "        vertical-align: middle;\n",
              "    }\n",
              "\n",
              "    .dataframe tbody tr th {\n",
              "        vertical-align: top;\n",
              "    }\n",
              "\n",
              "    .dataframe thead th {\n",
              "        text-align: right;\n",
              "    }\n",
              "</style>\n",
              "<table border=\"1\" class=\"dataframe\">\n",
              "  <thead>\n",
              "    <tr style=\"text-align: right;\">\n",
              "      <th></th>\n",
              "      <th>experience</th>\n",
              "      <th>salary</th>\n",
              "    </tr>\n",
              "  </thead>\n",
              "  <tbody>\n",
              "    <tr>\n",
              "      <th>0</th>\n",
              "      <td>Нет опыта</td>\n",
              "      <td>74643.0</td>\n",
              "    </tr>\n",
              "    <tr>\n",
              "      <th>1</th>\n",
              "      <td>От 1 года до 3 лет</td>\n",
              "      <td>139675.0</td>\n",
              "    </tr>\n",
              "    <tr>\n",
              "      <th>2</th>\n",
              "      <td>От 3 до 6 лет</td>\n",
              "      <td>243115.0</td>\n",
              "    </tr>\n",
              "  </tbody>\n",
              "</table>\n",
              "</div>"
            ],
            "text/plain": [
              "           experience    salary\n",
              "0           Нет опыта   74643.0\n",
              "1  От 1 года до 3 лет  139675.0\n",
              "2       От 3 до 6 лет  243115.0"
            ]
          },
          "execution_count": 100,
          "metadata": {},
          "output_type": "execute_result"
        }
      ],
      "source": [
        "df = pd.read_sql_query(query_6_6, connection)\n",
        "display('Average salaries for DS job openings per experience level:')\n",
        "df"
      ]
    },
    {
      "cell_type": "markdown",
      "id": "6a7892b4-4113-4746-adce-18aa2844f18e",
      "metadata": {
        "id": "6a7892b4-4113-4746-adce-18aa2844f18e"
      },
      "source": [
        "***"
      ]
    },
    {
      "cell_type": "markdown",
      "id": "2dbd3aca",
      "metadata": {},
      "source": [
        "## Results of data science job openings analysis\n",
        "* Over 3% of all job openings are related to data. Considering that the job openings of all industries are present this is a high number. Also the number of data related job openings is around 50% of the number of job openings in the software development industry. It would be interesting to observe this trend in the future. If the number of data jobs grows faster than the number of software development jobs, it means that the market is turning from algorithmic programming to data models as a means of solving tasks.\n",
        "* Only 51 job openings are available to junior data scientists. It is 0.1% of all available job openings. This means a very high competition to enter the segment of data science.\n",
        "* As requested skills SQL and postgres are specified 229 times and Python - 357 times. We can assume that in around 1/3 of job openings a non-relational DB or some other data source is used.\n",
        "* On average a data science candidate must posess 6.41 skills. As a further analysis it would be interesting to compare this number with other industries and to identify the most frequently requested skills for data scientists.\n",
        "* The salary distribution of data science candidates based on their experience shows that the junior salary is almost doubling with 1-3 years of experience and its trippling with 3-6 years of experiens. This makes the data science industry very attractive. As further analysis it would be interesting to identify data science salareies for candidates with more than 6 years of experience, however this has to be done on a different dataset."
      ]
    },
    {
      "cell_type": "markdown",
      "id": "c0ED6fh7wiBT",
      "metadata": {
        "id": "c0ED6fh7wiBT"
      },
      "source": [
        "# Overall project results\n",
        "## General results\n",
        "* HeadHunter covers a large geographic area and includes jobs from many industries, which makes it attractive for a large number of employers and job seekers.\n",
        "* The service has job openings from huge employers like Yandex as well as from very small companies. This proves that the business model of HeadHunter makes it very accessible for all types and sizes of businesses. \n",
        "* The fact that only 7% of the employers are involved into software development confirms that HeadHunter is not a purely IT oriented platform.\n",
        "* With Yandex as the largest client represented in many geographic areas I would recommend HeadHunter to put a special team to handle Yandex to increase the customer satisfaction.\n",
        "* Data related jobs and data science in particular are a solid part of all job openings base. However not too many positions are available for the beginners. \n",
        "## Future analysis which can be made\n",
        "- Analyze how broad is geography of HeadHunter in terms of countries. A data source for city names and their countries will be required for such analysis. This knowledge can help the company to expand.\n",
        "- Find the employers which have a higher frequency of provided salary data in their job openings. Using additional data verify if these employers quicker find employees. The outcome can stimulate the other employers to specify the salary data in the job openings.\n",
        "- It would be interesting to observe the relative number of data science job openings over time and see the trends in this business area."
      ]
    },
    {
      "cell_type": "markdown",
      "id": "3986ed1e",
      "metadata": {},
      "source": [
        "# Unit 7. Additional data analysis"
      ]
    },
    {
      "cell_type": "markdown",
      "id": "0237fa7a",
      "metadata": {},
      "source": [
        "1. Write a query to identify the most frequently requested skills in the data science job openigs."
      ]
    },
    {
      "cell_type": "code",
      "execution_count": 101,
      "id": "h9B3BL-wwj18",
      "metadata": {
        "id": "h9B3BL-wwj18"
      },
      "outputs": [],
      "source": [
        "query_7_1 = f'''\n",
        "    SELECT\n",
        "        STRING_TO_ARRAY(key_skills, '\\t') AS skills\n",
        "    FROM\n",
        "        public.vacancies\n",
        "    WHERE\n",
        "        (\n",
        "            LOWER(name) LIKE '%data scientist%'\n",
        "            OR LOWER(name) LIKE '%data science%'\n",
        "            OR LOWER(name) LIKE '%исследователь данных%'\n",
        "            OR name LIKE '%ML%' AND name NOT LIKE '%HTML%'\n",
        "            OR LOWER(name) LIKE '%machine learning%'\n",
        "            OR LOWER(name) LIKE '%машинн%обучен%%'\n",
        "        )\n",
        "        AND key_skills IS NOT NULL\n",
        "'''"
      ]
    },
    {
      "cell_type": "code",
      "execution_count": 102,
      "id": "cb9c5aac",
      "metadata": {},
      "outputs": [
        {
          "data": {
            "text/plain": [
              "'Most frequently requested skills in the data science job openings:'"
            ]
          },
          "metadata": {},
          "output_type": "display_data"
        },
        {
          "data": {
            "text/plain": [
              "[('Python', 348),\n",
              " ('SQL', 191),\n",
              " ('Machine Learning', 114),\n",
              " ('Git', 66),\n",
              " ('Математическая статистика', 62),\n",
              " ('Data Analysis', 54),\n",
              " ('Data Science', 52),\n",
              " ('Pandas', 52),\n",
              " ('ML', 49),\n",
              " ('Английский язык', 48)]"
            ]
          },
          "execution_count": 102,
          "metadata": {},
          "output_type": "execute_result"
        }
      ],
      "source": [
        "skills = []\n",
        "df = pd.read_sql_query(query_7_1, connection)\n",
        "for index, row in df.iterrows():\n",
        "    # Put all skills of all data science job openings into a single list.\n",
        "    skills.extend(row[\"skills\"])\n",
        "\n",
        "# Use a Counter data type to calculate and output the frequency of each skill.\n",
        "cnt = Counter(skills)\n",
        "display('Most frequently requested skills in the data science job openings:')\n",
        "cnt.most_common(10)\n"
      ]
    },
    {
      "cell_type": "markdown",
      "id": "e3ef5f64",
      "metadata": {},
      "source": [
        "2. Write a query to get the number of most frequent industries for the available job openings."
      ]
    },
    {
      "cell_type": "code",
      "execution_count": 103,
      "id": "7b6ef212",
      "metadata": {},
      "outputs": [],
      "source": [
        "query_7_2 = f'''\n",
        "    SELECT\n",
        "        i.name,\n",
        "        COUNT(*) AS cnt\n",
        "    FROM\n",
        "        public.vacancies AS v\n",
        "        JOIN public.employers AS e ON v.employer_id = e.id\n",
        "        JOIN public.employers_industries AS ei ON e.id = ei.employer_id\n",
        "        JOIN public.industries AS i ON ei.industry_id = i.id\n",
        "    GROUP BY\n",
        "        i.id\n",
        "    ORDER BY\n",
        "        COUNT(*) DESC\n",
        "'''"
      ]
    },
    {
      "cell_type": "code",
      "execution_count": 104,
      "id": "46710bf3",
      "metadata": {},
      "outputs": [
        {
          "data": {
            "text/plain": [
              "'Most frequent industries for the job openings:'"
            ]
          },
          "metadata": {},
          "output_type": "display_data"
        },
        {
          "data": {
            "text/html": [
              "<div>\n",
              "<style scoped>\n",
              "    .dataframe tbody tr th:only-of-type {\n",
              "        vertical-align: middle;\n",
              "    }\n",
              "\n",
              "    .dataframe tbody tr th {\n",
              "        vertical-align: top;\n",
              "    }\n",
              "\n",
              "    .dataframe thead th {\n",
              "        text-align: right;\n",
              "    }\n",
              "</style>\n",
              "<table border=\"1\" class=\"dataframe\">\n",
              "  <thead>\n",
              "    <tr style=\"text-align: right;\">\n",
              "      <th></th>\n",
              "      <th>name</th>\n",
              "      <th>cnt</th>\n",
              "    </tr>\n",
              "  </thead>\n",
              "  <tbody>\n",
              "    <tr>\n",
              "      <th>0</th>\n",
              "      <td>Разработка программного обеспечения</td>\n",
              "      <td>12499</td>\n",
              "    </tr>\n",
              "    <tr>\n",
              "      <th>1</th>\n",
              "      <td>Системная интеграция,  автоматизации технологи...</td>\n",
              "      <td>11034</td>\n",
              "    </tr>\n",
              "    <tr>\n",
              "      <th>2</th>\n",
              "      <td>Интернет-компания (поисковики, платежные систе...</td>\n",
              "      <td>6413</td>\n",
              "    </tr>\n",
              "    <tr>\n",
              "      <th>3</th>\n",
              "      <td>Банк</td>\n",
              "      <td>2742</td>\n",
              "    </tr>\n",
              "    <tr>\n",
              "      <th>4</th>\n",
              "      <td>Мобильная связь</td>\n",
              "      <td>1585</td>\n",
              "    </tr>\n",
              "    <tr>\n",
              "      <th>5</th>\n",
              "      <td>Кадровые агентства</td>\n",
              "      <td>1143</td>\n",
              "    </tr>\n",
              "    <tr>\n",
              "      <th>6</th>\n",
              "      <td>Консалтинговые услуги</td>\n",
              "      <td>1137</td>\n",
              "    </tr>\n",
              "    <tr>\n",
              "      <th>7</th>\n",
              "      <td>Интернет-провайдер</td>\n",
              "      <td>1095</td>\n",
              "    </tr>\n",
              "    <tr>\n",
              "      <th>8</th>\n",
              "      <td>Розничная сеть (продуктовая)</td>\n",
              "      <td>1034</td>\n",
              "    </tr>\n",
              "    <tr>\n",
              "      <th>9</th>\n",
              "      <td>Фиксированная связь</td>\n",
              "      <td>1028</td>\n",
              "    </tr>\n",
              "    <tr>\n",
              "      <th>10</th>\n",
              "      <td>Оптоволоконная связь</td>\n",
              "      <td>1012</td>\n",
              "    </tr>\n",
              "    <tr>\n",
              "      <th>11</th>\n",
              "      <td>Маркетинговые, рекламные, BTL, дизайнерские, E...</td>\n",
              "      <td>1001</td>\n",
              "    </tr>\n",
              "    <tr>\n",
              "      <th>12</th>\n",
              "      <td>Интернет-магазин</td>\n",
              "      <td>788</td>\n",
              "    </tr>\n",
              "    <tr>\n",
              "      <th>13</th>\n",
              "      <td>Электронно-вычислительная, оптическая, контрол...</td>\n",
              "      <td>622</td>\n",
              "    </tr>\n",
              "    <tr>\n",
              "      <th>14</th>\n",
              "      <td>Электронно-вычислительная, оптическая, контрол...</td>\n",
              "      <td>584</td>\n",
              "    </tr>\n",
              "    <tr>\n",
              "      <th>15</th>\n",
              "      <td>Нефтепереработка, нефтехимия (производство)</td>\n",
              "      <td>573</td>\n",
              "    </tr>\n",
              "    <tr>\n",
              "      <th>16</th>\n",
              "      <td>Металлические изделия, металлоконструкции (про...</td>\n",
              "      <td>568</td>\n",
              "    </tr>\n",
              "    <tr>\n",
              "      <th>17</th>\n",
              "      <td>Промышленное, бытовое электрооборудование и эл...</td>\n",
              "      <td>528</td>\n",
              "    </tr>\n",
              "    <tr>\n",
              "      <th>18</th>\n",
              "      <td>ГСМ, топливо (розничная торговля)</td>\n",
              "      <td>508</td>\n",
              "    </tr>\n",
              "    <tr>\n",
              "      <th>19</th>\n",
              "      <td>Промышленное, бытовое электрооборудование и эл...</td>\n",
              "      <td>495</td>\n",
              "    </tr>\n",
              "  </tbody>\n",
              "</table>\n",
              "</div>"
            ],
            "text/plain": [
              "                                                 name    cnt\n",
              "0                 Разработка программного обеспечения  12499\n",
              "1   Системная интеграция,  автоматизации технологи...  11034\n",
              "2   Интернет-компания (поисковики, платежные систе...   6413\n",
              "3                                                Банк   2742\n",
              "4                                     Мобильная связь   1585\n",
              "5                                  Кадровые агентства   1143\n",
              "6                               Консалтинговые услуги   1137\n",
              "7                                  Интернет-провайдер   1095\n",
              "8                        Розничная сеть (продуктовая)   1034\n",
              "9                                 Фиксированная связь   1028\n",
              "10                               Оптоволоконная связь   1012\n",
              "11  Маркетинговые, рекламные, BTL, дизайнерские, E...   1001\n",
              "12                                   Интернет-магазин    788\n",
              "13  Электронно-вычислительная, оптическая, контрол...    622\n",
              "14  Электронно-вычислительная, оптическая, контрол...    584\n",
              "15        Нефтепереработка, нефтехимия (производство)    573\n",
              "16  Металлические изделия, металлоконструкции (про...    568\n",
              "17  Промышленное, бытовое электрооборудование и эл...    528\n",
              "18                  ГСМ, топливо (розничная торговля)    508\n",
              "19  Промышленное, бытовое электрооборудование и эл...    495"
            ]
          },
          "execution_count": 104,
          "metadata": {},
          "output_type": "execute_result"
        }
      ],
      "source": [
        "df = pd.read_sql_query(query_7_2, connection)\n",
        "display('Most frequent industries for the job openings:')\n",
        "df.head(20)"
      ]
    },
    {
      "cell_type": "markdown",
      "id": "8805572a",
      "metadata": {},
      "source": [
        "3. Write a query to find the leading industries for job openings with a possibility to work remotely."
      ]
    },
    {
      "cell_type": "code",
      "execution_count": 105,
      "id": "87d07547",
      "metadata": {},
      "outputs": [],
      "source": [
        "query_7_3 = f'''\n",
        "    SELECT\n",
        "        i.name,\n",
        "        COUNT(*) AS cnt\n",
        "    FROM\n",
        "        public.vacancies AS v\n",
        "        JOIN public.employers AS e ON v.employer_id = e.id\n",
        "        JOIN public.employers_industries AS ei ON e.id = ei.employer_id\n",
        "        JOIN public.industries AS i ON ei.industry_id = i.id\n",
        "    WHERE\n",
        "        v.schedule = 'Удаленная работа'\n",
        "    GROUP BY\n",
        "        i.id, v.schedule\n",
        "    ORDER BY\n",
        "        COUNT(*) DESC\n",
        "'''"
      ]
    },
    {
      "cell_type": "code",
      "execution_count": 106,
      "id": "a3e2ad59",
      "metadata": {},
      "outputs": [
        {
          "data": {
            "text/plain": [
              "'Number of job openings for remote work by industry:'"
            ]
          },
          "metadata": {},
          "output_type": "display_data"
        },
        {
          "data": {
            "text/html": [
              "<div>\n",
              "<style scoped>\n",
              "    .dataframe tbody tr th:only-of-type {\n",
              "        vertical-align: middle;\n",
              "    }\n",
              "\n",
              "    .dataframe tbody tr th {\n",
              "        vertical-align: top;\n",
              "    }\n",
              "\n",
              "    .dataframe thead th {\n",
              "        text-align: right;\n",
              "    }\n",
              "</style>\n",
              "<table border=\"1\" class=\"dataframe\">\n",
              "  <thead>\n",
              "    <tr style=\"text-align: right;\">\n",
              "      <th></th>\n",
              "      <th>name</th>\n",
              "      <th>cnt</th>\n",
              "    </tr>\n",
              "  </thead>\n",
              "  <tbody>\n",
              "    <tr>\n",
              "      <th>0</th>\n",
              "      <td>Разработка программного обеспечения</td>\n",
              "      <td>3068</td>\n",
              "    </tr>\n",
              "    <tr>\n",
              "      <th>1</th>\n",
              "      <td>Интернет-компания (поисковики, платежные систе...</td>\n",
              "      <td>2959</td>\n",
              "    </tr>\n",
              "    <tr>\n",
              "      <th>2</th>\n",
              "      <td>Системная интеграция,  автоматизации технологи...</td>\n",
              "      <td>2507</td>\n",
              "    </tr>\n",
              "    <tr>\n",
              "      <th>3</th>\n",
              "      <td>Банк</td>\n",
              "      <td>299</td>\n",
              "    </tr>\n",
              "    <tr>\n",
              "      <th>4</th>\n",
              "      <td>Маркетинговые, рекламные, BTL, дизайнерские, E...</td>\n",
              "      <td>250</td>\n",
              "    </tr>\n",
              "    <tr>\n",
              "      <th>5</th>\n",
              "      <td>Кадровые агентства</td>\n",
              "      <td>232</td>\n",
              "    </tr>\n",
              "    <tr>\n",
              "      <th>6</th>\n",
              "      <td>Консалтинговые услуги</td>\n",
              "      <td>209</td>\n",
              "    </tr>\n",
              "    <tr>\n",
              "      <th>7</th>\n",
              "      <td>Интернет-провайдер</td>\n",
              "      <td>169</td>\n",
              "    </tr>\n",
              "    <tr>\n",
              "      <th>8</th>\n",
              "      <td>Интернет-магазин</td>\n",
              "      <td>152</td>\n",
              "    </tr>\n",
              "    <tr>\n",
              "      <th>9</th>\n",
              "      <td>Мобильная связь</td>\n",
              "      <td>148</td>\n",
              "    </tr>\n",
              "    <tr>\n",
              "      <th>10</th>\n",
              "      <td>Розничная сеть (продуктовая)</td>\n",
              "      <td>118</td>\n",
              "    </tr>\n",
              "    <tr>\n",
              "      <th>11</th>\n",
              "      <td>Оптоволоконная связь</td>\n",
              "      <td>110</td>\n",
              "    </tr>\n",
              "    <tr>\n",
              "      <th>12</th>\n",
              "      <td>Фиксированная связь</td>\n",
              "      <td>107</td>\n",
              "    </tr>\n",
              "    <tr>\n",
              "      <th>13</th>\n",
              "      <td>Коллекторская деятельность</td>\n",
              "      <td>103</td>\n",
              "    </tr>\n",
              "    <tr>\n",
              "      <th>14</th>\n",
              "      <td>Металлические изделия, металлоконструкции (про...</td>\n",
              "      <td>99</td>\n",
              "    </tr>\n",
              "    <tr>\n",
              "      <th>15</th>\n",
              "      <td>Черная металлургия (производство чугуна, стали...</td>\n",
              "      <td>97</td>\n",
              "    </tr>\n",
              "    <tr>\n",
              "      <th>16</th>\n",
              "      <td>Колл-центры, диспетчерские службы</td>\n",
              "      <td>88</td>\n",
              "    </tr>\n",
              "    <tr>\n",
              "      <th>17</th>\n",
              "      <td>Розничная сеть (drogerie, товары повседневного...</td>\n",
              "      <td>88</td>\n",
              "    </tr>\n",
              "    <tr>\n",
              "      <th>18</th>\n",
              "      <td>Управляющая, инвестиционная компания (управлен...</td>\n",
              "      <td>83</td>\n",
              "    </tr>\n",
              "    <tr>\n",
              "      <th>19</th>\n",
              "      <td>Финансово-кредитное посредничество (биржа, бро...</td>\n",
              "      <td>78</td>\n",
              "    </tr>\n",
              "  </tbody>\n",
              "</table>\n",
              "</div>"
            ],
            "text/plain": [
              "                                                 name   cnt\n",
              "0                 Разработка программного обеспечения  3068\n",
              "1   Интернет-компания (поисковики, платежные систе...  2959\n",
              "2   Системная интеграция,  автоматизации технологи...  2507\n",
              "3                                                Банк   299\n",
              "4   Маркетинговые, рекламные, BTL, дизайнерские, E...   250\n",
              "5                                  Кадровые агентства   232\n",
              "6                               Консалтинговые услуги   209\n",
              "7                                  Интернет-провайдер   169\n",
              "8                                    Интернет-магазин   152\n",
              "9                                     Мобильная связь   148\n",
              "10                       Розничная сеть (продуктовая)   118\n",
              "11                               Оптоволоконная связь   110\n",
              "12                                Фиксированная связь   107\n",
              "13                         Коллекторская деятельность   103\n",
              "14  Металлические изделия, металлоконструкции (про...    99\n",
              "15  Черная металлургия (производство чугуна, стали...    97\n",
              "16                  Колл-центры, диспетчерские службы    88\n",
              "17  Розничная сеть (drogerie, товары повседневного...    88\n",
              "18  Управляющая, инвестиционная компания (управлен...    83\n",
              "19  Финансово-кредитное посредничество (биржа, бро...    78"
            ]
          },
          "execution_count": 106,
          "metadata": {},
          "output_type": "execute_result"
        }
      ],
      "source": [
        "df = pd.read_sql_query(query_7_3, connection)\n",
        "display('Number of job openings for remote work by industry:')\n",
        "df.head(20)"
      ]
    },
    {
      "cell_type": "markdown",
      "id": "49aa471e",
      "metadata": {},
      "source": [
        "## Results of additional data analysis\n",
        "* The analysis reveals that the top 5 of the most required skills for a data science candidate are Python, SQL, Machine Learning, Git and mathematical statistics. These are exactly the skills which are covered in the SkillFactory data scientist course.\n",
        "* More detalied analysis of the industries shows that unlike the assumption in the main analysis, the majority of job openings is related to the IT or technlology sphere. Further alalysis is required to identify if it reflects the job market in Russia or it is specifics of HeadHunter as a platform.\n",
        "* Remote work is mostly available in the IT sector, but probably due to pandemics also other industries offer it."
      ]
    },
    {
      "cell_type": "code",
      "execution_count": 107,
      "id": "ac647345",
      "metadata": {},
      "outputs": [],
      "source": [
        "connection.close()"
      ]
    }
  ],
  "metadata": {
    "colab": {
      "collapsed_sections": [
        "8d62a9f3-f64e-4fe7-bdac-c4dffa16155e"
      ],
      "provenance": []
    },
    "kernelspec": {
      "display_name": "Python 3 (ipykernel)",
      "language": "python",
      "name": "python3"
    },
    "language_info": {
      "codemirror_mode": {
        "name": "ipython",
        "version": 3
      },
      "file_extension": ".py",
      "mimetype": "text/x-python",
      "name": "python",
      "nbconvert_exporter": "python",
      "pygments_lexer": "ipython3",
      "version": "3.12.1"
    }
  },
  "nbformat": 4,
  "nbformat_minor": 5
}
