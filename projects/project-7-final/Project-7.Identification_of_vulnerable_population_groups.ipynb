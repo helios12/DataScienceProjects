{
 "cells": [
  {
   "cell_type": "markdown",
   "id": "6d1b6c59",
   "metadata": {},
   "source": [
    "# Final project: Identification of vulnerable population groups"
   ]
  },
  {
   "cell_type": "markdown",
   "id": "c975f0f1",
   "metadata": {},
   "source": [
    "## 1. Problem statement"
   ]
  },
  {
   "cell_type": "markdown",
   "id": "03013c27",
   "metadata": {},
   "source": [
    "According to a December 2021 [inFOM survey](https://www.cbr.ru/Collection/Collection/File/39633/inFOM_21-12.pdf), 27% of Russians have enough money only for food, and another 9% cannot afford a nutritious diet. These people are especially attentive to prices, and the rate of growth of food prices usually exceeds the average rate of inflation. At the same time, Rosstat believes that food expenses should make up approximately 36% of a Russian's average monthly expenses (another 10% goes to utilities and housing, 4% goes to medicines). \n",
    "\n",
    "Until 2021, the \"poverty line\" (living below the subsistence minimum) in Russia was determined by the cost of the [minimum food basket](https://base.garant.ru/70306880/). In the same year, the government \"untied\" the poverty level from the prices of basic products: since 2021, the subsistence minimum is calculated as 44.2% of the median income of Russian citizens for the previous year.\n",
    "\n",
    "You have at your disposal data on income, morbidity, socially vulnerable groups of the Russian population and other economic and demographic data.\n",
    "\n",
    "Your task as a data scientist:\n",
    "* cluster the regions of Russia and determine which of them are in the greatest need of assistance to low-income/disadvantaged segments of the population;\n",
    "* describe the population groups facing poverty;\n",
    "* determine:\n",
    "    * whether the number of children, pensioners and other socially vulnerable groups affects the poverty level in the region;\n",
    "    * whether the level of poverty/social disadvantage is related to production and consumption in the region;\n",
    "    * what other dependencies can be observed in relation to socially vulnerable segments of the population."
   ]
  },
  {
   "cell_type": "markdown",
   "id": "6c05d29a",
   "metadata": {},
   "source": [
    "## 2. Getting to know the data"
   ]
  },
  {
   "cell_type": "markdown",
   "id": "bfe4cc2b",
   "metadata": {},
   "source": [
    "To reduce data redundancy, data for districts uniting multiple regions has been removed from the initial data sources. Also the following former regions have been removed, since they have significant amount of empty values: \n",
    "* Агинский Бурятский округ (Забайкальский край)\n",
    "* Коми-Пермяцкий округ, входящий в состав Пермского края\n",
    "* Корякский округ, входящий в состав Камчатского края\n",
    "* Крымский федеральный округ\n",
    "* Таймырский (Долгано-Ненецкий) автономный округ (Красноярский край)\n",
    "* Усть-Ордынский Бурятский округ\n",
    "* Эвенкийский автономный округ (Красноярский край)"
   ]
  },
  {
   "cell_type": "markdown",
   "id": "4a4a03c9",
   "metadata": {},
   "source": [
    "### 2.0 Import dependencies and define helper code"
   ]
  },
  {
   "cell_type": "markdown",
   "id": "f623248f",
   "metadata": {},
   "source": [
    "#### 2.0.1 Import dependencies"
   ]
  },
  {
   "cell_type": "code",
   "execution_count": 178,
   "id": "3d401061",
   "metadata": {},
   "outputs": [],
   "source": [
    "import pandas as pd"
   ]
  },
  {
   "cell_type": "markdown",
   "id": "1f7a2ccd",
   "metadata": {},
   "source": [
    "#### 2.0.2 Define helper code"
   ]
  },
  {
   "cell_type": "code",
   "execution_count": 179,
   "id": "8c818f55",
   "metadata": {},
   "outputs": [],
   "source": [
    "def rename_columns(df, prefix):\n",
    "    dict_columns = {}\n",
    "    for i in range(1, df.shape[1]):\n",
    "        dict_columns[df.columns[i]] = prefix + str(df.columns[i])\n",
    "\n",
    "    return df.rename(columns=dict_columns)"
   ]
  },
  {
   "cell_type": "markdown",
   "id": "e4183eef",
   "metadata": {},
   "source": [
    "### 2.1 Population data"
   ]
  },
  {
   "cell_type": "markdown",
   "id": "756fb3f8",
   "metadata": {},
   "source": [
    "Data source contains the population dynamics of the Russian regions across the years 1999 and 2022. Columns:\n",
    "1. `region` - name of the region of the Russian Federation. \n",
    "2. `population_1999-population_2022` - columns containing the population count for each of the regions in the corresponding year."
   ]
  },
  {
   "cell_type": "code",
   "execution_count": null,
   "id": "9bc5020a",
   "metadata": {},
   "outputs": [],
   "source": [
    "data_population = pd.read_excel('data/population.xlsx', 'report')\n",
    "for i in range(data_population.shape[0]//2):\n",
    "    data_population.iloc[i, 1:] = data_population.iloc[i+1, 1:]\n",
    "    data_population.drop(index=i+1, inplace=True)\n",
    "    data_population = data_population.reset_index(drop=True)\n",
    "\n",
    "data_population = rename_columns(data_population, 'population_')\n",
    "data_population = data_population.set_index('region')\n",
    "data_population = data_population.sort_index()\n",
    "data_population.to_csv('population.csv')"
   ]
  },
  {
   "cell_type": "markdown",
   "id": "a428766e",
   "metadata": {},
   "source": [
    "### 2.2 Child mortality in rural areas"
   ]
  },
  {
   "cell_type": "markdown",
   "id": "1f8ef2ba",
   "metadata": {},
   "source": [
    "Data source contains child mortality in rural areas on the first life year in persons per Russian region across the years 1990 and 2021. Columns:\n",
    "1. `region` - name of the region of the Russian Federation. Data for districts uniting multiple regions has been removed.\n",
    "2. `child_mortality_rural_1990-child_mortality_rural_2021` - columns containing the child mortality in rural areas for each of the regions in the corresponding year."
   ]
  },
  {
   "cell_type": "code",
   "execution_count": null,
   "id": "a1c50538",
   "metadata": {},
   "outputs": [],
   "source": [
    "data_child_mortality_rural = pd.read_excel('data/child_mortality_rural_1990_2021.xlsx')\n",
    "data_child_mortality_rural = rename_columns(data_child_mortality_rural, 'child_mortality_rural_')\n",
    "data_child_mortality_rural['region'] = data_child_mortality_rural['region'].str.strip()\n",
    "data_child_mortality_rural = data_child_mortality_rural.set_index('region', drop=True)\n",
    "data_child_mortality_rural = data_child_mortality_rural.sort_index()\n",
    "data_child_mortality_rural.head()"
   ]
  },
  {
   "cell_type": "code",
   "execution_count": 187,
   "id": "64fc7f09",
   "metadata": {},
   "outputs": [],
   "source": [
    "#df = pd.concat([data_population, data_child_mortality_rural], axis=1)\n",
    "df = data_child_mortality_rural / data_population\n",
    "df.to_csv('text.csv')"
   ]
  },
  {
   "cell_type": "markdown",
   "id": "21517cb6",
   "metadata": {},
   "source": [
    "### 2.3 Child mortality in urban areas"
   ]
  },
  {
   "cell_type": "markdown",
   "id": "6305c712",
   "metadata": {},
   "source": [
    "Data source contains child mortality in urban areas on the first life year in persons per Russian region across the years 1990 and 2021. Columns:\n",
    "1. `region` - name of the region of the Russian Federation. Data for districts uniting multiple regions has been removed.\n",
    "2. `child_mortality_urban_1990-child_mortality_urban_2021` - columns containing the child mortality in urban areas for each of the regions in the corresponding year."
   ]
  },
  {
   "cell_type": "code",
   "execution_count": null,
   "id": "f3aa204b",
   "metadata": {},
   "outputs": [],
   "source": [
    "data_child_mortality_urban = pd.read_excel('data/child_mortality_urban_1990_2021.xlsx')\n",
    "data_child_mortality_urban = rename_columns(data_child_mortality_urban, 'child_mortality_urban_')\n",
    "data_child_mortality_urban['region'] = data_child_mortality_urban['region'].str.strip()\n",
    "data_child_mortality_urban = data_child_mortality_urban.set_index('region', drop=True)\n",
    "data_child_mortality_urban = data_child_mortality_urban.sort_index()\n",
    "data_child_mortality_urban.head()"
   ]
  },
  {
   "cell_type": "markdown",
   "id": "7abb86ee",
   "metadata": {},
   "source": [
    "### 2.4 Disability statistics"
   ]
  },
  {
   "cell_type": "markdown",
   "id": "2d5ffcfa",
   "metadata": {},
   "source": [
    "Data source is loaded and then gets transformed to contain the disability data per Russion region across the years 2017 and 2022. Columns\n",
    "1. `region` - name of the region of the Russian Federation. Data for districts uniting multiple regions has been removed.\n",
    "2. `disability_{year}_total, disability_{year}_18_30, disability_{year}_31_40, disability_{year}_41_50, disability_{year}_60_` - columns containing the disability counts across the whole population and across different age groups for each of the regions in the corresponding year."
   ]
  },
  {
   "cell_type": "code",
   "execution_count": null,
   "id": "a2d04d1d",
   "metadata": {},
   "outputs": [],
   "source": [
    "data_disability = pd.read_csv('data/disabled_total_by_age_2017_2022.csv', sep=';')\n",
    "data_disability = data_disability[data_disability['date'].str.endswith('01-01')]\n",
    "\n",
    "\n",
    "def flatten_table(df, years):\n",
    "    result = []\n",
    "    for year in years:\n",
    "        df_year = df[df['date'].str.startswith(year)]\n",
    "        df_year = df_year.drop(columns='date')\n",
    "        df_year = rename_columns(df_year, f'disability_{year}_')\n",
    "        df_year = df_year.set_index('region')\n",
    "        result.append(df_year)\n",
    "    return pd.concat(result, axis=1)\n",
    "\n",
    "\n",
    "data_disability = flatten_table(data_disability, ['2017', '2018', '2019', '2020', '2021', '2022'])\n",
    "data_disability.head()"
   ]
  },
  {
   "cell_type": "markdown",
   "id": "da2d7e79",
   "metadata": {},
   "source": [
    "### 2.5 Poverty Statistics"
   ]
  },
  {
   "cell_type": "markdown",
   "id": "3d7bcac9",
   "metadata": {},
   "source": [
    "Data source is loaded and then gets transformed to contain the poverty data per Russion region across the years 1992 and 2020. Columns\n",
    "1. `region` - name of the region of the Russian Federation. Data for districts uniting multiple regions has been removed.\n",
    "2. `poverty_1992-poverty_2020` - columns containing the poverty percentage across the whole populationfor each of the regions in the corresponding year."
   ]
  },
  {
   "cell_type": "code",
   "execution_count": null,
   "id": "505381bf",
   "metadata": {},
   "outputs": [],
   "source": [
    "data_poverty = pd.read_csv(\n",
    "    'data/poverty_percent_by_regions_1992_2020.csv', \n",
    "    sep=';', \n",
    "    skipinitialspace=True\n",
    ")\n",
    "\n",
    "\n",
    "def flatten_table(df, years):\n",
    "    result = []\n",
    "    for year in years:\n",
    "        df_year = df[df['year'] == year]\n",
    "        df_year = df_year.drop(columns='year')\n",
    "        df_year = rename_columns(df_year, f'poverty_{year}_')\n",
    "        df_year = df_year.set_index('region')\n",
    "        result.append(df_year)\n",
    "    return pd.concat(result, axis=1)\n",
    "\n",
    "\n",
    "data_poverty = flatten_table(data_poverty, list(range(1992, 2021)))\n",
    "data_poverty = data_poverty.sort_index()\n",
    "data_poverty.head()"
   ]
  },
  {
   "cell_type": "markdown",
   "id": "82d81b35",
   "metadata": {},
   "source": [
    "### 2.6 Poverty Statisticts in Demografic Context"
   ]
  },
  {
   "cell_type": "markdown",
   "id": "0b62ffbe",
   "metadata": {},
   "source": []
  },
  {
   "cell_type": "code",
   "execution_count": null,
   "id": "51dfe412",
   "metadata": {},
   "outputs": [],
   "source": [
    "data_poverty_dem_list\n",
    "data_poverty_dem = pd.read_excel('data/poverty_socdem_2017.xlsx')\n",
    "\n",
    "data_monthly_cash_income = rename_columns(data_monthly_cash_income, 'monthly_income_')\n",
    "data_monthly_cash_income = data_monthly_cash_income.set_index('region', drop=True)\n",
    "data_monthly_cash_income = data_monthly_cash_income.sort_index()\n",
    "data_monthly_cash_income.head()"
   ]
  },
  {
   "cell_type": "markdown",
   "id": "a9b3d0fc",
   "metadata": {},
   "source": [
    "### 2.X Income situation"
   ]
  },
  {
   "cell_type": "markdown",
   "id": "04aa0a99",
   "metadata": {},
   "source": [
    "#### 2.X.1 Per capita monthly cash income"
   ]
  },
  {
   "cell_type": "markdown",
   "id": "08bd6e18",
   "metadata": {},
   "source": [
    "Data source contains per capita monthly income in roubles per Russian region across the years 2015 and 2020. Columns:\n",
    "1. `region` - name of the region of the Russian Federation. Data for districts uniting multiple regions has been removed.\n",
    "2. `monthly_income_2015-monthly_income_2020` - columns containing the per capita monthly cash income in roubles for each of the regions in the corresponding year."
   ]
  },
  {
   "cell_type": "code",
   "execution_count": null,
   "id": "69aa2095",
   "metadata": {},
   "outputs": [],
   "source": [
    "data_monthly_cash_income = pd.read_excel(\n",
    "    'data/cash_real_income_wages_2015_2020.xlsx', \n",
    "    sheet_name='per_capita_cash_income'\n",
    ")\n",
    "data_monthly_cash_income = rename_columns(data_monthly_cash_income, 'monthly_income_')\n",
    "data_monthly_cash_income = data_monthly_cash_income.set_index('region', drop=True)\n",
    "data_monthly_cash_income = data_monthly_cash_income.sort_index()\n",
    "data_monthly_cash_income.head()"
   ]
  },
  {
   "cell_type": "markdown",
   "id": "0608c1d8",
   "metadata": {},
   "source": [
    "#### 2.X.2 Real cash income"
   ]
  },
  {
   "cell_type": "markdown",
   "id": "b11d27f5",
   "metadata": {},
   "source": [
    "Data source contains real cash income in percent compared to the previous year per Russian region across the years 2015 and 2020. Columns:\n",
    "1. `region` - name of the region of the Russian Federation. Data for districts uniting multiple regions has been removed.\n",
    "2. `real_income_2015-real_income_2020` - columns containing the real cash income in percent compared to the previous year for each of the regions in the corresponding year."
   ]
  },
  {
   "cell_type": "code",
   "execution_count": null,
   "id": "97fccf5d",
   "metadata": {},
   "outputs": [],
   "source": [
    "data_real_cash_income = pd.read_excel(\n",
    "    'data/cash_real_income_wages_2015_2020.xlsx', \n",
    "    sheet_name='real_incomes'\n",
    ")\n",
    "data_real_cash_income = rename_columns(data_real_cash_income, 'real_income_')\n",
    "data_real_cash_income = data_real_cash_income.set_index('region', drop=True)\n",
    "data_real_cash_income = data_real_cash_income.sort_index()\n",
    "data_real_cash_income.head()"
   ]
  },
  {
   "cell_type": "markdown",
   "id": "16833ac8",
   "metadata": {},
   "source": [
    "#### 2.X.3 Per capita monthly formal wage"
   ]
  },
  {
   "cell_type": "markdown",
   "id": "3a69f0e0",
   "metadata": {},
   "source": [
    "Data source contains per capita monthly formal wage in roubles per Russian region across the years 2015 and 2020. Columns:\n",
    "1. `region` - name of the region of the Russian Federation. Data for districts uniting multiple regions has been removed.\n",
    "2. `monthly_wage_2015-monthly_wage_2020` - columns containing per capita monthly formal wage in roubles for each of the regions in the corresponding year."
   ]
  },
  {
   "cell_type": "code",
   "execution_count": null,
   "id": "ded3ff56",
   "metadata": {},
   "outputs": [],
   "source": [
    "data_monthly_formal_wage = pd.read_excel(\n",
    "    'data/cash_real_income_wages_2015_2020.xlsx', \n",
    "    sheet_name='formal_wage_paid'\n",
    ")\n",
    "data_monthly_formal_wage = rename_columns(data_monthly_formal_wage, 'monthly_wage_')\n",
    "data_monthly_formal_wage = data_monthly_formal_wage.set_index('region', drop=True)\n",
    "data_monthly_formal_wage = data_monthly_formal_wage.sort_index()\n",
    "data_monthly_formal_wage.head()"
   ]
  },
  {
   "cell_type": "markdown",
   "id": "31b77560",
   "metadata": {},
   "source": [
    "#### 2.X.4 Real wage"
   ]
  },
  {
   "cell_type": "markdown",
   "id": "8f6cf106",
   "metadata": {},
   "source": [
    "Data source contains real wage in percent compared to the previous year per Russian region across the years 2015 and 2020. Columns:\n",
    "1. `region` - name of the region of the Russian Federation. Data for districts uniting multiple regions has been removed.\n",
    "2. `real_wage_2015-real_wage_2020` - columns containing the real wage in percent compared to the previous year for each of the regions in the corresponding year."
   ]
  },
  {
   "cell_type": "code",
   "execution_count": null,
   "id": "60b52945",
   "metadata": {},
   "outputs": [],
   "source": [
    "data_real_wage = pd.read_excel(\n",
    "    'data/cash_real_income_wages_2015_2020.xlsx', \n",
    "    sheet_name='real_pay'\n",
    ")\n",
    "data_real_wage = rename_columns(data_real_wage, 'real_wage_')\n",
    "data_real_wage = data_real_wage.set_index('region', drop=True)\n",
    "data_real_wage = data_real_wage.sort_index()\n",
    "data_real_wage.head()"
   ]
  }
 ],
 "metadata": {
  "kernelspec": {
   "display_name": "Python 3",
   "language": "python",
   "name": "python3"
  },
  "language_info": {
   "codemirror_mode": {
    "name": "ipython",
    "version": 3
   },
   "file_extension": ".py",
   "mimetype": "text/x-python",
   "name": "python",
   "nbconvert_exporter": "python",
   "pygments_lexer": "ipython3",
   "version": "3.9.6"
  }
 },
 "nbformat": 4,
 "nbformat_minor": 5
}
