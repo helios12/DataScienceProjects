{
 "cells": [
  {
   "cell_type": "markdown",
   "id": "c353de9a",
   "metadata": {},
   "source": [
    "# Project: Classification"
   ]
  },
  {
   "cell_type": "code",
   "execution_count": 26,
   "id": "4a6e54dc",
   "metadata": {},
   "outputs": [],
   "source": [
    "import numpy as np\n",
    "import matplotlib.pyplot as plt\n",
    "import pandas as pd\n",
    "import plotly.express as px\n",
    "import seaborn as sns\n",
    "import sys\n",
    "import warnings\n",
    "warnings.filterwarnings('ignore')\n",
    "\n",
    "from sklearn import ensemble \n",
    "from sklearn import linear_model \n",
    "from sklearn import metrics \n",
    "from sklearn import preprocessing \n",
    "from sklearn import tree \n",
    "from sklearn.ensemble import IsolationForest\n",
    "from sklearn.feature_selection import SelectKBest, f_classif\n",
    "from sklearn.model_selection import train_test_split \n",
    "from sklearn.preprocessing  import LabelEncoder\n",
    "\n",
    "sys.path.append('../../')\n",
    "\n",
    "from DataScienceHelpers.DataCleaningOutliers import find_outliers_iqr\n",
    "from DataScienceHelpers.DataCleaningOutliers import find_parameters_iqr\n"
   ]
  },
  {
   "cell_type": "markdown",
   "id": "71559b60",
   "metadata": {},
   "source": [
    "## Part 1. Getting to know the data, handling empy data and outliers"
   ]
  },
  {
   "cell_type": "markdown",
   "id": "7c5e31b2",
   "metadata": {},
   "source": [
    "### Task 1"
   ]
  },
  {
   "cell_type": "code",
   "execution_count": 17,
   "id": "20730cd7",
   "metadata": {},
   "outputs": [
    {
     "name": "stdout",
     "output_type": "stream",
     "text": [
      "Rows: 11162\n",
      "Cols: 17\n"
     ]
    }
   ],
   "source": [
    "# Load data.\n",
    "df = pd.read_csv('../../data/bank_fin.csv', sep = ';')\n",
    "print(f'Rows: {df.shape[0]}')\n",
    "print(f'Cols: {df.shape[1]}')"
   ]
  },
  {
   "cell_type": "code",
   "execution_count": 18,
   "id": "ba11dc67",
   "metadata": {},
   "outputs": [
    {
     "data": {
      "text/plain": [
       "age           0\n",
       "job           0\n",
       "marital       0\n",
       "education     0\n",
       "default       0\n",
       "balance      25\n",
       "housing       0\n",
       "loan          0\n",
       "contact       0\n",
       "day           0\n",
       "month         0\n",
       "duration      0\n",
       "campaign      0\n",
       "pdays         0\n",
       "previous      0\n",
       "poutcome      0\n",
       "deposit       0\n",
       "dtype: int64"
      ]
     },
     "execution_count": 18,
     "metadata": {},
     "output_type": "execute_result"
    }
   ],
   "source": [
    "# Investigate data for empty values. Which columns contains empty values? How many empty values are there?\n",
    "df.isnull().sum()"
   ]
  },
  {
   "cell_type": "markdown",
   "id": "6366f059",
   "metadata": {},
   "source": [
    "### Task 2"
   ]
  },
  {
   "cell_type": "code",
   "execution_count": 19,
   "id": "98ea29d4",
   "metadata": {},
   "outputs": [
    {
     "name": "stdout",
     "output_type": "stream",
     "text": [
      "Job values by frequency:\n",
      "job\n",
      "management       2566\n",
      "blue-collar      1944\n",
      "technician       1823\n",
      "admin.           1334\n",
      "services          923\n",
      "retired           778\n",
      "self-employed     405\n",
      "student           360\n",
      "unemployed        357\n",
      "entrepreneur      328\n",
      "housemaid         274\n",
      "unknown            70\n",
      "Name: count, dtype: int64\n",
      "Education by frequency:\n",
      "education\n",
      "secondary    5476\n",
      "tertiary     3689\n",
      "primary      1500\n",
      "unknown       497\n",
      "Name: count, dtype: int64\n"
     ]
    }
   ],
   "source": [
    "# Are there empty values in the 'job' and 'education' features?\n",
    "print('Job values by frequency:')\n",
    "print(df['job'].value_counts())\n",
    "print('Education by frequency:')\n",
    "print(df['education'].value_counts())"
   ]
  },
  {
   "cell_type": "markdown",
   "id": "81a14c5b",
   "metadata": {},
   "source": [
    "Empty values in the fields 'job' and 'education' are marked with the word 'unknown'."
   ]
  },
  {
   "cell_type": "markdown",
   "id": "8fcf4fcd",
   "metadata": {},
   "source": [
    "### Task 3"
   ]
  },
  {
   "cell_type": "code",
   "execution_count": 20,
   "id": "3a01be5e",
   "metadata": {},
   "outputs": [
    {
     "name": "stdout",
     "output_type": "stream",
     "text": [
      "Mean balance value: 1529.129\n"
     ]
    }
   ],
   "source": [
    "# Convert the 'balance' feature to the float datatype.\n",
    "def clean_up_balance(x):\n",
    "    return x if pd.isna(x) else float(str(x)[:-3].replace(' ', '').replace(',', '.'))\n",
    "\n",
    "df['balance'] = df['balance'].apply(lambda x: clean_up_balance(x))\n",
    "print(f'Mean balance value: {df['balance'].mean():.3f}')"
   ]
  },
  {
   "cell_type": "markdown",
   "id": "6de63fd7",
   "metadata": {},
   "source": [
    "### Task 4"
   ]
  },
  {
   "cell_type": "code",
   "execution_count": 21,
   "id": "6a684a63",
   "metadata": {},
   "outputs": [
    {
     "name": "stdout",
     "output_type": "stream",
     "text": [
      "Median balance value: 550.000\n",
      "Updated mean balance value: 1526.936\n"
     ]
    }
   ],
   "source": [
    "# Process the empty values in the 'balance' feature by replacing them with the median value.\n",
    "median_balance = df['balance'].median()\n",
    "print(f'Median balance value: {median_balance:.3f}')\n",
    "\n",
    "df['balance'] = df['balance'].apply(lambda x: median_balance if pd.isna(x) else x)\n",
    "print(f'Updated mean balance value: {df['balance'].mean():.3f}')"
   ]
  },
  {
   "cell_type": "markdown",
   "id": "1097ec42",
   "metadata": {},
   "source": [
    "### Task 5"
   ]
  },
  {
   "cell_type": "code",
   "execution_count": 22,
   "id": "0fa070a6",
   "metadata": {},
   "outputs": [
    {
     "name": "stdout",
     "output_type": "stream",
     "text": [
      "Job mode value: management\n",
      "Education mode value: secondary\n",
      "Mean balance for most popular job and education: 1598.883\n"
     ]
    }
   ],
   "source": [
    "# Process empty values in the features 'job' and 'education' by replacing them with the mode value.\n",
    "job_mode = df['job'].value_counts().index.tolist()[0]\n",
    "print(f'Job mode value: {job_mode}')\n",
    "\n",
    "education_mode = df['education'].value_counts().index.tolist()[0]\n",
    "print(f'Education mode value: {education_mode}')\n",
    "\n",
    "df['job'] = df['job'].apply(lambda x: job_mode if x == 'unknown' else x)\n",
    "df['education'] = df['education'].apply(lambda x: education_mode if x == 'unknown' else x)\n",
    "\n",
    "mask_popular_job_education = (df['job'] == job_mode) & (df['education'] == education_mode)\n",
    "print(f'Mean balance for most popular job and education: {df[mask_popular_job_education]['balance'].mean():.3f}')\n"
   ]
  },
  {
   "cell_type": "markdown",
   "id": "02af77c6",
   "metadata": {},
   "source": [
    "### Task 6"
   ]
  },
  {
   "cell_type": "code",
   "execution_count": 23,
   "id": "3802cdd9",
   "metadata": {},
   "outputs": [
    {
     "name": "stdout",
     "output_type": "stream",
     "text": [
      "IQR, lower bound and upper bound found by the Tukey method:\n",
      "(1576.0, -2241.0, 4063.0)\n",
      "Rows without outliers: 10105\n"
     ]
    }
   ],
   "source": [
    "# Delete outliers for the 'balance' feature\n",
    "print('IQR, lower bound and upper bound found by the Tukey method:')\n",
    "print(find_parameters_iqr(df, 'balance'))\n",
    "\n",
    "outliers, df = find_outliers_iqr(df, 'balance')\n",
    "\n",
    "print(f'Rows without outliers: {df.shape[0]}')"
   ]
  },
  {
   "cell_type": "markdown",
   "id": "5d22b8cd",
   "metadata": {},
   "source": [
    "## Part 2: Exploratory data analysis"
   ]
  },
  {
   "cell_type": "markdown",
   "id": "21e1f083",
   "metadata": {},
   "source": [
    "### Task 1"
   ]
  },
  {
   "cell_type": "code",
   "execution_count": 35,
   "id": "6d0cd3a8",
   "metadata": {},
   "outputs": [
    {
     "name": "stdout",
     "output_type": "stream",
     "text": [
      "Value counts for the 'deposit' feature:\n",
      "deposit\n",
      "no     5424\n",
      "yes    4681\n",
      "Name: count, dtype: int64\n"
     ]
    },
    {
     "data": {
      "image/png": "[encoded data removed]"
     },
     "metadata": {},
     "output_type": "display_data"
    }
   ],
   "source": [
    "# Investigate the ratio of those who opened a deposit and those who did not do it. Illustrate your results.\n",
    "print('Value counts for the \\'deposit\\' feature:')\n",
    "print(df['deposit'].value_counts())\n",
    "\n",
    "fig = px.bar(\n",
    "    df['deposit'].value_counts(),    \n",
    "    width=1000,\n",
    "    height=500,\n",
    "    title='Task 2.1. Ratio of opening vs not opening a deposit',\n",
    "    text_auto=True\n",
    ").update_layout(\n",
    "    yaxis_title='Number of customers',\n",
    "    xaxis_title='Deposit opened',\n",
    "    showlegend=False\n",
    ")\n",
    "fig.show('png')"
   ]
  },
  {
   "cell_type": "markdown",
   "id": "6b043f4a",
   "metadata": {},
   "source": [
    "The data is slightly imbalanced showing the difference in classes of around 15 %."
   ]
  },
  {
   "cell_type": "markdown",
   "id": "426b1d40",
   "metadata": {},
   "source": [
    "### Tasks 2 and 3"
   ]
  },
  {
   "cell_type": "code",
   "execution_count": 44,
   "id": "603cdb3c",
   "metadata": {},
   "outputs": [
    {
     "name": "stdout",
     "output_type": "stream",
     "text": [
      "Quantitative statistics of the numeric features:\n",
      "                age       balance           day      duration      campaign  \\\n",
      "count  10105.000000  10105.000000  10105.000000  10105.000000  10105.000000   \n",
      "mean      40.895497    807.653538     15.590302    368.742603      2.517170   \n",
      "std       11.734931    994.151966      8.441510    346.651524      2.707159   \n",
      "min       18.000000  -2049.000000      1.000000      2.000000      1.000000   \n",
      "25%       32.000000     95.000000      8.000000    137.000000      1.000000   \n",
      "50%       38.000000    445.000000     15.000000    252.000000      2.000000   \n",
      "75%       48.000000   1227.000000     22.000000    490.000000      3.000000   \n",
      "max       95.000000   4063.000000     31.000000   3881.000000     43.000000   \n",
      "\n",
      "              pdays      previous  \n",
      "count  10105.000000  10105.000000  \n",
      "mean      51.319644      0.816230  \n",
      "std      109.644179      2.243795  \n",
      "min       -1.000000      0.000000  \n",
      "25%       -1.000000      0.000000  \n",
      "50%       -1.000000      0.000000  \n",
      "75%        2.000000      1.000000  \n",
      "max      854.000000     58.000000  \n"
     ]
    }
   ],
   "source": [
    "# Calculate quantitative statistics for numeric features. Interpret the results.\n",
    "print('Quantitative statistics of the numeric features:')\n",
    "print(df.describe())\n",
    "\n",
    "fig = px.histogram(\n",
    "    df['age'],\n",
    "    width=1000,\n",
    "    height=500,\n",
    "    title='Tasks 2.2 and 2.3. Age distribution'\n",
    ").update_layout(\n",
    "    yaxis_title='Number of customers',\n",
    "    xaxis_title='Age',\n",
    "    showlegend=False\n",
    ")\n",
    "#fig.show('png')\n",
    "\n",
    "fig = px.histogram(\n",
    "    df['balance'],\n",
    "    width=1000,\n",
    "    height=500,\n",
    "    title='Tasks 2.2 and 2.3. Balance distribution'\n",
    ").update_layout(\n",
    "    yaxis_title='Number of customers',\n",
    "    xaxis_title='Balance',\n",
    "    showlegend=False\n",
    ")\n",
    "#fig.show('png')"
   ]
  },
  {
   "cell_type": "markdown",
   "id": "a7e38260",
   "metadata": {},
   "source": [
    "* Feature 'age': mean is close to median, min and max values are trustworthy for a bank customer, standard deviation and quartiles show that the customers are mainly distributed around the mean/median. Visually the distribution resembles a log normal one.\n",
    "* Feature 'balance': mean is higher than the median (the values are unproportionally higher on the right side of the distribution), min and max values look trustworthy and the mean is close to the middle between them, standard deviation and quartiles show that the values spread is very high. The histogram shows that a very large amount of customers have a 0 balance.\n",
    "* Feature 'day': we'll skip this feature because it cannot be considered without the month, which is a textual feature.\n",
    "* Feature 'duration: mean is higher than the duration (this can be probably explained by many dropped calls), min and max values are trustworthy where min is probably a dropped call, standard deviation and quartiles show that there is a high values spread."
   ]
  },
  {
   "cell_type": "markdown",
   "id": "821dc39e",
   "metadata": {},
   "source": [
    "### Задания 4 и 5"
   ]
  },
  {
   "cell_type": "code",
   "execution_count": null,
   "id": "bf45afc9",
   "metadata": {},
   "outputs": [],
   "source": [
    "#рассчитайте описательные статистики для категориальных переменных, проинтерпретируйте результат\n",
    "#ваш код\n",
    "#постройте визуализации, иллюстрирующие результаты"
   ]
  },
  {
   "cell_type": "markdown",
   "id": "472cff5b",
   "metadata": {},
   "source": [
    "### Задание 6"
   ]
  },
  {
   "cell_type": "code",
   "execution_count": null,
   "id": "2d640ce1",
   "metadata": {},
   "outputs": [],
   "source": [
    "# Узнайте, для какого статуса предыдущей маркетинговой кампании успех в текущей превалирует над количеством неудач.\n",
    "# ваш код"
   ]
  },
  {
   "cell_type": "markdown",
   "id": "9c32e3aa",
   "metadata": {},
   "source": [
    "### Задание 7"
   ]
  },
  {
   "cell_type": "code",
   "execution_count": null,
   "id": "df437ec3",
   "metadata": {},
   "outputs": [],
   "source": [
    "# узнайте, в каком месяце чаще всего отказывались от предложения открыть депозит\n",
    "# ваш код"
   ]
  },
  {
   "cell_type": "markdown",
   "id": "5f20762f",
   "metadata": {},
   "source": [
    "### Задание 8"
   ]
  },
  {
   "cell_type": "code",
   "execution_count": null,
   "id": "95d56f1b",
   "metadata": {},
   "outputs": [],
   "source": [
    "# создайте возрастные группы и определите, в каких группах более склонны открывать депозит, чем отказываться от предложения"
   ]
  },
  {
   "cell_type": "markdown",
   "id": "0841c685",
   "metadata": {},
   "source": [
    "### Задания 9 и 10"
   ]
  },
  {
   "cell_type": "code",
   "execution_count": null,
   "id": "0d84a9e1",
   "metadata": {},
   "outputs": [],
   "source": [
    "# постройте визуализации для открывших и неоткрывших депозит в зависимости от семейного статуса"
   ]
  },
  {
   "cell_type": "code",
   "execution_count": null,
   "id": "16333967",
   "metadata": {},
   "outputs": [],
   "source": [
    "# постройте визуализации для открывших и неоткрывших депозит в зависимости от образования"
   ]
  },
  {
   "cell_type": "code",
   "execution_count": null,
   "id": "738224f8",
   "metadata": {},
   "outputs": [],
   "source": [
    "# постройте визуализации для открывших и неоткрывших депозит в зависимости от вида профессиональной занятости"
   ]
  },
  {
   "cell_type": "markdown",
   "id": "a521e204",
   "metadata": {},
   "source": [
    "### Задание 11"
   ]
  },
  {
   "cell_type": "code",
   "execution_count": null,
   "id": "35ab0413",
   "metadata": {},
   "outputs": [],
   "source": [
    "# постройте сводную таблицу, чтобы определить люди с каким образованием и семейным статусом наиболее многочисленны\n",
    "#(если рассматривать тех, кто открыл депозит)"
   ]
  },
  {
   "cell_type": "markdown",
   "id": "dfd805c0",
   "metadata": {},
   "source": [
    "## Часть 3: преобразование данных"
   ]
  },
  {
   "cell_type": "markdown",
   "id": "e44e715b",
   "metadata": {},
   "source": [
    "### Задание 1"
   ]
  },
  {
   "cell_type": "code",
   "execution_count": null,
   "id": "1e815773",
   "metadata": {},
   "outputs": [],
   "source": [
    "# преобразуйте уровни образования"
   ]
  },
  {
   "cell_type": "markdown",
   "id": "8c93e73d",
   "metadata": {},
   "source": [
    "### Задания 2 и 3"
   ]
  },
  {
   "cell_type": "code",
   "execution_count": null,
   "id": "626a5762",
   "metadata": {},
   "outputs": [],
   "source": [
    "# преобразуйте бинарные переменные в представление из нулей и единиц"
   ]
  },
  {
   "cell_type": "markdown",
   "id": "c40dc02a",
   "metadata": {},
   "source": [
    "### Задание 4"
   ]
  },
  {
   "cell_type": "code",
   "execution_count": null,
   "id": "b996883f",
   "metadata": {},
   "outputs": [],
   "source": [
    "# создайте дамми-переменные"
   ]
  },
  {
   "cell_type": "markdown",
   "id": "9a23e318",
   "metadata": {},
   "source": [
    "### Задания 5 и 6"
   ]
  },
  {
   "cell_type": "code",
   "execution_count": null,
   "id": "1c884c1a",
   "metadata": {},
   "outputs": [],
   "source": [
    "# постройте корреляционную матрицу и оцените данные на предмет наличия мультиколлинеарности"
   ]
  },
  {
   "cell_type": "markdown",
   "id": "b5b4c1a5",
   "metadata": {},
   "source": [
    "### Задания 7 и 8"
   ]
  },
  {
   "cell_type": "code",
   "execution_count": 3,
   "id": "79f3e432",
   "metadata": {},
   "outputs": [],
   "source": [
    "X = df.drop(['deposit'], axis=1)\n",
    "y = df['deposit']\n",
    " \n",
    "X_train, X_test, y_train, y_test = train_test_split(X, y, stratify=y, random_state = 42, test_size = 0.33)"
   ]
  },
  {
   "cell_type": "code",
   "execution_count": null,
   "id": "e3a097a4",
   "metadata": {},
   "outputs": [],
   "source": [
    "# рассчитайте необходимые показатели"
   ]
  },
  {
   "cell_type": "markdown",
   "id": "2e381a4f",
   "metadata": {},
   "source": [
    "### Задание 9"
   ]
  },
  {
   "cell_type": "code",
   "execution_count": null,
   "id": "0f6e03e0",
   "metadata": {},
   "outputs": [],
   "source": [
    "# с помощью SelectKBest отберите 15 наиболее подходящих признаков"
   ]
  },
  {
   "cell_type": "markdown",
   "id": "60132ef3",
   "metadata": {},
   "source": [
    "### Задание 10"
   ]
  },
  {
   "cell_type": "code",
   "execution_count": null,
   "id": "e91b06f3",
   "metadata": {},
   "outputs": [],
   "source": [
    "# нормализуйте данные с помощью minmaxsxaler"
   ]
  },
  {
   "cell_type": "markdown",
   "id": "0894c632",
   "metadata": {},
   "source": [
    "# Часть 4: Решение задачи классификации: логистическая регрессия и решающие деревья"
   ]
  },
  {
   "cell_type": "markdown",
   "id": "41b8ff06",
   "metadata": {},
   "source": [
    "### Задание 1"
   ]
  },
  {
   "cell_type": "code",
   "execution_count": null,
   "id": "8acc0166",
   "metadata": {},
   "outputs": [],
   "source": [
    "# обучите логистическую регрессию и рассчитайте метрики качества"
   ]
  },
  {
   "cell_type": "markdown",
   "id": "29b7e0ba",
   "metadata": {},
   "source": [
    "### Задания 2,3,4"
   ]
  },
  {
   "cell_type": "code",
   "execution_count": null,
   "id": "c91a588b",
   "metadata": {},
   "outputs": [],
   "source": [
    "# обучите решающие деревья, настройте максимальную глубину"
   ]
  },
  {
   "cell_type": "markdown",
   "id": "fe823c18",
   "metadata": {},
   "source": [
    "### Задание 5"
   ]
  },
  {
   "cell_type": "code",
   "execution_count": null,
   "id": "63574943",
   "metadata": {},
   "outputs": [],
   "source": [
    "# подберите оптимальные параметры с помощью gridsearch"
   ]
  },
  {
   "cell_type": "markdown",
   "id": "ed0fc831",
   "metadata": {},
   "source": [
    "# Часть 5: Решение задачи классификации: ансамбли моделей и построение прогноза"
   ]
  },
  {
   "cell_type": "markdown",
   "id": "f9e36ff2",
   "metadata": {},
   "source": [
    "### Задание 1"
   ]
  },
  {
   "cell_type": "code",
   "execution_count": 4,
   "id": "e708e3fe",
   "metadata": {},
   "outputs": [],
   "source": [
    "# обучите на ваших данных случайный лес"
   ]
  },
  {
   "cell_type": "markdown",
   "id": "71d7b13d",
   "metadata": {},
   "source": [
    "### Задания 2 и 3"
   ]
  },
  {
   "cell_type": "code",
   "execution_count": null,
   "id": "99f12dfe",
   "metadata": {},
   "outputs": [],
   "source": [
    "# используйте для классификации градиентный бустинг и сравните качество со случайным лесом"
   ]
  },
  {
   "cell_type": "markdown",
   "id": "b08718ae",
   "metadata": {},
   "source": [
    "### Задание 4"
   ]
  },
  {
   "cell_type": "code",
   "execution_count": null,
   "id": "0bd42fb0",
   "metadata": {},
   "outputs": [],
   "source": [
    "# объедините уже известные вам алгоритмы с помощью стекинга "
   ]
  },
  {
   "cell_type": "markdown",
   "id": "6247a5fb",
   "metadata": {},
   "source": [
    "### Задание 5"
   ]
  },
  {
   "cell_type": "code",
   "execution_count": null,
   "id": "35de769c",
   "metadata": {},
   "outputs": [],
   "source": [
    "# оцените, какие признаки демонстрируют наибольшую  важность в модели градиентного бустинга"
   ]
  },
  {
   "cell_type": "markdown",
   "id": "96974dda",
   "metadata": {},
   "source": [
    "### Задания 6,7,8"
   ]
  },
  {
   "cell_type": "code",
   "execution_count": null,
   "id": "c48e29e9",
   "metadata": {},
   "outputs": [],
   "source": [
    "# реализуйте оптимизацию гиперпараметров с помощью Optuna"
   ]
  }
 ],
 "metadata": {
  "kernelspec": {
   "display_name": "Python 3 (ipykernel)",
   "language": "python",
   "name": "python3"
  },
  "language_info": {
   "codemirror_mode": {
    "name": "ipython",
    "version": 3
   },
   "file_extension": ".py",
   "mimetype": "text/x-python",
   "name": "python",
   "nbconvert_exporter": "python",
   "pygments_lexer": "ipython3",
   "version": "3.12.1"
  }
 },
 "nbformat": 4,
 "nbformat_minor": 5
}
