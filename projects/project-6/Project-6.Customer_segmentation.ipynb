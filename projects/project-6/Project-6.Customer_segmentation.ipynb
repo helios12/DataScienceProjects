{
 "cells": [
  {
   "cell_type": "markdown",
   "metadata": {},
   "source": [
    "# Project: Customer Segmentation"
   ]
  },
  {
   "cell_type": "markdown",
   "metadata": {},
   "source": [
    "## 1. Problem statement"
   ]
  },
  {
   "cell_type": "markdown",
   "metadata": {},
   "source": [
    "In this project, you will solve a real business problem in the field of marketing. You will have to segment customers based on their purchasing power, order frequency, and the length of time since their last order, and determine the optimal strategy for interacting with them.\n",
    "<center> <img src=https://salesupnow.ru/storage/app/media/pipeople.png align=\"right\" width=\"300\"/> </center>\n",
    "\n",
    "Marketing is an integral part of any business. To increase a company's profits, it is important to understand your customer, their wishes, and preferences. With the advent of e-commerce, or online sales, it has become much easier to collect customer data, analyze it, find patterns, and implement marketing campaigns.\n",
    "\n",
    "Most online stores use web analytics tools to track page views, visitor volume and behavior, and bounce rate. But a report from Google Analytics or a similar system may not be enough to fully understand how customers interact with the site. It is important for companies to be able to quickly and accurately respond to changes in customer behavior by creating tools that detect these changes in near real time.\n",
    "\n",
    "Machine learning helps the search engine analyze a huge amount of data about platform visitors, recognize behavior patterns of professional buyers, determine the category of customers (e.g. loyal/promising/newbies/sleeping/gone) and choose the right strategy for interacting with them.\n",
    "\n",
    "It is also worth noting that companies using machine learning on their e-commerce platforms can constantly improve the efficiency of business processes: customize the product selection personally for each customer and offer a favorable price in accordance with the customer's budget, etc. This task falls under the category of building recommender systems, which will be discussed in the next section of our course.\n",
    "\n",
    "**Business task:** segment existing customers, interpret these segments and determine a strategy for interacting with them.\n",
    "\n",
    "**Technical task for you as a Data Science specialist:** build a customer clustering model based on their purchasing power, order frequency and the time since their last purchase, and determine the profile of each cluster.\n",
    "\n",
    "**Main project goals:**\n",
    "1. Pre-process the data set.\n",
    "2. Conduct exploratory data analysis and identify key patterns.\n",
    "3. Form product and customer categories.\n",
    "4. Build several machine learning models that solve the customer clustering problem, determine the number of clusters and interpret them.\n",
    "5. Design a process for predicting the customer interest category and test your model on new customers."
   ]
  },
  {
   "cell_type": "markdown",
   "metadata": {
    "tags": []
   },
   "source": [
    "## 2. Getting to know the data."
   ]
  },
  {
   "cell_type": "code",
   "execution_count": 1,
   "metadata": {},
   "outputs": [],
   "source": [
    "import pandas as pd\n",
    "import numpy as np\n",
    "import matplotlib.pyplot as plt\n",
    "import seaborn as sns\n",
    "import sys\n",
    "from mpl_toolkits.mplot3d import Axes3D\n",
    "\n",
    "import plotly.graph_objs as go\n",
    "import plotly.express as px\n",
    "from plotly.subplots import make_subplots\n",
    "\n",
    "from sklearn import mixture\n",
    "from sklearn import manifold\n",
    "from sklearn import pipeline\n",
    "from sklearn import preprocessing\n",
    "from sklearn import cluster\n",
    "from sklearn import metrics\n",
    "from sklearn import model_selection\n",
    "from sklearn import decomposition\n",
    "from sklearn import ensemble\n",
    "import warnings \n",
    "\n",
    "from IPython.display import display, HTML\n",
    "\n",
    "warnings.filterwarnings(\"ignore\")\n",
    "\n",
    "plt.rcParams[\"patch.force_edgecolor\"] = True\n",
    "\n",
    "sys.path.append('../../')"
   ]
  },
  {
   "cell_type": "markdown",
   "metadata": {},
   "source": [
    "The first thing we need to do is understand what data we will be working with and perform basic pre-processing of the data, converting the features into the formats required for further work."
   ]
  },
  {
   "cell_type": "markdown",
   "metadata": {},
   "source": [
    "First, let's get to know our data:"
   ]
  },
  {
   "cell_type": "code",
   "execution_count": 4,
   "metadata": {},
   "outputs": [
    {
     "name": "stdout",
     "output_type": "stream",
     "text": [
      "Data shape: (541909, 8)\n"
     ]
    },
    {
     "data": {
      "text/html": [
       "<div>\n",
       "<style scoped>\n",
       "    .dataframe tbody tr th:only-of-type {\n",
       "        vertical-align: middle;\n",
       "    }\n",
       "\n",
       "    .dataframe tbody tr th {\n",
       "        vertical-align: top;\n",
       "    }\n",
       "\n",
       "    .dataframe thead th {\n",
       "        text-align: right;\n",
       "    }\n",
       "</style>\n",
       "<table border=\"1\" class=\"dataframe\">\n",
       "  <thead>\n",
       "    <tr style=\"text-align: right;\">\n",
       "      <th></th>\n",
       "      <th>InvoiceNo</th>\n",
       "      <th>StockCode</th>\n",
       "      <th>Description</th>\n",
       "      <th>Quantity</th>\n",
       "      <th>InvoiceDate</th>\n",
       "      <th>UnitPrice</th>\n",
       "      <th>CustomerID</th>\n",
       "      <th>Country</th>\n",
       "    </tr>\n",
       "  </thead>\n",
       "  <tbody>\n",
       "    <tr>\n",
       "      <th>0</th>\n",
       "      <td>536365</td>\n",
       "      <td>85123A</td>\n",
       "      <td>WHITE HANGING HEART T-LIGHT HOLDER</td>\n",
       "      <td>6</td>\n",
       "      <td>12/1/2010 8:26</td>\n",
       "      <td>2.55</td>\n",
       "      <td>17850</td>\n",
       "      <td>United Kingdom</td>\n",
       "    </tr>\n",
       "    <tr>\n",
       "      <th>1</th>\n",
       "      <td>536365</td>\n",
       "      <td>71053</td>\n",
       "      <td>WHITE METAL LANTERN</td>\n",
       "      <td>6</td>\n",
       "      <td>12/1/2010 8:26</td>\n",
       "      <td>3.39</td>\n",
       "      <td>17850</td>\n",
       "      <td>United Kingdom</td>\n",
       "    </tr>\n",
       "    <tr>\n",
       "      <th>2</th>\n",
       "      <td>536365</td>\n",
       "      <td>84406B</td>\n",
       "      <td>CREAM CUPID HEARTS COAT HANGER</td>\n",
       "      <td>8</td>\n",
       "      <td>12/1/2010 8:26</td>\n",
       "      <td>2.75</td>\n",
       "      <td>17850</td>\n",
       "      <td>United Kingdom</td>\n",
       "    </tr>\n",
       "    <tr>\n",
       "      <th>3</th>\n",
       "      <td>536365</td>\n",
       "      <td>84029G</td>\n",
       "      <td>KNITTED UNION FLAG HOT WATER BOTTLE</td>\n",
       "      <td>6</td>\n",
       "      <td>12/1/2010 8:26</td>\n",
       "      <td>3.39</td>\n",
       "      <td>17850</td>\n",
       "      <td>United Kingdom</td>\n",
       "    </tr>\n",
       "    <tr>\n",
       "      <th>4</th>\n",
       "      <td>536365</td>\n",
       "      <td>84029E</td>\n",
       "      <td>RED WOOLLY HOTTIE WHITE HEART.</td>\n",
       "      <td>6</td>\n",
       "      <td>12/1/2010 8:26</td>\n",
       "      <td>3.39</td>\n",
       "      <td>17850</td>\n",
       "      <td>United Kingdom</td>\n",
       "    </tr>\n",
       "  </tbody>\n",
       "</table>\n",
       "</div>"
      ],
      "text/plain": [
       "  InvoiceNo StockCode                          Description  Quantity   \n",
       "0    536365    85123A   WHITE HANGING HEART T-LIGHT HOLDER         6  \\\n",
       "1    536365     71053                  WHITE METAL LANTERN         6   \n",
       "2    536365    84406B       CREAM CUPID HEARTS COAT HANGER         8   \n",
       "3    536365    84029G  KNITTED UNION FLAG HOT WATER BOTTLE         6   \n",
       "4    536365    84029E       RED WOOLLY HOTTIE WHITE HEART.         6   \n",
       "\n",
       "      InvoiceDate  UnitPrice CustomerID         Country  \n",
       "0  12/1/2010 8:26       2.55      17850  United Kingdom  \n",
       "1  12/1/2010 8:26       3.39      17850  United Kingdom  \n",
       "2  12/1/2010 8:26       2.75      17850  United Kingdom  \n",
       "3  12/1/2010 8:26       3.39      17850  United Kingdom  \n",
       "4  12/1/2010 8:26       3.39      17850  United Kingdom  "
      ]
     },
     "execution_count": 4,
     "metadata": {},
     "output_type": "execute_result"
    }
   ],
   "source": [
    "data = pd.read_csv(\n",
    "    \"../../data/Project6_customer_segmentation_project.csv\", \n",
    "    encoding=\"ISO-8859-1\", \n",
    "    dtype={'CustomerID': str,'InvoiceNo': str}\n",
    ")\n",
    "print('Data shape:', data.shape)\n",
    "data.head(5)"
   ]
  },
  {
   "cell_type": "markdown",
   "metadata": {},
   "source": [
    "So, we have data on more than half a million transactions. Each of them is described by the following attributes:\n",
    "\n",
    "* InvoiceNo — invoice number (a unique nominal six-digit number assigned to each transaction; the letter \"C\" at the beginning of the code indicates that the transaction is canceled);\n",
    "* Stock Code — product code (a unique five-digit integer assigned to each individual product);\n",
    "* Description — product name;\n",
    "* Quantity — the quantity of each product per transaction;\n",
    "* InvoiceDate — date and time of invoice/transaction;\n",
    "* UnitPrice — unit price in pounds sterling;\n",
    "* CustomerID — customer identifier (a unique five-digit number, uniquely assigned to each customer);\n",
    "* Country — the name of the country in which the customer lives.\n",
    "\n",
    "Let's analyze the table structure."
   ]
  },
  {
   "cell_type": "markdown",
   "metadata": {},
   "source": [
    "### Task 2.1\n",
    "How many columns in the data are encoded with numeric types (int/float)?"
   ]
  },
  {
   "cell_type": "code",
   "execution_count": 5,
   "metadata": {},
   "outputs": [
    {
     "name": "stdout",
     "output_type": "stream",
     "text": [
      "<class 'pandas.core.frame.DataFrame'>\n",
      "RangeIndex: 541909 entries, 0 to 541908\n",
      "Data columns (total 8 columns):\n",
      " #   Column       Non-Null Count   Dtype  \n",
      "---  ------       --------------   -----  \n",
      " 0   InvoiceNo    541909 non-null  object \n",
      " 1   StockCode    541909 non-null  object \n",
      " 2   Description  540455 non-null  object \n",
      " 3   Quantity     541909 non-null  int64  \n",
      " 4   InvoiceDate  541909 non-null  object \n",
      " 5   UnitPrice    541909 non-null  float64\n",
      " 6   CustomerID   406829 non-null  object \n",
      " 7   Country      541909 non-null  object \n",
      "dtypes: float64(1), int64(1), object(6)\n",
      "memory usage: 33.1+ MB\n"
     ]
    }
   ],
   "source": [
    "data.info()"
   ]
  },
  {
   "cell_type": "markdown",
   "metadata": {
    "_uuid": "e8ffbb4aa2df86ecb4e84cec0b56acd7c47fe51a",
    "tags": []
   },
   "source": [
    "### Task 2.2\n",
    "Select the columns that have at least one blank:\n",
    "* InvoiceNo\n",
    "* StockCode\n",
    "* Description\n",
    "* CustomerID\n",
    "* Country"
   ]
  },
  {
   "cell_type": "code",
   "execution_count": 6,
   "metadata": {},
   "outputs": [
    {
     "data": {
      "text/plain": [
       "InvoiceNo           0\n",
       "StockCode           0\n",
       "Description      1454\n",
       "Quantity            0\n",
       "InvoiceDate         0\n",
       "UnitPrice           0\n",
       "CustomerID     135080\n",
       "Country             0\n",
       "dtype: int64"
      ]
     },
     "execution_count": 6,
     "metadata": {},
     "output_type": "execute_result"
    }
   ],
   "source": [
    "data.isnull().sum()"
   ]
  },
  {
   "cell_type": "markdown",
   "metadata": {},
   "source": [
    "The columns \"Description\" and \"CustomerID\" have blank values."
   ]
  },
  {
   "cell_type": "markdown",
   "metadata": {},
   "source": [
    "### Task 2.3\n",
    "Judging by the task description, we should have been provided with data for a yearly period - let's check if this is true.\n",
    "\n",
    "Convert the InvoiceDate column to datetime format.\n",
    "Indicate the time period for which the data is provided:\n",
    "\n",
    "* 2010-12-01 to 2011-12-09\n",
    "* 2011-12-01 to 2012-12-09\n",
    "* 2010-01-01 to 2011-01-09\n",
    "* 2020-12-01 to 2021-12-09"
   ]
  },
  {
   "cell_type": "code",
   "execution_count": 10,
   "metadata": {},
   "outputs": [
    {
     "name": "stdout",
     "output_type": "stream",
     "text": [
      "Period start: 2010-12-01 08:26:00\n",
      "Period end: 2011-12-09 12:50:00\n"
     ]
    }
   ],
   "source": [
    "data['InvoiceDate'] = pd.to_datetime(data['InvoiceDate'])\n",
    "print('Period start:', data['InvoiceDate'].min())\n",
    "print('Period end:', data['InvoiceDate'].max())"
   ]
  },
  {
   "cell_type": "markdown",
   "metadata": {},
   "source": [
    "Data is provided for the period 2010-12-01 to 2011-12-09."
   ]
  },
  {
   "cell_type": "markdown",
   "metadata": {},
   "source": [
    "### Task 2.4\n",
    "\n",
    "1) What is the maximum quantity of goods in an order (Quantity)? Give the answer as an integer.\n",
    "\n",
    "2) What is the minimum quantity of goods in an order (Quantity)? Give the answer as an integer.\n",
    "\n",
    "3) How much does the cheapest item cost according to the data (excluding items with negative value)?"
   ]
  },
  {
   "cell_type": "code",
   "execution_count": 25,
   "metadata": {},
   "outputs": [
    {
     "name": "stdout",
     "output_type": "stream",
     "text": [
      "Max quantity of goods in order: 80995\n",
      "Min quantity of goods in order: -80995\n",
      "Cheapest not negative item price: 0.0\n"
     ]
    }
   ],
   "source": [
    "goods_counts_in_order = data.groupby('InvoiceNo')['Quantity'].agg('sum')\n",
    "\n",
    "# 1\n",
    "print('Max quantity of goods in order:', goods_counts_in_order.sort_values(ascending=False).iloc[0])\n",
    "\n",
    "# 2\n",
    "print('Min quantity of goods in order:', goods_counts_in_order.sort_values(ascending=True).iloc[0])\n",
    "\n",
    "# 3\n",
    "print('Cheapest not negative item price:', data[data['UnitPrice']>=0]['UnitPrice'].min())"
   ]
  },
  {
   "cell_type": "markdown",
   "metadata": {},
   "source": [
    "### Task 2.5\n",
    "1) How many unique customers purchased products during the dataset period?\n",
    "\n",
    "2) How many unique countries are contained in the Country column (excluding the special code 'Unspecified', which denotes an unspecified country)?\n",
    "\n",
    "3) Specify the identifier of the most popular product (StockCode):\n",
    "* 85123A\n",
    "* 64812\n",
    "* 51242\n",
    "* 24151B"
   ]
  },
  {
   "cell_type": "code",
   "execution_count": 47,
   "metadata": {},
   "outputs": [
    {
     "name": "stdout",
     "output_type": "stream",
     "text": [
      "Number of unique customers: 4372\n",
      "Number of unique countries: 37\n",
      "The most popular product: 85123A\n"
     ]
    }
   ],
   "source": [
    "# 1\n",
    "print('Number of unique customers:', len(set(data['CustomerID'])) - 1)\n",
    "\n",
    "# 2\n",
    "print('Number of unique countries:', len(data['Country'].unique()) - 1)\n",
    "\n",
    "# 3\n",
    "print('The most popular product:', \n",
    "      data.groupby('StockCode')['StockCode'].agg('count').sort_values(ascending=False).index[0]\n",
    ")"
   ]
  },
  {
   "cell_type": "markdown",
   "metadata": {},
   "source": [
    "## 3. Preprocessing and data cleaning"
   ]
  },
  {
   "cell_type": "markdown",
   "metadata": {},
   "source": [
    "At this stage, we need to prepare our dataset for further modeling by cleaning the data."
   ]
  },
  {
   "cell_type": "markdown",
   "metadata": {
    "tags": []
   },
   "source": [
    "### Task 3.1\n",
    "Let's start with blanks.\n",
    "\n",
    "1) How many missing values ​​are there in the table?\n",
    "\n",
    "2) Blands in the customer ID and product description columns indicate incorrect/incomplete transactions. Delete the rows containing blanks in these columns. How many rows are left in the table?"
   ]
  },
  {
   "cell_type": "code",
   "execution_count": 51,
   "metadata": {},
   "outputs": [
    {
     "name": "stdout",
     "output_type": "stream",
     "text": [
      "Number of missing values: 0\n",
      "The number of remaining rows: 406829\n"
     ]
    }
   ],
   "source": [
    "# 1\n",
    "print('Number of missing values:', data.isnull().sum().sum())\n",
    "\n",
    "# 2\n",
    "data = data.dropna(how='any')\n",
    "print('The number of remaining rows:', data.shape[0])"
   ]
  },
  {
   "cell_type": "markdown",
   "metadata": {},
   "source": [
    "### Task 3.2\n",
    "Following the gaps, we check for duplicates.\n",
    "\n",
    "1) How many completely duplicate records are there in the table?\n",
    "\n",
    "2) Remove duplicates from the table. How many rows are left?"
   ]
  },
  {
   "cell_type": "code",
   "execution_count": 55,
   "metadata": {},
   "outputs": [
    {
     "name": "stdout",
     "output_type": "stream",
     "text": [
      "Number of duplicates: 5225\n",
      "Number of not duplicates: 401604\n"
     ]
    }
   ],
   "source": [
    "# 1\n",
    "duplicates = data.duplicated()\n",
    "print('Number of duplicates:', duplicates.sum())\n",
    "\n",
    "# 2\n",
    "data = data.drop_duplicates()\n",
    "print('Number of not duplicates:', data.shape[0])"
   ]
  },
  {
   "cell_type": "markdown",
   "metadata": {},
   "source": [
    "Earlier we noticed that there are negative values ​​in the column with the quantity of goods. Let's figure out where they come from. Let's output the first 5 rows of the table in which the Quantity column is less than 0."
   ]
  },
  {
   "cell_type": "code",
   "execution_count": 58,
   "metadata": {},
   "outputs": [
    {
     "name": "stdout",
     "output_type": "stream",
     "text": [
      "Count of entries with a negative number: 8872\n"
     ]
    },
    {
     "data": {
      "text/html": [
       "<div>\n",
       "<style scoped>\n",
       "    .dataframe tbody tr th:only-of-type {\n",
       "        vertical-align: middle;\n",
       "    }\n",
       "\n",
       "    .dataframe tbody tr th {\n",
       "        vertical-align: top;\n",
       "    }\n",
       "\n",
       "    .dataframe thead th {\n",
       "        text-align: right;\n",
       "    }\n",
       "</style>\n",
       "<table border=\"1\" class=\"dataframe\">\n",
       "  <thead>\n",
       "    <tr style=\"text-align: right;\">\n",
       "      <th></th>\n",
       "      <th>InvoiceNo</th>\n",
       "      <th>StockCode</th>\n",
       "      <th>Description</th>\n",
       "      <th>Quantity</th>\n",
       "      <th>InvoiceDate</th>\n",
       "      <th>UnitPrice</th>\n",
       "      <th>CustomerID</th>\n",
       "      <th>Country</th>\n",
       "    </tr>\n",
       "  </thead>\n",
       "  <tbody>\n",
       "    <tr>\n",
       "      <th>141</th>\n",
       "      <td>C536379</td>\n",
       "      <td>D</td>\n",
       "      <td>Discount</td>\n",
       "      <td>-1</td>\n",
       "      <td>2010-12-01 09:41:00</td>\n",
       "      <td>27.50</td>\n",
       "      <td>14527</td>\n",
       "      <td>United Kingdom</td>\n",
       "    </tr>\n",
       "    <tr>\n",
       "      <th>154</th>\n",
       "      <td>C536383</td>\n",
       "      <td>35004C</td>\n",
       "      <td>SET OF 3 COLOURED  FLYING DUCKS</td>\n",
       "      <td>-1</td>\n",
       "      <td>2010-12-01 09:49:00</td>\n",
       "      <td>4.65</td>\n",
       "      <td>15311</td>\n",
       "      <td>United Kingdom</td>\n",
       "    </tr>\n",
       "    <tr>\n",
       "      <th>235</th>\n",
       "      <td>C536391</td>\n",
       "      <td>22556</td>\n",
       "      <td>PLASTERS IN TIN CIRCUS PARADE</td>\n",
       "      <td>-12</td>\n",
       "      <td>2010-12-01 10:24:00</td>\n",
       "      <td>1.65</td>\n",
       "      <td>17548</td>\n",
       "      <td>United Kingdom</td>\n",
       "    </tr>\n",
       "    <tr>\n",
       "      <th>236</th>\n",
       "      <td>C536391</td>\n",
       "      <td>21984</td>\n",
       "      <td>PACK OF 12 PINK PAISLEY TISSUES</td>\n",
       "      <td>-24</td>\n",
       "      <td>2010-12-01 10:24:00</td>\n",
       "      <td>0.29</td>\n",
       "      <td>17548</td>\n",
       "      <td>United Kingdom</td>\n",
       "    </tr>\n",
       "    <tr>\n",
       "      <th>237</th>\n",
       "      <td>C536391</td>\n",
       "      <td>21983</td>\n",
       "      <td>PACK OF 12 BLUE PAISLEY TISSUES</td>\n",
       "      <td>-24</td>\n",
       "      <td>2010-12-01 10:24:00</td>\n",
       "      <td>0.29</td>\n",
       "      <td>17548</td>\n",
       "      <td>United Kingdom</td>\n",
       "    </tr>\n",
       "  </tbody>\n",
       "</table>\n",
       "</div>"
      ],
      "text/plain": [
       "    InvoiceNo StockCode                       Description  Quantity   \n",
       "141   C536379         D                          Discount        -1  \\\n",
       "154   C536383    35004C   SET OF 3 COLOURED  FLYING DUCKS        -1   \n",
       "235   C536391     22556    PLASTERS IN TIN CIRCUS PARADE        -12   \n",
       "236   C536391     21984  PACK OF 12 PINK PAISLEY TISSUES        -24   \n",
       "237   C536391     21983  PACK OF 12 BLUE PAISLEY TISSUES        -24   \n",
       "\n",
       "            InvoiceDate  UnitPrice CustomerID         Country  \n",
       "141 2010-12-01 09:41:00      27.50      14527  United Kingdom  \n",
       "154 2010-12-01 09:49:00       4.65      15311  United Kingdom  \n",
       "235 2010-12-01 10:24:00       1.65      17548  United Kingdom  \n",
       "236 2010-12-01 10:24:00       0.29      17548  United Kingdom  \n",
       "237 2010-12-01 10:24:00       0.29      17548  United Kingdom  "
      ]
     },
     "execution_count": 58,
     "metadata": {},
     "output_type": "execute_result"
    }
   ],
   "source": [
    "negative_quantity = data[(data['Quantity']<0)]\n",
    "print('Count of entries with a negative number:', negative_quantity.shape[0])\n",
    "negative_quantity.head()"
   ]
  },
  {
   "cell_type": "markdown",
   "metadata": {},
   "source": [
    "### Task 3.3\n",
    "Let's check that all records from the table with a negative quantity of goods are indeed return transactions. If a transaction is not a return, but contains a negative quantity of goods, this will be a reason to consider it an outlier.\n",
    "\n",
    "How many transactions from the negative_quantity table do not contain a return indicator in the order number?"
   ]
  },
  {
   "cell_type": "code",
   "execution_count": 72,
   "metadata": {},
   "outputs": [
    {
     "name": "stdout",
     "output_type": "stream",
     "text": [
      "Number of negative quantity in not returns: 0\n"
     ]
    }
   ],
   "source": [
    "print('Number of negative quantity in not returns:', \n",
    "      data[~data['InvoiceNo'].str.startswith('C') & data['Quantity']<0].shape[0]\n",
    ")"
   ]
  },
  {
   "cell_type": "markdown",
   "metadata": {},
   "source": [
    "Let's take a closer look at returns. Currently, each unique product has a separate row in the table - this makes it difficult to determine the total number of returns.\n",
    "\n",
    "To calculate the number of returns, you first need to determine how many unique products are specified in the transaction (basket) for each unique \"customer-order\" pair:"
   ]
  },
  {
   "cell_type": "code",
   "execution_count": 80,
   "metadata": {},
   "outputs": [
    {
     "data": {
      "text/html": [
       "<div>\n",
       "<style scoped>\n",
       "    .dataframe tbody tr th:only-of-type {\n",
       "        vertical-align: middle;\n",
       "    }\n",
       "\n",
       "    .dataframe tbody tr th {\n",
       "        vertical-align: top;\n",
       "    }\n",
       "\n",
       "    .dataframe thead th {\n",
       "        text-align: right;\n",
       "    }\n",
       "</style>\n",
       "<table border=\"1\" class=\"dataframe\">\n",
       "  <thead>\n",
       "    <tr style=\"text-align: right;\">\n",
       "      <th></th>\n",
       "      <th>CustomerID</th>\n",
       "      <th>InvoiceNo</th>\n",
       "      <th>Number of products</th>\n",
       "    </tr>\n",
       "  </thead>\n",
       "  <tbody>\n",
       "    <tr>\n",
       "      <th>0</th>\n",
       "      <td>12346</td>\n",
       "      <td>541431</td>\n",
       "      <td>1</td>\n",
       "    </tr>\n",
       "    <tr>\n",
       "      <th>1</th>\n",
       "      <td>12346</td>\n",
       "      <td>C541433</td>\n",
       "      <td>1</td>\n",
       "    </tr>\n",
       "    <tr>\n",
       "      <th>2</th>\n",
       "      <td>12347</td>\n",
       "      <td>537626</td>\n",
       "      <td>31</td>\n",
       "    </tr>\n",
       "    <tr>\n",
       "      <th>3</th>\n",
       "      <td>12347</td>\n",
       "      <td>542237</td>\n",
       "      <td>29</td>\n",
       "    </tr>\n",
       "    <tr>\n",
       "      <th>4</th>\n",
       "      <td>12347</td>\n",
       "      <td>549222</td>\n",
       "      <td>24</td>\n",
       "    </tr>\n",
       "  </tbody>\n",
       "</table>\n",
       "</div>"
      ],
      "text/plain": [
       "  CustomerID InvoiceNo  Number of products\n",
       "0      12346    541431                   1\n",
       "1      12346   C541433                   1\n",
       "2      12347    537626                  31\n",
       "3      12347    542237                  29\n",
       "4      12347    549222                  24"
      ]
     },
     "execution_count": 80,
     "metadata": {},
     "output_type": "execute_result"
    }
   ],
   "source": [
    "temp = data.groupby(by=['CustomerID', 'InvoiceNo'], as_index=False)['InvoiceDate'].count()\n",
    "nb_products_per_basket = temp.rename(columns = {'InvoiceDate':'Number of products'})\n",
    "nb_products_per_basket.head()"
   ]
  },
  {
   "cell_type": "markdown",
   "metadata": {},
   "source": [
    "### Task 3.4\n",
    "Add an order cancellation flag (order_canceled) to the auxiliary table nb_products_per_basket: it is equal to 1 if the transaction is a return, and 0 otherwise.\n",
    "\n",
    "What percentage of orders in the table are returns? Give your answer as an integer."
   ]
  },
  {
   "cell_type": "code",
   "execution_count": 81,
   "metadata": {},
   "outputs": [
    {
     "data": {
      "text/plain": [
       "order_canceled\n",
       "0    0.835331\n",
       "1    0.164669\n",
       "Name: proportion, dtype: float64"
      ]
     },
     "execution_count": 81,
     "metadata": {},
     "output_type": "execute_result"
    }
   ],
   "source": [
    "nb_products_per_basket['order_canceled'] =\\\n",
    "    nb_products_per_basket['InvoiceNo'].apply(lambda x: 1 if x.startswith('C') else 0)\n",
    "nb_products_per_basket['order_canceled'].value_counts(normalize=True)"
   ]
  },
  {
   "cell_type": "markdown",
   "metadata": {},
   "source": [
    "Let's take a closer look at the cancelled orders:"
   ]
  },
  {
   "cell_type": "code",
   "execution_count": 82,
   "metadata": {},
   "outputs": [
    {
     "data": {
      "text/html": [
       "<div>\n",
       "<style scoped>\n",
       "    .dataframe tbody tr th:only-of-type {\n",
       "        vertical-align: middle;\n",
       "    }\n",
       "\n",
       "    .dataframe tbody tr th {\n",
       "        vertical-align: top;\n",
       "    }\n",
       "\n",
       "    .dataframe thead th {\n",
       "        text-align: right;\n",
       "    }\n",
       "</style>\n",
       "<table border=\"1\" class=\"dataframe\">\n",
       "  <thead>\n",
       "    <tr style=\"text-align: right;\">\n",
       "      <th></th>\n",
       "      <th>CustomerID</th>\n",
       "      <th>InvoiceNo</th>\n",
       "      <th>Number of products</th>\n",
       "      <th>order_canceled</th>\n",
       "    </tr>\n",
       "  </thead>\n",
       "  <tbody>\n",
       "    <tr>\n",
       "      <th>1</th>\n",
       "      <td>12346</td>\n",
       "      <td>C541433</td>\n",
       "      <td>1</td>\n",
       "      <td>1</td>\n",
       "    </tr>\n",
       "    <tr>\n",
       "      <th>23</th>\n",
       "      <td>12352</td>\n",
       "      <td>C545329</td>\n",
       "      <td>2</td>\n",
       "      <td>1</td>\n",
       "    </tr>\n",
       "    <tr>\n",
       "      <th>24</th>\n",
       "      <td>12352</td>\n",
       "      <td>C545330</td>\n",
       "      <td>1</td>\n",
       "      <td>1</td>\n",
       "    </tr>\n",
       "    <tr>\n",
       "      <th>25</th>\n",
       "      <td>12352</td>\n",
       "      <td>C547388</td>\n",
       "      <td>7</td>\n",
       "      <td>1</td>\n",
       "    </tr>\n",
       "    <tr>\n",
       "      <th>39</th>\n",
       "      <td>12359</td>\n",
       "      <td>C549955</td>\n",
       "      <td>2</td>\n",
       "      <td>1</td>\n",
       "    </tr>\n",
       "  </tbody>\n",
       "</table>\n",
       "</div>"
      ],
      "text/plain": [
       "   CustomerID InvoiceNo  Number of products  order_canceled\n",
       "1       12346   C541433                   1               1\n",
       "23      12352   C545329                   2               1\n",
       "24      12352   C545330                   1               1\n",
       "25      12352   C547388                   7               1\n",
       "39      12359   C549955                   2               1"
      ]
     },
     "execution_count": 82,
     "metadata": {},
     "output_type": "execute_result"
    }
   ],
   "source": [
    "nb_products_per_basket[nb_products_per_basket['order_canceled']==1].head()"
   ]
  },
  {
   "cell_type": "markdown",
   "metadata": {},
   "source": [
    "Let's find in the table with all transactions, records belonging to the client with the identifier 12346:"
   ]
  },
  {
   "cell_type": "code",
   "execution_count": 83,
   "metadata": {},
   "outputs": [
    {
     "data": {
      "text/html": [
       "<div>\n",
       "<style scoped>\n",
       "    .dataframe tbody tr th:only-of-type {\n",
       "        vertical-align: middle;\n",
       "    }\n",
       "\n",
       "    .dataframe tbody tr th {\n",
       "        vertical-align: top;\n",
       "    }\n",
       "\n",
       "    .dataframe thead th {\n",
       "        text-align: right;\n",
       "    }\n",
       "</style>\n",
       "<table border=\"1\" class=\"dataframe\">\n",
       "  <thead>\n",
       "    <tr style=\"text-align: right;\">\n",
       "      <th></th>\n",
       "      <th>InvoiceNo</th>\n",
       "      <th>StockCode</th>\n",
       "      <th>Description</th>\n",
       "      <th>Quantity</th>\n",
       "      <th>InvoiceDate</th>\n",
       "      <th>UnitPrice</th>\n",
       "      <th>CustomerID</th>\n",
       "      <th>Country</th>\n",
       "    </tr>\n",
       "  </thead>\n",
       "  <tbody>\n",
       "    <tr>\n",
       "      <th>61619</th>\n",
       "      <td>541431</td>\n",
       "      <td>23166</td>\n",
       "      <td>MEDIUM CERAMIC TOP STORAGE JAR</td>\n",
       "      <td>74215</td>\n",
       "      <td>2011-01-18 10:01:00</td>\n",
       "      <td>1.04</td>\n",
       "      <td>12346</td>\n",
       "      <td>United Kingdom</td>\n",
       "    </tr>\n",
       "    <tr>\n",
       "      <th>61624</th>\n",
       "      <td>C541433</td>\n",
       "      <td>23166</td>\n",
       "      <td>MEDIUM CERAMIC TOP STORAGE JAR</td>\n",
       "      <td>-74215</td>\n",
       "      <td>2011-01-18 10:17:00</td>\n",
       "      <td>1.04</td>\n",
       "      <td>12346</td>\n",
       "      <td>United Kingdom</td>\n",
       "    </tr>\n",
       "  </tbody>\n",
       "</table>\n",
       "</div>"
      ],
      "text/plain": [
       "      InvoiceNo StockCode                     Description  Quantity   \n",
       "61619    541431     23166  MEDIUM CERAMIC TOP STORAGE JAR     74215  \\\n",
       "61624   C541433     23166  MEDIUM CERAMIC TOP STORAGE JAR    -74215   \n",
       "\n",
       "              InvoiceDate  UnitPrice CustomerID         Country  \n",
       "61619 2011-01-18 10:01:00       1.04      12346  United Kingdom  \n",
       "61624 2011-01-18 10:17:00       1.04      12346  United Kingdom  "
      ]
     },
     "execution_count": 83,
     "metadata": {},
     "output_type": "execute_result"
    }
   ],
   "source": [
    "data[data['CustomerID'] == '12346']"
   ]
  },
  {
   "cell_type": "markdown",
   "metadata": {},
   "source": [
    "So here is an example of an order-cancel pair. Notice the StockCode, UnitPrice, CustomerID and Quantity columns, compare them for the two transactions."
   ]
  },
  {
   "cell_type": "markdown",
   "metadata": {},
   "source": [
    "### Task 3.5\n",
    "We put a hypothesis: for each cancelled transaction in the database (data table), there is an analogue with the same product code, customer ID and the opposite value of the product quantity.\n",
    "\n",
    "* Is the hypothesis correct?\n",
    "* Yes, it is correct"
   ]
  },
  {
   "cell_type": "code",
   "execution_count": 105,
   "metadata": {},
   "outputs": [
    {
     "name": "stdout",
     "output_type": "stream",
     "text": [
      "Number of transactions: 8872\n",
      "Number of cancelled transactions having an original order: 5939\n"
     ]
    }
   ],
   "source": [
    "cancelled_orders = data.merge(\n",
    "    nb_products_per_basket[nb_products_per_basket['order_canceled']==1],\n",
    "    on=['CustomerID', 'InvoiceNo']\n",
    ")\n",
    "print('Number of transactions:', cancelled_orders.shape[0])\n",
    "cancelled_orders['Quantity'] = -cancelled_orders['Quantity']\n",
    "cancelled_having_original = cancelled_orders.merge(data, on=['CustomerID', 'StockCode', 'Quantity'])\n",
    "print('Number of cancelled transactions having an original order:', cancelled_having_original.shape[0])"
   ]
  },
  {
   "cell_type": "markdown",
   "metadata": {},
   "source": [
    "The hypothesis is not correct because not for each cancelled transactions there is an original not cancelled transaction."
   ]
  },
  {
   "cell_type": "markdown",
   "metadata": {},
   "source": [
    "Let's give a counter-example where our previous hypothesis \"stumbled\". Let's look at the client with the ID 14527:"
   ]
  },
  {
   "cell_type": "code",
   "execution_count": 106,
   "metadata": {},
   "outputs": [
    {
     "data": {
      "text/html": [
       "<div>\n",
       "<style scoped>\n",
       "    .dataframe tbody tr th:only-of-type {\n",
       "        vertical-align: middle;\n",
       "    }\n",
       "\n",
       "    .dataframe tbody tr th {\n",
       "        vertical-align: top;\n",
       "    }\n",
       "\n",
       "    .dataframe thead th {\n",
       "        text-align: right;\n",
       "    }\n",
       "</style>\n",
       "<table border=\"1\" class=\"dataframe\">\n",
       "  <thead>\n",
       "    <tr style=\"text-align: right;\">\n",
       "      <th></th>\n",
       "      <th>InvoiceNo</th>\n",
       "      <th>StockCode</th>\n",
       "      <th>Description</th>\n",
       "      <th>Quantity</th>\n",
       "      <th>InvoiceDate</th>\n",
       "      <th>UnitPrice</th>\n",
       "      <th>CustomerID</th>\n",
       "      <th>Country</th>\n",
       "    </tr>\n",
       "  </thead>\n",
       "  <tbody>\n",
       "    <tr>\n",
       "      <th>141</th>\n",
       "      <td>C536379</td>\n",
       "      <td>D</td>\n",
       "      <td>Discount</td>\n",
       "      <td>-1</td>\n",
       "      <td>2010-12-01 09:41:00</td>\n",
       "      <td>27.50</td>\n",
       "      <td>14527</td>\n",
       "      <td>United Kingdom</td>\n",
       "    </tr>\n",
       "    <tr>\n",
       "      <th>8963</th>\n",
       "      <td>537159</td>\n",
       "      <td>22112</td>\n",
       "      <td>CHOCOLATE HOT WATER BOTTLE</td>\n",
       "      <td>6</td>\n",
       "      <td>2010-12-05 13:17:00</td>\n",
       "      <td>4.95</td>\n",
       "      <td>14527</td>\n",
       "      <td>United Kingdom</td>\n",
       "    </tr>\n",
       "    <tr>\n",
       "      <th>8964</th>\n",
       "      <td>537159</td>\n",
       "      <td>22111</td>\n",
       "      <td>SCOTTIE DOG HOT WATER BOTTLE</td>\n",
       "      <td>1</td>\n",
       "      <td>2010-12-05 13:17:00</td>\n",
       "      <td>4.95</td>\n",
       "      <td>14527</td>\n",
       "      <td>United Kingdom</td>\n",
       "    </tr>\n",
       "    <tr>\n",
       "      <th>8965</th>\n",
       "      <td>537159</td>\n",
       "      <td>21479</td>\n",
       "      <td>WHITE SKULL HOT WATER BOTTLE</td>\n",
       "      <td>1</td>\n",
       "      <td>2010-12-05 13:17:00</td>\n",
       "      <td>3.75</td>\n",
       "      <td>14527</td>\n",
       "      <td>United Kingdom</td>\n",
       "    </tr>\n",
       "    <tr>\n",
       "      <th>8966</th>\n",
       "      <td>537159</td>\n",
       "      <td>22114</td>\n",
       "      <td>HOT WATER BOTTLE TEA AND SYMPATHY</td>\n",
       "      <td>6</td>\n",
       "      <td>2010-12-05 13:17:00</td>\n",
       "      <td>3.95</td>\n",
       "      <td>14527</td>\n",
       "      <td>United Kingdom</td>\n",
       "    </tr>\n",
       "  </tbody>\n",
       "</table>\n",
       "</div>"
      ],
      "text/plain": [
       "     InvoiceNo StockCode                        Description  Quantity   \n",
       "141    C536379         D                           Discount        -1  \\\n",
       "8963    537159     22112         CHOCOLATE HOT WATER BOTTLE         6   \n",
       "8964    537159     22111       SCOTTIE DOG HOT WATER BOTTLE         1   \n",
       "8965    537159     21479      WHITE SKULL HOT WATER BOTTLE          1   \n",
       "8966    537159     22114  HOT WATER BOTTLE TEA AND SYMPATHY         6   \n",
       "\n",
       "             InvoiceDate  UnitPrice CustomerID         Country  \n",
       "141  2010-12-01 09:41:00      27.50      14527  United Kingdom  \n",
       "8963 2010-12-05 13:17:00       4.95      14527  United Kingdom  \n",
       "8964 2010-12-05 13:17:00       4.95      14527  United Kingdom  \n",
       "8965 2010-12-05 13:17:00       3.75      14527  United Kingdom  \n",
       "8966 2010-12-05 13:17:00       3.95      14527  United Kingdom  "
      ]
     },
     "execution_count": 106,
     "metadata": {},
     "output_type": "execute_result"
    }
   ],
   "source": [
    "data[(data['CustomerID'] == '14527')].head(5)"
   ]
  },
  {
   "cell_type": "markdown",
   "metadata": {},
   "source": [
    "Pay attention to the first line, which contains order C536379 with a cancellation flag - you will not find any opposite analogs in terms of the number of goods. The reason lies in the type of goods: this product is designated as a discounted product (StockCode), and, apparently, there are no analogs with a positive number of goods in the order for such transactions. Let's take this observation into account for the future."
   ]
  },
  {
   "cell_type": "markdown",
   "metadata": {},
   "source": [
    "### Task 3.6\n",
    "We propose a new hypothesis: for each cancelled transaction in the database (data table), there is an analogue with the same product code, customer ID and the opposite value of the product quantity, if the product is not subject to discounts.\n",
    "\n",
    "Is the hypothesis correct?\n",
    "* Yes, it is correct\n",
    "* No, it is not correct"
   ]
  },
  {
   "cell_type": "code",
   "execution_count": 107,
   "metadata": {},
   "outputs": [
    {
     "name": "stdout",
     "output_type": "stream",
     "text": [
      "Number of not discounted cancelled transactions: 8795\n",
      "Number of cancelled transactions having an original order: 5939\n"
     ]
    }
   ],
   "source": [
    "cancelled_orders = cancelled_orders[cancelled_orders['StockCode'] != 'D']\n",
    "print('Number of not discounted cancelled transactions:', cancelled_orders.shape[0])\n",
    "cancelled_having_original = cancelled_orders.merge(data, on=['CustomerID', 'StockCode', 'Quantity'])\n",
    "print('Number of cancelled transactions having an original order:', cancelled_having_original.shape[0])"
   ]
  },
  {
   "cell_type": "markdown",
   "metadata": {},
   "source": [
    "The hypothesis is not correct because not for each not discounted cancelled transactions there is an original not cancelled transaction."
   ]
  },
  {
   "cell_type": "markdown",
   "metadata": {},
   "source": [
    "Let's see where our problem lies. As a counter-example, we will provide transactions related to the client with the ID 15311 and the product with the code 35004C:"
   ]
  },
  {
   "cell_type": "code",
   "execution_count": 108,
   "metadata": {},
   "outputs": [
    {
     "data": {
      "text/html": [
       "<div>\n",
       "<style scoped>\n",
       "    .dataframe tbody tr th:only-of-type {\n",
       "        vertical-align: middle;\n",
       "    }\n",
       "\n",
       "    .dataframe tbody tr th {\n",
       "        vertical-align: top;\n",
       "    }\n",
       "\n",
       "    .dataframe thead th {\n",
       "        text-align: right;\n",
       "    }\n",
       "</style>\n",
       "<table border=\"1\" class=\"dataframe\">\n",
       "  <thead>\n",
       "    <tr style=\"text-align: right;\">\n",
       "      <th></th>\n",
       "      <th>InvoiceNo</th>\n",
       "      <th>StockCode</th>\n",
       "      <th>Description</th>\n",
       "      <th>Quantity</th>\n",
       "      <th>InvoiceDate</th>\n",
       "      <th>UnitPrice</th>\n",
       "      <th>CustomerID</th>\n",
       "      <th>Country</th>\n",
       "    </tr>\n",
       "  </thead>\n",
       "  <tbody>\n",
       "    <tr>\n",
       "      <th>154</th>\n",
       "      <td>C536383</td>\n",
       "      <td>35004C</td>\n",
       "      <td>SET OF 3 COLOURED  FLYING DUCKS</td>\n",
       "      <td>-1</td>\n",
       "      <td>2010-12-01 09:49:00</td>\n",
       "      <td>4.65</td>\n",
       "      <td>15311</td>\n",
       "      <td>United Kingdom</td>\n",
       "    </tr>\n",
       "    <tr>\n",
       "      <th>9200</th>\n",
       "      <td>537195</td>\n",
       "      <td>35004C</td>\n",
       "      <td>SET OF 3 COLOURED  FLYING DUCKS</td>\n",
       "      <td>12</td>\n",
       "      <td>2010-12-05 13:55:00</td>\n",
       "      <td>4.65</td>\n",
       "      <td>15311</td>\n",
       "      <td>United Kingdom</td>\n",
       "    </tr>\n",
       "    <tr>\n",
       "      <th>18196</th>\n",
       "      <td>C537805</td>\n",
       "      <td>35004C</td>\n",
       "      <td>SET OF 3 COLOURED  FLYING DUCKS</td>\n",
       "      <td>-1</td>\n",
       "      <td>2010-12-08 13:18:00</td>\n",
       "      <td>4.65</td>\n",
       "      <td>15311</td>\n",
       "      <td>United Kingdom</td>\n",
       "    </tr>\n",
       "    <tr>\n",
       "      <th>28630</th>\n",
       "      <td>538651</td>\n",
       "      <td>35004C</td>\n",
       "      <td>SET OF 3 COLOURED  FLYING DUCKS</td>\n",
       "      <td>12</td>\n",
       "      <td>2010-12-13 15:07:00</td>\n",
       "      <td>4.65</td>\n",
       "      <td>15311</td>\n",
       "      <td>United Kingdom</td>\n",
       "    </tr>\n",
       "    <tr>\n",
       "      <th>39381</th>\n",
       "      <td>C539640</td>\n",
       "      <td>35004C</td>\n",
       "      <td>SET OF 3 COLOURED  FLYING DUCKS</td>\n",
       "      <td>-3</td>\n",
       "      <td>2010-12-20 15:27:00</td>\n",
       "      <td>4.65</td>\n",
       "      <td>15311</td>\n",
       "      <td>United Kingdom</td>\n",
       "    </tr>\n",
       "    <tr>\n",
       "      <th>44157</th>\n",
       "      <td>540157</td>\n",
       "      <td>35004C</td>\n",
       "      <td>SET OF 3 COLOURED  FLYING DUCKS</td>\n",
       "      <td>12</td>\n",
       "      <td>2011-01-05 11:41:00</td>\n",
       "      <td>4.65</td>\n",
       "      <td>15311</td>\n",
       "      <td>United Kingdom</td>\n",
       "    </tr>\n",
       "    <tr>\n",
       "      <th>59542</th>\n",
       "      <td>541293</td>\n",
       "      <td>35004C</td>\n",
       "      <td>SET OF 3 COLOURED  FLYING DUCKS</td>\n",
       "      <td>12</td>\n",
       "      <td>2011-01-17 13:39:00</td>\n",
       "      <td>4.65</td>\n",
       "      <td>15311</td>\n",
       "      <td>United Kingdom</td>\n",
       "    </tr>\n",
       "    <tr>\n",
       "      <th>78333</th>\n",
       "      <td>C542866</td>\n",
       "      <td>35004C</td>\n",
       "      <td>SET OF 3 COLOURED  FLYING DUCKS</td>\n",
       "      <td>-2</td>\n",
       "      <td>2011-02-01 12:14:00</td>\n",
       "      <td>4.65</td>\n",
       "      <td>15311</td>\n",
       "      <td>United Kingdom</td>\n",
       "    </tr>\n",
       "  </tbody>\n",
       "</table>\n",
       "</div>"
      ],
      "text/plain": [
       "      InvoiceNo StockCode                      Description  Quantity   \n",
       "154     C536383    35004C  SET OF 3 COLOURED  FLYING DUCKS        -1  \\\n",
       "9200     537195    35004C  SET OF 3 COLOURED  FLYING DUCKS        12   \n",
       "18196   C537805    35004C  SET OF 3 COLOURED  FLYING DUCKS        -1   \n",
       "28630    538651    35004C  SET OF 3 COLOURED  FLYING DUCKS        12   \n",
       "39381   C539640    35004C  SET OF 3 COLOURED  FLYING DUCKS        -3   \n",
       "44157    540157    35004C  SET OF 3 COLOURED  FLYING DUCKS        12   \n",
       "59542    541293    35004C  SET OF 3 COLOURED  FLYING DUCKS        12   \n",
       "78333   C542866    35004C  SET OF 3 COLOURED  FLYING DUCKS        -2   \n",
       "\n",
       "              InvoiceDate  UnitPrice CustomerID         Country  \n",
       "154   2010-12-01 09:49:00       4.65      15311  United Kingdom  \n",
       "9200  2010-12-05 13:55:00       4.65      15311  United Kingdom  \n",
       "18196 2010-12-08 13:18:00       4.65      15311  United Kingdom  \n",
       "28630 2010-12-13 15:07:00       4.65      15311  United Kingdom  \n",
       "39381 2010-12-20 15:27:00       4.65      15311  United Kingdom  \n",
       "44157 2011-01-05 11:41:00       4.65      15311  United Kingdom  \n",
       "59542 2011-01-17 13:39:00       4.65      15311  United Kingdom  \n",
       "78333 2011-02-01 12:14:00       4.65      15311  United Kingdom  "
      ]
     },
     "execution_count": 108,
     "metadata": {},
     "output_type": "execute_result"
    }
   ],
   "source": [
    "data[(data['CustomerID'] == '15311') & (data['StockCode'] == '35004C')]"
   ]
  },
  {
   "cell_type": "markdown",
   "metadata": {},
   "source": [
    "* On the first line we see an order with a cancellation (the order number starts with the character C). However, the question arises: for which order did this cancellation come, because there are no earlier transaction records related to this customer.\n",
    "The answer is that the customer's purchase order for this product was received before December 2010, and this data is not in our table. This is a very common problem that arises in almost any work with transactions: there is only a fragment of the general data, but it is unknown what preceded this fragment.\n",
    "\n",
    "* The next two lines show that the customer can cancel not the entire order, but only a part of it (on December 5, the customer buys 12 units of goods, and on December 8, issues a return for only one unit of goods). We must take this into account for the future\n",
    "\n",
    "So, now we know all the features of order cancellations. When segmenting customers, we will determine their purchasing power, and for this it is very important to take into account product returns. Therefore, let's create a QuantityCanceled attribute in the transaction data, which will indicate the quantity of goods subsequently returned for each transaction.\n",
    "\n",
    "Let's discuss right away that we will not take into account complex edge cases:\n",
    "1. A cancelled transaction does not have an opposite one (there were no purchase transactions for the return transaction).\n",
    "2. The quantity of returned goods in the return transaction is greater than the quantity of goods specified in any of the individual purchase transactions (this is the case when a customer made several orders for the same goods, and then issued a return for all goods at once)."
   ]
  },
  {
   "cell_type": "code",
   "execution_count": null,
   "metadata": {},
   "outputs": [],
   "source": [
    "def get_quantity_canceled(data):\n",
    "    # Инициализируем Series той же длины, что и столбцы таблицы, нулями\n",
    "    quantity_canceled = pd.Series(np.zeros(data.shape[0]), index=data.index)    \n",
    "    negative_quantity = data[(data['Quantity'] < 0)].copy()\n",
    "    for col in negative_quantity.itertuples():\n",
    "        # Создаем DataFrame из всех контрагентов\n",
    "        df_test = data[(data['CustomerID'] == col.CustomerID) &\n",
    "                       (data['StockCode']  == col.StockCode) & \n",
    "                       (data['InvoiceDate'] < col.InvoiceDate) & \n",
    "                       ((quantity_canceled.loc[col.Index] - col.Quantity) <= data['Quantity'])].copy()\n",
    "        # Транзация-возврат не имеет контрагента - ничего не делаем\n",
    "        if (df_test.shape[0] == 0): \n",
    "            continue\n",
    "        # Транзакция-возврат имеет одного и более контрагентов\n",
    "        # Добавляем количество отмененного в столбец QuantityCanceled \n",
    "        else:\n",
    "            df_test.sort_index(axis=0 ,ascending=False, inplace = True)\n",
    "            index_order = df_test.index[0]\n",
    "            quantity_canceled.loc[index_order] = quantity_canceled.loc[index_order] - col.Quantity       \n",
    "    return quantity_canceled\n",
    "\n",
    "quantity_canceled = get_quantity_canceled(data)"
   ]
  },
  {
   "cell_type": "markdown",
   "metadata": {},
   "source": [
    "### Задание 3.7\n",
    "Подсчитайте суммарное количество отмененных товаров в столбце QuantityCanceled. \n"
   ]
  },
  {
   "cell_type": "code",
   "execution_count": null,
   "metadata": {},
   "outputs": [],
   "source": []
  },
  {
   "cell_type": "markdown",
   "metadata": {},
   "source": [
    "## Задание 3.8\n",
    "Теперь, когда мы разобрались с транзакциями-возвратами, они больше нам не понадобятся. \n",
    "Удалите из таблицы транзакции, в поле которых указано отрицательное количество товара.  \n",
    "Сколько записей осталось?"
   ]
  },
  {
   "cell_type": "code",
   "execution_count": null,
   "metadata": {},
   "outputs": [],
   "source": []
  },
  {
   "cell_type": "markdown",
   "metadata": {},
   "source": [
    "Следующая проблема — это специальные виды транзакций. Например, ранее мы уже видели, что для товаров со скидкой признак StockCode обозначен как 'D'. Давайте проверим, бывают ли другие специальные коды.\n"
   ]
  },
  {
   "cell_type": "markdown",
   "metadata": {},
   "source": [
    "### Задание 3.9\n",
    "С помощью регулярных выражений найдите такие коды товаров (StockCode), которые начинаются с латинских букв (при этом коды могут содержать цифры). \n",
    "\n",
    "Подсказка: Поиск подстрок в столбце можно организовать с помощью str.contains(). В качестве шаблона для поиска используйте строку '^[a-zA-Z]+'. Параметр regex установите в значение True.\n",
    "\n",
    "1) Сколько уникальных специальных видов транзакций вам удалось найти?\n",
    "\n",
    "Специальные операции не характеризуют наших клиентов, поэтому такие записи нам не нужны. Удалите все специальные транзакции из таблицы. \n",
    "\n",
    "2) Сколько записей осталось?\n",
    "\n"
   ]
  },
  {
   "cell_type": "code",
   "execution_count": null,
   "metadata": {},
   "outputs": [],
   "source": []
  },
  {
   "cell_type": "markdown",
   "metadata": {},
   "source": [
    "### Задание 3.10\n",
    "Ранее при просмотре описательных статистик мы видели, что на некоторые товары установлена цена в 0 фунтов стерлингов. \n",
    "\n",
    "1) В скольких транзакциях цена за единицу товара равна 0?\n",
    "\n",
    "2) Таких транзакций оказалось менее 1 %, поэтому от них можно просто избавиться. Удалите такие транзакции из таблицы. Сколько записей осталось?\n",
    "\n"
   ]
  },
  {
   "cell_type": "code",
   "execution_count": null,
   "metadata": {},
   "outputs": [],
   "source": []
  },
  {
   "cell_type": "markdown",
   "metadata": {},
   "source": [
    "Поздравляем, этап очистки данных завершён. Рекомендуем сохранить полученный результат в отдельный файл, чтобы впоследствии вам не приходилось повторять эти действия."
   ]
  },
  {
   "cell_type": "markdown",
   "metadata": {
    "_uuid": "0869dfd28b3c5a7c0c39c026d73c1828ae7efbeb"
   },
   "source": [
    "## 4. Разведывательный анализ данных"
   ]
  },
  {
   "cell_type": "markdown",
   "metadata": {},
   "source": [
    "Теперь давайте займёмся разведывательным анализом и исследуем транзакции.\n",
    "\n",
    "Перед нами стоят следующие задачи:\n",
    "* понять, клиенты из каких стран покупают больше и чаще;\n",
    "* узнать, присутствует ли в продажах сезонность (когда покупают чаще);\n",
    "* создать новые признаки, которые в дальнейшем понадобятся при формировании датасета о клиентах.\n"
   ]
  },
  {
   "cell_type": "markdown",
   "metadata": {},
   "source": [
    "### Задание 4.1\n",
    "Для начала выясним, в каких странах живут клиенты.\n",
    "\n",
    "Постройте график, отражающий количество клиентов в каждой из стран. Обратите внимание, что нам нужны именно уникальные клиенты.\n",
    "\n",
    "В какой стране живёт наибольшее количество клиентов?\n",
    "\n",
    "* Великобритания (United Kingdom)\n",
    "* Германия (Germany)\n",
    "* Франция (France)\n",
    "* Нидерланды (Netherlands)\n",
    "* Ирландия (EIRE)\n",
    "* Австралия (Australia)\n"
   ]
  },
  {
   "cell_type": "code",
   "execution_count": null,
   "metadata": {},
   "outputs": [],
   "source": []
  },
  {
   "cell_type": "markdown",
   "metadata": {},
   "source": [
    "### Задание 4.2\n",
    "Мы посмотрели на распределение клиентов в разрезе стран. А что насчёт заказов?\n",
    "\n",
    "Постройте визуализацию и выделите топ-3 стран по количеству поступающих заказов.\n",
    "\n",
    "* Великобритания (United Kingdom)\n",
    "* Германия (Germany)\n",
    "* Франция (France)\n",
    "* Нидерланды (Netherlands)\n",
    "* Ирландия (EIRE)\n",
    "* Австралия (Australia)\n"
   ]
  },
  {
   "cell_type": "code",
   "execution_count": null,
   "metadata": {},
   "outputs": [],
   "source": []
  },
  {
   "cell_type": "markdown",
   "metadata": {},
   "source": [
    "### Задание 4.3\n",
    "Давайте добавим в датасет общую цену заказа, назовём её TotalPrice.\n",
    "Общая цена заказа рассчитывается как:\n",
    " \n",
    " **общая цена = цена за единицу товара * (количество товаров в заказе - количество возвращённых товаров).**\n",
    "\n",
    "Чему равна средняя общая стоимость заказов? Ответ приведите в фунтах стерлингов и округлите до целого числа.\n",
    "\n"
   ]
  },
  {
   "cell_type": "code",
   "execution_count": null,
   "metadata": {},
   "outputs": [],
   "source": []
  },
  {
   "cell_type": "markdown",
   "metadata": {},
   "source": [
    "### Задание 4.4\n",
    "\n",
    "Постройте визуализацию и выделите топ-3 стран, клиенты из которых приносят компании больше всего выручки:\n",
    "* Великобритания (United Kingdom)\n",
    "* Германия (Germany)\n",
    "* Франция (France)\n",
    "* Нидерланды (Netherlands)\n",
    "* Ирландия (EIRE)\n",
    "* Австралия (Australia)\n"
   ]
  },
  {
   "cell_type": "code",
   "execution_count": null,
   "metadata": {},
   "outputs": [],
   "source": []
  },
  {
   "cell_type": "markdown",
   "metadata": {},
   "source": [
    "Теперь займёмся временными характеристиками.\n"
   ]
  },
  {
   "cell_type": "markdown",
   "metadata": {
    "tags": []
   },
   "source": [
    "### Задание 4.5\n",
    "Добавьте в таблицу с транзакциями признаки месяца, дня недели и часа совершения покупки.\n",
    "\n",
    "Постройте визуализацию, отражающую распределение суммарной выручки от заказов по месяцам. Укажите номер самого прибыльного для компании месяца. Предположите, почему так происходит."
   ]
  },
  {
   "cell_type": "code",
   "execution_count": null,
   "metadata": {},
   "outputs": [],
   "source": []
  },
  {
   "cell_type": "markdown",
   "metadata": {},
   "source": [
    "### Задание 4.6\n",
    "Постройте визуализацию количества заказов для каждого дня недели. Укажите день недели, в который, согласно данным, не совершено ни одного заказа:\n",
    "* Понедельник\n",
    "* Вторник\n",
    "* Среда\n",
    "* Четверг\n",
    "* Пятница\n",
    "* Суббота \n",
    "* Воскресенье\n"
   ]
  },
  {
   "cell_type": "code",
   "execution_count": null,
   "metadata": {},
   "outputs": [],
   "source": []
  },
  {
   "cell_type": "markdown",
   "metadata": {},
   "source": [
    "### Задание 4.7\n",
    "Выделите дату из признака времени совершения транзакции.\n",
    "Сгруппируйте данные по датам и часам совершения транзакции и найдите количество заказов на каждый день-час. Затем найдите среднее количество ежедневно поступающих заказов в каждый из часов.\n",
    "\n",
    "Постройте визуализацию, отражающую распределение среднего количества ежедневно поступающих заказов по времени суток (часу совершения транзакции).\n",
    "\n",
    "Выберите верные утверждения:\n",
    "* Больше всего заказов совершается в дневное время в интервале от 18 до 20 часов\n",
    "* Больше всего заказов совершается в вечернее время в интервале от 10 до 15 часов\n",
    "* Начиная с 21 часа вечера и до 6 утра (не включительно) заказы не поступают \n",
    "* Заказы поступают во все периоды дня\n"
   ]
  },
  {
   "cell_type": "code",
   "execution_count": null,
   "metadata": {},
   "outputs": [],
   "source": []
  },
  {
   "cell_type": "markdown",
   "metadata": {
    "_uuid": "fe334ef9f8165328fc14400be829499b0b2c46f1"
   },
   "source": [
    "## 5. RFM-сегментация клиентов: часть 1"
   ]
  },
  {
   "cell_type": "markdown",
   "metadata": {},
   "source": [
    "Мы добрались до самой интересной части нашей задачи. Нам предстоит сформировать признаки, на основе которых мы будем производить сегментацию клиентов.\n",
    "\n",
    "Для этого давайте познакомимся с очень популярным методом для анализа потребительской ценности под названием RFM. \n",
    "\n",
    "<center> <img src=https://miro.medium.com/max/1400/1*uYQjy9SUjW7iWHc2gGanQQ.png align=\"right\" width=\"400\"/> </center>\n",
    "\n",
    "Метод заключается в группировке клиентов на основе следующих параметров:\n",
    "* Recency (Давность) — давность последней покупки клиента;\n",
    "* Frequency (Частота) — общее количество покупок клиента;\n",
    "* Monetary Value (Денежная ценность) — сколько денег потратил клиент.\n",
    "\n",
    "\n",
    "Суть RFM-анализа состоит в том, что мы разделяем всех клиентов на группы в зависимости от того, как давно они сделали последнюю покупку, как часто покупали и насколько большой была сумма их заказов.\n",
    "\n",
    "Например, вот так может выглядеть интерпретация кластеров для случая RF-сегментации (анализа на основе давности и частоты заказов клиента):\n",
    "\n",
    "<img src=https://retailrocket.ru/wp-content/uploads/2017/06/rfm-1.png>\n",
    "\n",
    "Задача маркетологов — вести клиента в зону лояльных.\n",
    "\n",
    "Мы можем рассчитать RFM-характеристики для каждого из клиентов в нашем датасете и на их основе с помощью методов кластеризации построить подобные сегменты клиентов, привязанные к нашим данным."
   ]
  },
  {
   "cell_type": "markdown",
   "metadata": {
    "tags": []
   },
   "source": [
    "### Задание 5.1\n",
    "\n",
    "Итак, приступим к созданию нашей RFM-таблицы. \n",
    "\n",
    "Чтобы получить RFM-таблицу, нам необходимо сгруппировать данные по идентификаторам клиента и рассчитать следующие  агрегированные характеристики:\n",
    "\n",
    "* Recency для i-го клиента рассчитывается как разница между датой и временем последнего заказа и точкой отсчёта, переведённая в дни:\n",
    "    $$t_0-max(t_{i1}, t_{i2},..., t_{iM})$$\n",
    "\n",
    "    где $t_{ij}$ — дата и время совершения i-ым клиентом своей j-ой покупки.\n",
    "\n",
    "    В качестве точки отсчёта $t_0$ берём дату на один день «старше», чем все наши данные. Это будет 10 декабря 2011 года (в формате datetime — '2011-12-10 00:00:00').\n",
    "\n",
    "* Frequency рассчитывается как общее количество уникальных заказов, которые совершил i-ый клиент.\n",
    "* Monetary Value рассчитывается как общая сумма денег, которую i-ый клиент потратил на наши товары (с учетом возвратов).\n",
    "\n",
    "Когда вы рассчитаете все характеристики, не забудьте дать столбцам результирующей таблицы соответствующие названия."
   ]
  },
  {
   "cell_type": "code",
   "execution_count": null,
   "metadata": {},
   "outputs": [],
   "source": []
  },
  {
   "cell_type": "markdown",
   "metadata": {},
   "source": [
    "1) Сколько клиентов совершили покупку более 200 дней назад?\n",
    "\n",
    "2) Сколько заказов в среднем делает клиент (за представленный годовой период)? Ответ округлите до целого числа.\n",
    "\n",
    "3) Чему равна общая сумма денег, которую потратил клиент с идентификатором 12360? Ответ приведите в фунтах стерлингов и округлите до целого числа.\n",
    "\n"
   ]
  },
  {
   "cell_type": "code",
   "execution_count": null,
   "metadata": {},
   "outputs": [],
   "source": []
  },
  {
   "cell_type": "markdown",
   "metadata": {},
   "source": [
    "Теперь давайте взглянем на коробчатые диаграммы для каждого из признаков:"
   ]
  },
  {
   "cell_type": "code",
   "execution_count": null,
   "metadata": {},
   "outputs": [],
   "source": [
    "boxes = [px.box(rfm_table, x=column) for column in rfm_table.columns]\n",
    "fig = make_subplots(\n",
    "    rows=1, cols=3, \n",
    "    subplot_titles=(\n",
    "        \"Recency\",\"Frequency\", \"Monetary\"\n",
    "    )\n",
    ")\n",
    "\n",
    "for i, box in enumerate(boxes):\n",
    "    fig.add_trace(boxes[i]['data'][0], row=1, col=i+1)\n",
    "\n",
    "fig.update_layout(showlegend=True)\n",
    "fig.write_html('plotly/boxplot_1.html')\n",
    "fig.show()"
   ]
  },
  {
   "cell_type": "markdown",
   "metadata": {},
   "source": [
    "Что интересного здесь можно увидеть? Есть клиенты с аномально большим количеством сделанных заказов (более 100 штук), а также клиенты, общая стоимость заказов которых превышает 190 тысяч фунтов стерлингов.\n",
    "\n",
    "Чем это плохо? Выбросы могут отрицательно сказаться на результатах работы методов кластеризации, неустойчивых к ним, например алгоритма KMeans, поэтому хотелось бы от них избавиться. Однако терять много ценных данных о клиентах тоже не хочется, поэтому ограничимся верхней границей соответствующей квантили уровня 0.95. Таким образом, мы удалим данные тех клиентов, для которых значение параметра Frequency или параметра Monetary выше, чем у 95 % клиентов.\n"
   ]
  },
  {
   "cell_type": "markdown",
   "metadata": {},
   "source": [
    "### Задание 5.2\n",
    "Удалите из RFM-таблицы записи о клиентах, для которых выполняется хотя бы одно из условий:\n",
    "\n",
    "$$frequency >frequency_{0.95}$$\n",
    "$$monetary >monetary_{0.95}$$ \n",
    "\n",
    "где $frequency_{0.95}$ и $monetary_{0.95}$ - квантили уровня 0.95 для соответствующих признаков. \n",
    "\n",
    "Данные о скольких клиентах у вас остались в RFM-таблице?\n"
   ]
  },
  {
   "cell_type": "code",
   "execution_count": null,
   "metadata": {},
   "outputs": [],
   "source": []
  },
  {
   "cell_type": "markdown",
   "metadata": {},
   "source": [
    "После удаления выбросов у вас должны получиться следующие коробчатые диаграммы:\n"
   ]
  },
  {
   "cell_type": "code",
   "execution_count": null,
   "metadata": {},
   "outputs": [],
   "source": [
    "boxes = [px.box(rfm_table_cleaned, x=column) for column in rfm_table_cleaned.columns]\n",
    "fig = make_subplots(\n",
    "    rows=1, cols=3, \n",
    "    subplot_titles=(\n",
    "        \"Recency\", \"Frequency\", \"Monetary\"\n",
    "    )\n",
    ")\n",
    "\n",
    "for i, box in enumerate(boxes):\n",
    "    fig.add_trace(boxes[i]['data'][0], row=1, col=i+1)\n",
    "\n",
    "fig.update_layout(showlegend=True)\n",
    "fig.write_html('plotly/boxplot_2.html')\n",
    "fig.show()"
   ]
  },
  {
   "cell_type": "markdown",
   "metadata": {},
   "source": [
    "Мы наконец добрались до этапа кластеризации. Для начала нам необходимо оценить, как распределены наблюдения в пространстве признаков. Благо, у нас всего три параметра, по которым мы хотим кластеризовать клиентов, поэтому данные можно визуализировать в виде трёхмерной диаграммы рассеяния. \n",
    "\n",
    "Построим визуализацию нашего трёхмерного пространства признаков:\n"
   ]
  },
  {
   "cell_type": "code",
   "execution_count": null,
   "metadata": {},
   "outputs": [],
   "source": [
    "# создадим трёхмерный объект\n",
    "fig = plt.figure(figsize=(6,6))\n",
    "ax = Axes3D(fig)\n",
    "# добавим дополнительную ось в объект картинки\n",
    "fig.add_axes(ax)\n",
    "ax.azim = 20\n",
    "ax.elev = 30\n",
    "\n",
    "# визуализируем данные, передав значения x, y, z, а также информацию о группировке данных по цветам\n",
    "ax.scatter(\n",
    "    rfm_table_cleaned['Recency'].to_list(), \n",
    "    rfm_table_cleaned['Frequency'].to_list(),\n",
    "    rfm_table_cleaned['Monetary'].to_list()\n",
    ")\n",
    "# добавим оси\n",
    "ax.set_xlabel('Recency')\n",
    "ax.set_ylabel('Frequency')\n",
    "ax.set_zlabel('Monetary');\n"
   ]
  },
  {
   "cell_type": "markdown",
   "metadata": {},
   "source": [
    "Что здесь можно увидеть? На самом деле, ничего конкретного. Да, видно, что есть клиенты с большими значениями параметров Monetary и Frequency — вероятно, это лучшие клиенты, которые покупают чаще всего и приносят больше всего денег. Однако по общей массе точек сложно сказать, сколько кластеров у нас есть — скорее даже кажется, что пространство не поддаётся кластеризации.\n",
    "\n",
    "Давайте призовём на помощь методы снижения размерности.\n"
   ]
  },
  {
   "cell_type": "markdown",
   "metadata": {},
   "source": [
    "### Задание 5.3\n",
    "Начнём с метода главных компонент (PCA). Нам известно, что для его стабильной работы данные необходимо стандартизировать/нормализовать. \n",
    "\n",
    "Давайте для удобства обернём эти шаги по предобработке данных в pipeline.\n",
    "\n",
    "Создайте pipeline, в котором будут следующие шаги:\n",
    "* стандартизация с помощью StandardScaler с параметрами по умолчанию; \n",
    "* метод главных компонент с двумя компонентами.\n",
    "\n",
    "Обучите ваш pipeline на RFM-таблице, очищенной от выбросов, и примените к ней трансформацию.\n",
    "\n",
    "Какую долю дисперсии исходных данных объясняет первая главная компонента? Ответ округлите до двух знаков после точки-разделителя.\n",
    "\n"
   ]
  },
  {
   "cell_type": "code",
   "execution_count": null,
   "metadata": {},
   "outputs": [],
   "source": []
  },
  {
   "cell_type": "markdown",
   "metadata": {},
   "source": [
    "Визуализировав пространство главных компонент после декомпозиции мы получим следующую картину:"
   ]
  },
  {
   "cell_type": "code",
   "execution_count": null,
   "metadata": {},
   "outputs": [],
   "source": [
    "sns.scatterplot(data=rfm_table_processed, x='axis-1', y='axis-2');"
   ]
  },
  {
   "cell_type": "markdown",
   "metadata": {},
   "source": [
    "Попробуем разделить это пространство главных компонент на сегменты. "
   ]
  },
  {
   "cell_type": "markdown",
   "metadata": {},
   "source": [
    "### Задание 5.4\n",
    "Попробуем воспользоваться методом k-means. \n",
    "\n",
    "Подберите оптимальное количество кластеров для метода k-means с помощью коэффициента силуэта, перебирая возможные значения от 2 до 10 включительно. \n",
    "\n",
    "В качестве значения параметра random_state возьмите число 42. Остальные параметры оставьте по умолчанию.\n",
    "\n",
    "1) Судя по полученным результатам, какое количество кластеров лучше всего взять?\n",
    "\n",
    "2) Чему равно максимальное значение коэффициента силуэта? Ответ округлите до двух знаков после точки-разделителя.\n"
   ]
  },
  {
   "cell_type": "code",
   "execution_count": null,
   "metadata": {},
   "outputs": [],
   "source": []
  },
  {
   "cell_type": "markdown",
   "metadata": {},
   "source": [
    "### Задание 5.5\n",
    "Теперь возьмём EM-алгоритм.\n",
    "\n",
    "Подберите оптимальное количество кластеров для EM-алгоритма (GaussianMixture) с помощью коэффициента силуэта, перебирая возможные значения от 2 до 10 включительно.\n",
    "В качестве значения параметра random_state возьмите число 42. Остальные параметры оставьте по умолчанию.\n",
    "\n",
    "\n",
    "1) Судя по полученным результатам, какое количество кластеров лучше всего взять?\n",
    "\n",
    "2) Чему равно максимальное значение коэффициента силуэта? Ответ округлите до двух знаков после точки-разделителя.\n"
   ]
  },
  {
   "cell_type": "code",
   "execution_count": null,
   "metadata": {},
   "outputs": [],
   "source": []
  },
  {
   "cell_type": "markdown",
   "metadata": {},
   "source": [
    "### Задание 5.6\n",
    "Давайте посмотрим на распределение кластеров.\n",
    "\n",
    "1) Сначала нужно определить лучшую модель. Для какой модели с оптимальным количеством кластеров коэффициент силуэта наибольший?\n",
    "* K-Means\n",
    "* GaussianMixture\n",
    "\n",
    "\n",
    "2) Обучите лучшую модель с подобранным ранее количеством кластеров на декомпозированных данных. \n",
    "Сколько клиентов попало в самый большой кластер?\n",
    "\n"
   ]
  },
  {
   "cell_type": "code",
   "execution_count": null,
   "metadata": {},
   "outputs": [],
   "source": []
  },
  {
   "cell_type": "markdown",
   "metadata": {},
   "source": [
    "Визуализируем результаты кластеризации:"
   ]
  },
  {
   "cell_type": "code",
   "execution_count": null,
   "metadata": {},
   "outputs": [],
   "source": [
    "fig = plt.figure(figsize=(12, 5))\n",
    "sns.scatterplot(\n",
    "    data=rfm_table_processed, \n",
    "    x='axis-1', \n",
    "    y='axis-2', \n",
    "    hue=labels,\n",
    ");"
   ]
  },
  {
   "cell_type": "markdown",
   "metadata": {},
   "source": [
    "Итак, у нас есть три сегмента клиентов. Давайте попробуем составить профиль для этих сегментов."
   ]
  },
  {
   "cell_type": "markdown",
   "metadata": {},
   "source": [
    "### Задание 5.7\n",
    "\n",
    "Для составления профиля кластеров нам необходимо вернуться от декомпозированных данных к RFM-таблице, очищенной от выбросов.  Сгруппируйте RFM-таблицу по полученным кластерам и рассчитайте среднее по каждому из признаков.\n",
    "\n",
    "Чему равно максимальное среднее значение признака Frequency в полученной таблице? Ответ округлите до целого числа."
   ]
  },
  {
   "cell_type": "code",
   "execution_count": null,
   "metadata": {},
   "outputs": [],
   "source": []
  },
  {
   "cell_type": "markdown",
   "metadata": {
    "tags": []
   },
   "source": [
    "### Полярная диаграмма\n",
    "Сейчас мы познакомимся с одним из способов визуализации профиля кластеров — Radar Chart (полярная, или лепестковая, диаграмма). Это графическое представление значений нескольких эквивалентных категорий в форме «паутины».\n",
    "Radar Chart очень часто используется в контексте определения профиля кластеров. На концах «паутины» откладываются оси, которые соответствуют признакам, описывающим объекты. На каждой из осей для каждого кластера откладываются средние значения соответствующих характеристик. Соединив точки по осям, мы получаем многоугольник. \n",
    "Пример полярной диаграммы для задачи кластеризации учеников по интересам:\n",
    "\n",
    "<img src=https://www.datanovia.com/en/wp-content/uploads/2020/12/radar-chart-in-r-customized-fmstb-radar-chart-1.png width=500>\n",
    "\n",
    "На данной диаграмме мы видим визуализацию признаков для одного из кластеров. Видно, что ученики, принадлежащие к данному кластеру, в большей степени увлекаются музыкой (Music), а в меньшей степени — программированием (Programm).\n",
    "\n",
    "В модуле graph_objects библиотеки plotly есть встроенная функция Scatterpolar, которая позволяет построить полярную диаграмму. На основе этой функции мы реализовали собственную функцию plot_cluster_profile(), которая позволяет визуализировать профиль каждого из кластеров в виде полярной диаграммы. У этой функции два параметра: grouped_data — сгруппированные по кластерам характеристики объектов (клиентов), n_clusters — количество кластеров. \n",
    "\n",
    "Главное условие использования полярной диаграммы — все признаки должны быть приведены к единому масштабу с помощью нормализации, где 1 будет означать максимум, а 0 — минимум. Шаг с нормализацией мы также добавили в реализацию функции plot_cluster_profile()."
   ]
  },
  {
   "cell_type": "code",
   "execution_count": null,
   "metadata": {},
   "outputs": [],
   "source": [
    "def plot_cluster_profile(grouped_data, n_clusters):\n",
    "    # Нормализуем сгруппированные данные, приводя их к масштабу 0-1.\n",
    "    scaler = preprocessing.MinMaxScaler()\n",
    "    grouped_data = pd.DataFrame(scaler.fit_transform(grouped_data), columns=grouped_data.columns)\n",
    "    # Создаем список признаков\n",
    "    features = grouped_data.columns\n",
    "    # Создаем пустую фигуру\n",
    "    fig = go.Figure()\n",
    "    # В цикле визуализируем полярную диаграмму для каждого кластера\n",
    "    for i in range(n_clusters):\n",
    "        # Создаем полярную диаграмму и добавляем ее на общий график\n",
    "        fig.add_trace(go.Scatterpolar(\n",
    "            r=grouped_data.iloc[i].values, # радиусы\n",
    "            theta=features, # название засечек\n",
    "            fill='toself', # заливка многоугольника цветом\n",
    "            name=f'Cluster {i}', # название - номер кластера\n",
    "        ))\n",
    "    # Обновляем параметры фигуры\n",
    "    fig.update_layout(\n",
    "        showlegend=True, # отображение легенды\n",
    "        autosize=False, # устаналиваем свои размеры графика\n",
    "        width=800, # ширина (в пикселях)\n",
    "        height=800, # высота (в пикселях)\n",
    "    )\n",
    "    # Отображаем фигуру\n",
    "    fig.show()\n",
    "    "
   ]
  },
  {
   "cell_type": "markdown",
   "metadata": {},
   "source": [
    "Теперь у нас есть удобный инструмент для анализа профиля кластеров. Давайте воспользуемся им.\n"
   ]
  },
  {
   "cell_type": "markdown",
   "metadata": {},
   "source": [
    "### Задание 5.8\n",
    "\n",
    "Визуализируйте профили кластеров в виде полярной диаграммы на основе средних RFM-характеристик, вычисленных для каждого кластера. \n",
    "\n",
    "Проанализируйте кластеры и на основе анализа сопоставьте номер кластера и его описание.\n",
    "\n",
    "Описание кластера:\n",
    "* Кластер соответствует «лояльным» клиентам, которые приносят наибольший доход, совершают покупки чаще всего, а давность их последней покупки наименьшая.\n",
    "* Кластер соответствует «промежуточным» клиентам, которые являются активными, но покупают не так часто и много, как лояльные клиенты. В то же время эти клиенты не являются «потерянными».\n",
    "* Кластер соответствует «потерянным» клиентам, которые купили меньше всего товара, и их последняя покупка была совершена очень давно.\n"
   ]
  },
  {
   "cell_type": "code",
   "execution_count": null,
   "metadata": {},
   "outputs": [],
   "source": []
  },
  {
   "cell_type": "markdown",
   "metadata": {},
   "source": [
    "### 4. RFM-сегментация клиентов: часть 2"
   ]
  },
  {
   "cell_type": "markdown",
   "metadata": {},
   "source": [
    "Итак, с помощью RFM-анализа нам удалось выделить три сегмента клиентов. Однако в маркетинге принято оперировать большим их количеством: обычно маркетологи стараются создать стратегию хотя бы для пяти-семи клиентских сегментов в градации от «лояльных» до «потерянных» с промежуточными категориями.\n",
    "\n",
    "Поэтому, получив обратную связь от маркетологов, мы вновь принимаемся за работу, пытаясь модифицировать полученное решение.\n",
    "\n",
    "Ранее мы производили кластеризацию в пространстве главных компонент. Вспомним, что PCA является линейным методом отображения исходного пространства признаков в его сжатую версию.\n",
    "\n",
    "А что если использовать нелинейную трансформацию? Например, алгоритм снижения размерности t-SNE. Давайте попробуем и посмотрим, что получится."
   ]
  },
  {
   "cell_type": "markdown",
   "metadata": {},
   "source": [
    "### Задание 6.1\n",
    "Воспользуемся алгоритмом t-SNE и трансформируем RFM-таблицу, очищенную от выбросов, в двухмерное представление. Также заранее позаботимся о масштабировании признаков.\n",
    "\n",
    "Давайте для удобства обернём шаги по предобработке данных в pipeline.\n",
    "\n",
    "Создайте pipeline, который будет содержать следующие шаги:\n",
    "* стандартизация с помощью StandardScaler с параметрами по умолчанию; \n",
    "* алгоритм t-SNE с двумя компонентами, параметрами perplexity=50 и random_state=100.\n",
    "\n",
    "Обучите ваш pipeline на RFM-таблице (очищенной от выбросов), полученной ранее, и примените к ней трансформацию.\n",
    "\n",
    "Чему равно значение дивергенции Кульбака — Лейблера для обученного алгоритма t-SNE? Ответ округлите до двух знаков после точки-разделителя.\n",
    "\n",
    "**Примечание:**\n",
    "Напомним, что дивергенция Кульбака-Лейблера - это функция потерь, которая минимизируется при обучения алгоритма t-SNE. Она показывает меру расстояния между двумя распределениями. \n",
    "\n",
    "Оптимальное значение данной характеристики, найденное в процессе обучения алгоритма t-SNE, хранится в атрибуте kl_divergence_ объекта класса TSNE из библиотеки sklearn. Конечно же, предварительно модель необходимо обучить, чтобы получить это значение.\n",
    "\n"
   ]
  },
  {
   "cell_type": "code",
   "execution_count": null,
   "metadata": {},
   "outputs": [],
   "source": []
  },
  {
   "cell_type": "markdown",
   "metadata": {},
   "source": [
    "Визуализировав пространство после декомпозиции с помощью t-SNE, мы получим следующую картину:\n"
   ]
  },
  {
   "cell_type": "code",
   "execution_count": null,
   "metadata": {},
   "outputs": [],
   "source": [
    "fig = plt.figure(figsize=(12, 5))\n",
    "sns.scatterplot(data=rfm_table_processed, x='axis-1', y='axis-2');"
   ]
  },
  {
   "cell_type": "markdown",
   "metadata": {},
   "source": [
    "Как и ожидалось от t-SNE, алгоритм сгруппировал наиболее похожие объекты в подобие кластеров, причём эти кластеры легко определить.\n",
    "\n",
    "Теперь давайте воспользуемся алгоритмами кластеризации, чтобы сформировать новые сегменты клиентов.\n"
   ]
  },
  {
   "cell_type": "markdown",
   "metadata": {},
   "source": [
    "### Задание 6.2\n",
    "Попробуем воспользоваться методом k-means. \n",
    "Подберите оптимальное количество кластеров для метода k-means с помощью коэффициента силуэта, перебирая возможные значения от 3 до 8 включительно. \n",
    "В качестве значения параметра random_state возьмите число 42. Остальные параметры оставьте по умолчанию.\n",
    "\n",
    "1) Судя по полученным результатам, какое количество кластеров лучше всего взять?\n",
    "\n",
    "2) Чему равно максимальное значение коэффициента силуэта? Ответ округлите до двух знаков после точки-разделителя.\n",
    "\n"
   ]
  },
  {
   "cell_type": "code",
   "execution_count": null,
   "metadata": {},
   "outputs": [],
   "source": []
  },
  {
   "cell_type": "markdown",
   "metadata": {},
   "source": [
    "### Задание 6.3\n",
    "Попробуем воспользоваться EM-алгоритом. \n",
    "\n",
    "Подберите оптимальное количество кластеров для EM-алгоритма (GaussianMixture)  с помощью коэффициента силуэта, перебирая возможные значения от 3 до 8 включительно. \n",
    "\n",
    "В качестве значения параметра random_state возьмите число 42. Остальные параметры оставьте по умолчанию.\n",
    "\n",
    "\n",
    "1) Судя по полученным результатам, какое количество кластеров лучше всего взять?\n",
    "\n",
    "2) Чему равно максимальное значение коэффициента силуэта? Ответ округлите до двух знаков после точки-разделителя."
   ]
  },
  {
   "cell_type": "code",
   "execution_count": null,
   "metadata": {},
   "outputs": [],
   "source": []
  },
  {
   "cell_type": "markdown",
   "metadata": {},
   "source": [
    "### Задание 6.4\n",
    "Наконец, попробуем воспользоваться алгоритмом алгомеративной кластеризации (AgglomerativeClustering).\n",
    "\n",
    "Подберите оптимальное количество кластеров для алгоритма агломеративной кластеризации с помощью коэффициента силуэта, перебирая возможные значения от 2 до 8 включительно. \n",
    "\n",
    "Все параметры, за исключением числа кластеров, оставьте по умолчанию.\n",
    "\n",
    "\n",
    "1) Судя по полученным результатам, какое количество кластеров лучше всего взять?\n",
    "\n",
    "2) Чему равно максимальное значение коэффициента силуэта? Ответ округлите до двух знаков после точки-разделителя.\n",
    "\n"
   ]
  },
  {
   "cell_type": "code",
   "execution_count": null,
   "metadata": {},
   "outputs": [],
   "source": []
  },
  {
   "cell_type": "markdown",
   "metadata": {
    "tags": []
   },
   "source": [
    "### Задание 6.5\n",
    "Давайте посмотрим на распределение кластеров.\n",
    "\n",
    "1) Сначала нужно определить лучшую модель. Для какой модели с оптимальным количеством кластеров коэффициент силуэта наибольший?\n",
    "* K-Means\n",
    "* GaussianMixture\n",
    "* AgglomerativeClustering\n",
    "\n",
    "\n",
    "2) Обучите лучшую модель с подобранным ранее количеством кластеров на декомпозированных данных. \n",
    "Сколько клиентов попало в самый большой кластер?\n",
    "\n"
   ]
  },
  {
   "cell_type": "code",
   "execution_count": null,
   "metadata": {},
   "outputs": [],
   "source": []
  },
  {
   "cell_type": "markdown",
   "metadata": {},
   "source": [
    "Визуализируем результаты кластеризации:"
   ]
  },
  {
   "cell_type": "code",
   "execution_count": null,
   "metadata": {},
   "outputs": [],
   "source": [
    "fig = plt.figure(figsize=(12, 5))\n",
    "sns.scatterplot(data=rfm_table_processed, x='axis-1', y='axis-2', hue=model.labels_.astype('str'));"
   ]
  },
  {
   "cell_type": "markdown",
   "metadata": {},
   "source": [
    "\n",
    "Итак, у нас есть 7 сегментов клиентов. Давайте попробуем составить профиль для этих сегментов. \n"
   ]
  },
  {
   "cell_type": "markdown",
   "metadata": {},
   "source": [
    "### Задание 6.6\n",
    "\n",
    "Для составления профиля кластеров нам необходимо вернуться от декомпозированных данных к RFM-таблице (очищенной от выбросов).\n",
    "\n",
    "Сгруппируйте RFM-таблицу по полученным кластерам и рассчитайте среднее по каждому из признаков. Для наглядности округлите все значения в столбцах до целого числа.\n",
    "\n",
    "Чему равно максимальное среднее значение признака Recency в полученной таблице? Ответ округлите до целого числа."
   ]
  },
  {
   "cell_type": "code",
   "execution_count": null,
   "metadata": {},
   "outputs": [],
   "source": []
  },
  {
   "cell_type": "markdown",
   "metadata": {},
   "source": [
    "### Задание 6.7\n",
    "Визуализируйте профили кластеров в виде полярной диаграммы на основе средних RFM-характеристик, вычисленных для каждого кластера.\n",
    "\n",
    "Проанализируйте кластеры и на основе анализа сопоставьте номер кластера и его описание.\n",
    "\n",
    "* Кластер соответствует «лояльным» клиентам, которые приносят наибольший доход, совершают покупки чаще всего, а давность их последней покупки наименьшая.\n",
    "* Кластер соответствует «перспективным» клиентам, которые являются активными покупателями, но покупают не так часто и не так много, как лояльные клиенты.\n",
    "* Кластер соответствует «подвисшим» клиентам, которые относительно недавно сделали несколько заказов на небольшие суммы. Потенциально эти клиенты могут быть переведены в кластер «перспективных».\n",
    "* Кластер соответствует клиентам «в зоне риска», которые несколько раз покупали товары на небольшие суммы, однако их последняя покупка была совершена более пяти месяцев назад.\n",
    "* Кластер соответствует клиентам-«новичкам», которые относительно недавно сделали один заказ на небольшую сумму. \n",
    "* Кластер соответствует «спящим» или «почти потерянным» клиентам, которые сделали один заказ на маленькую сумму более семи месяцев назад и больше не возвращались.\n",
    "* Кластер соответствует «потерянным» клиентам, которые купили меньше всего товара, и их последняя покупка была совершена около года назад.\n",
    "\n"
   ]
  },
  {
   "cell_type": "code",
   "execution_count": null,
   "metadata": {},
   "outputs": [],
   "source": []
  },
  {
   "cell_type": "markdown",
   "metadata": {},
   "source": [
    "## 7. RFM-кластеризация клиентов: часть 3"
   ]
  },
  {
   "cell_type": "markdown",
   "metadata": {},
   "source": [
    "Мы построили модель кластеризации для части клиентов.Но как сделать предсказание сегмента для клиентов, которые не попали в обучающую выборку?\n",
    "\n",
    "Вы, вероятно, скажете: «Воспользоваться методом predict()!»\n",
    "\n",
    "Верно, однако всё не так просто.\n",
    "\n",
    "Вспомним, что мы обучали наши алгоритмы кластеризации на сжатом с помощью t-SNE пространстве признаков. То есть, чтобы сделать предсказание для новых объектов, не попавших в выборку, нам необходимо будет совершить трансформацию признаков этих объектов в новое сжатое пространство. \n",
    "\n",
    "Однако проблема t-SNE заключается в том, что алгоритм непараметрический. Это значит, что он, в отличие от таких алгоритмов, как PCA и SVD, не создаёт явной функции отображения. Проще говоря, алгоритм трансформирует пространство признаков для обучающей выборки, но не запоминает, каким образом это делает. Это значит, что, передав в алгоритм новые объекты для сжатия пространства, мы получим абсолютно новое представление пространства, не имеющее отношения к тому, что мы построили для обучающей выборки. То есть произойдёт искажение, что может привести к неверным результатам кластеризации.\n",
    "\n",
    "Именно поэтому у класса TSNE из библиотеки sklearn нет такого метода, как transform(), у него есть только метод fit_transform() — заново обучить алгоритм t-SNE и произвести трансформацию.\n",
    "\n",
    "Как же тогда производить кластеризацию для новых объектов, если мы не можем сжимать размерность для новых данных?\n",
    "\n",
    "Давайте сведём задачу кластеризации к задаче классификации. Действительно, у нас теперь есть истинные метки кластеров, а есть клиенты, которые описываются RFM-характеристиками. Давайте обучим модель, которая на основе RFM-характеристик будет предсказывать клиентский сегмент. "
   ]
  },
  {
   "cell_type": "markdown",
   "metadata": {},
   "source": [
    "### Задание 7.1\n",
    "\n",
    "Разделите исходные данные на тренировочную и тестовую выборки в соотношении 80/20. В качестве параметра random_state возьмите число 42.\n",
    "\n",
    "Сколько клиентов попали в тестовую выборку?"
   ]
  },
  {
   "cell_type": "code",
   "execution_count": null,
   "metadata": {},
   "outputs": [],
   "source": []
  },
  {
   "cell_type": "markdown",
   "metadata": {},
   "source": [
    "Дальше нам осталось только построить несколько моделей и выбрать из них лучшую. \n",
    "Мы знаем, что алгоритм t-SNE является нелинейным методом понижения размерности. Можно смело предположить, что линейные модели, такие как логистическая регрессия, в данной задаче нам мало чем помогут (можете убедиться в этом самостоятельно, обучив модель логистической регрессии на тренировочной выборке и оценив качество на тестовой).\n",
    "\n",
    "Поэтому давайте сразу возьмём тяжелую артиллерию — ансамблевые алгоритмы. \n"
   ]
  },
  {
   "cell_type": "markdown",
   "metadata": {},
   "source": [
    "### Задание 7.2\n",
    "Начнём со случайного леса. С помощью GridSearchCV организуйте перебор параметров случайного леса (RandomForestClassifier) на следующей сетке параметров:\n",
    "\n",
    "```\n",
    "param_grid = {\n",
    "    'max_depth': range(5, 15),\n",
    "    'criterion': ['gini', 'entropy'],\n",
    "    'n_estimators': [100, 200, 500]\n",
    "}\n",
    "```\n",
    "В качестве параметра random_state для модели случайного леса используйте число 42.\n",
    "В качестве метрики используйте accuracy. Количество фолдов для кросс-валидации — 5.\n",
    "\n",
    "1) Обучите GridSearchCV на тренировочной выборке. Чему равна оптимальная максимальная глубина деревьев в случайном лесу?\n",
    "\n",
    "2) С помощью лучшей модели сделайте предсказание для тестовой выборки и рассчитайте метрику accuracy. Ответ округлите до трёх знаков после точки-разделителя.\n",
    "\n"
   ]
  },
  {
   "cell_type": "code",
   "execution_count": null,
   "metadata": {},
   "outputs": [],
   "source": []
  },
  {
   "cell_type": "markdown",
   "metadata": {},
   "source": [
    "Итак, значение метрики accuracy очень высокое, но не идеальное. Давайте попробуем его улучшить, воспользовавшись бустингом."
   ]
  },
  {
   "cell_type": "markdown",
   "metadata": {},
   "source": [
    "### Задание 7.3\n",
    "С помощью GridSearchCV организуйте перебор параметров градиентного бустинга (GradientBoostingClassifier) на следующей сетке параметров:\n",
    "```\n",
    "param_grid = {\n",
    "    'max_depth': range(3, 7),\n",
    "    'learning_rate': [0.001, 0.01, 0.1],\n",
    "    'n_estimators': [100, 200, 500]\n",
    "}\n",
    "```\n",
    "\n",
    "В качестве параметра random_state для модели градиентного бустинга используйте число 42.\n",
    "В качестве метрики используйте accuracy. Количество фолдов для кросс-валидации — 5. \n",
    "\n",
    "1) Обучите GridSearchCV на тренировочной выборке. Чему равна оптимальная максимальная глубина деревьев в градиентном бустинге?\n",
    "Ответ: 6\n",
    "2) С помощью лучшей модели сделайте предсказание для тестовой выборки и рассчитайте метрику accuracy. Ответ округлите до трёх знаков после точки-разделителя.\n",
    "\n"
   ]
  },
  {
   "cell_type": "code",
   "execution_count": null,
   "metadata": {},
   "outputs": [],
   "source": []
  },
  {
   "cell_type": "markdown",
   "metadata": {},
   "source": [
    "Отлично, мы справились с проблемой непараметричности t-SNE и смогли перейти от решения задачи кластеризации к задаче классификации. Теперь у нас есть модель, которая на основе RFM-характерик клиента автоматически определяет его сегмент."
   ]
  },
  {
   "cell_type": "code",
   "execution_count": null,
   "metadata": {},
   "outputs": [],
   "source": []
  }
 ],
 "metadata": {
  "kernelspec": {
   "display_name": "Python 3",
   "language": "python",
   "name": "python3"
  },
  "language_info": {
   "codemirror_mode": {
    "name": "ipython",
    "version": 3
   },
   "file_extension": ".py",
   "mimetype": "text/x-python",
   "name": "python",
   "nbconvert_exporter": "python",
   "pygments_lexer": "ipython3",
   "version": "3.9.6"
  }
 },
 "nbformat": 4,
 "nbformat_minor": 4
}
