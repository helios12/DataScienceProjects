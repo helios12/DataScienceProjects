{
 "cells": [
  {
   "cell_type": "markdown",
   "id": "c57e2827",
   "metadata": {},
   "source": [
    "# Project: Guess a Celebrity"
   ]
  },
  {
   "cell_type": "markdown",
   "id": "59875402",
   "metadata": {},
   "source": [
    "## 1. Problem Statement"
   ]
  },
  {
   "cell_type": "markdown",
   "id": "825382f4",
   "metadata": {},
   "source": [
    "You and your team are working on improving your facial recognition service. Your company has received a request to use the service you developed at an IT conference where these famous people will be speaking.\n",
    "\n",
    "To do this, we will train a five-class classifier using the full power of pre-trained networks.\n",
    "\n",
    "**Main project goals:**\n",
    "* Solving a multi-class classification problem;\n",
    "* Using the principle of transfer learning;\n",
    "* Visualization of data and the model's predictions."
   ]
  },
  {
   "cell_type": "markdown",
   "id": "48c078da",
   "metadata": {},
   "source": [
    "## 2. Import Libraries and Define Constants"
   ]
  },
  {
   "cell_type": "code",
   "execution_count": 22,
   "id": "b6e553ac",
   "metadata": {},
   "outputs": [],
   "source": [
    "%matplotlib inline\n",
    "\n",
    "import warnings\n",
    "warnings.filterwarnings(\"ignore\")\n",
    "\n",
    "import matplotlib.pyplot as plt\n",
    "import numpy as np\n",
    "import random\n",
    "from tqdm import tqdm\n",
    "\n",
    "import torch\n",
    "import torchvision\n",
    "from torchvision.datasets import ImageFolder\n",
    "\n",
    "BATCH_SIZE = 64\n",
    "random_state = 42\n",
    "\n",
    "# Check if Apple MPS is available\n",
    "device = torch.device(\"mps\") if torch.backends.mps.is_available() else torch.device(\"cpu\")\n"
   ]
  },
  {
   "cell_type": "markdown",
   "id": "0292c774",
   "metadata": {},
   "source": [
    "## 3. Load Data"
   ]
  },
  {
   "cell_type": "markdown",
   "id": "16d14225",
   "metadata": {},
   "source": [
    "Identify the number of images in the training dataset."
   ]
  },
  {
   "cell_type": "code",
   "execution_count": 11,
   "id": "8d26f4ce",
   "metadata": {},
   "outputs": [
    {
     "name": "stdout",
     "output_type": "stream",
     "text": [
      "    3001\n"
     ]
    }
   ],
   "source": [
    "!find data/train/ -type f | wc -l"
   ]
  },
  {
   "cell_type": "markdown",
   "id": "9427e4ca",
   "metadata": {},
   "source": [
    "The training dataset contains 3000 images. Which is not much compared to the number of images in the ImageNet dataset used to train the pre-trained models.\n",
    "\n",
    "The scenario can be classified as a small dataset mainly different to what the base network to be used was trained on (since ImageNet is restricting human images).\n",
    "\n",
    "I will use the following pattern:\n",
    "1. Remove the last layer of the fully connected network and several CNN layers at the end of the network.\n",
    "2. Add a new fully connected layer with an output size equal to the number of classes in the new dataset.\n",
    "3. Freeze all weights from the remaining pre-trained CNN.\n",
    "4. Update the weights of the new fully connected layer during training."
   ]
  },
  {
   "cell_type": "code",
   "execution_count": 13,
   "id": "a784334d",
   "metadata": {},
   "outputs": [
    {
     "name": "stdout",
     "output_type": "stream",
     "text": [
      "     914\n"
     ]
    }
   ],
   "source": [
    "!find data/valid/ -type f | wc -l"
   ]
  },
  {
   "cell_type": "markdown",
   "id": "c6509a35",
   "metadata": {},
   "source": [
    "The validation dataset contains 914 images. That constitutes around 23 % of the whole dataset, which is a good ratio."
   ]
  },
  {
   "cell_type": "markdown",
   "id": "3fa26b57",
   "metadata": {},
   "source": [
    "Loading train and validation datasets using the class `ImageFolder` from the `TorchVision` library."
   ]
  },
  {
   "cell_type": "code",
   "execution_count": 18,
   "id": "2dc6ad2e",
   "metadata": {},
   "outputs": [
    {
     "data": {
      "text/plain": [
       "(<PIL.Image.Image image mode=RGB size=70x70>, 0)"
      ]
     },
     "execution_count": 18,
     "metadata": {},
     "output_type": "execute_result"
    }
   ],
   "source": [
    "train_dataset = ImageFolder(\"data/train/\")\n",
    "valid_dataset = ImageFolder(\"data/valid/\")\n",
    "\n",
    "# Output one sample from the training dataset\n",
    "train_dataset[0]"
   ]
  },
  {
   "cell_type": "markdown",
   "id": "f7f1ff53",
   "metadata": {},
   "source": [
    "The image has the class `PIL.Image` and also there is a class label of the sample. Let's take a look at the class name and the image itself."
   ]
  },
  {
   "cell_type": "code",
   "execution_count": 21,
   "id": "116c784d",
   "metadata": {},
   "outputs": [
    {
     "name": "stdout",
     "output_type": "stream",
     "text": [
      "bill_gates\n"
     ]
    },
    {
     "data": {
      "image/jpeg": "[encoded data removed]",
      "image/png": "[encoded data removed]",
      "text/plain": [
       "<PIL.Image.Image image mode=RGB size=70x70>"
      ]
     },
     "execution_count": 21,
     "metadata": {},
     "output_type": "execute_result"
    }
   ],
   "source": [
    "print(train_dataset.classes[train_dataset[0][1]])\n",
    "train_dataset[0][0]"
   ]
  },
  {
   "cell_type": "markdown",
   "id": "a65f6b85",
   "metadata": {},
   "source": [
    "The label `0` corresponds to the class `bill_gates` and the image is a picture of Bill Gates."
   ]
  },
  {
   "cell_type": "markdown",
   "id": "19a412c2",
   "metadata": {},
   "source": [
    "Let's define a function which will render random images from a dataset."
   ]
  },
  {
   "cell_type": "code",
   "execution_count": 23,
   "id": "d49961ab",
   "metadata": {},
   "outputs": [],
   "source": [
    "def plot_samples(dataset, num_samples=5):\n",
    "    fig, axes = plt.subplots(1, num_samples, figsize=(16, 8))\n",
    "\n",
    "    for i in range(num_samples):\n",
    "        random_image, random_class = random.choice(dataset)\n",
    "        random_label = dataset.classes[random_class]\n",
    "        axes[i].imshow(random_image)\n",
    "        axes[i].set_title(random_label.replace(\"_\", \" \"))\n",
    "        axes[i].axis(\"off\")\n",
    "\n",
    "    plt.show()"
   ]
  }
 ],
 "metadata": {
  "kernelspec": {
   "display_name": "tensorflow_env",
   "language": "python",
   "name": "python3"
  },
  "language_info": {
   "codemirror_mode": {
    "name": "ipython",
    "version": 3
   },
   "file_extension": ".py",
   "mimetype": "text/x-python",
   "name": "python",
   "nbconvert_exporter": "python",
   "pygments_lexer": "ipython3",
   "version": "3.12.8"
  }
 },
 "nbformat": 4,
 "nbformat_minor": 5
}
