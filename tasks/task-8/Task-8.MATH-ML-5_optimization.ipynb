{
 "cells": [
  {
   "cell_type": "markdown",
   "metadata": {
    "id": "NyHIGVhfa_Wf"
   },
   "source": [
    "# Stochastic Gradient and Coordinate Descent"
   ]
  },
  {
   "cell_type": "markdown",
   "metadata": {
    "id": "txCccYvha_Wv"
   },
   "source": [
    "## Loading and preparing data"
   ]
  },
  {
   "cell_type": "markdown",
   "metadata": {
    "id": "NbyOzeZ6a_Wx"
   },
   "source": [
    "**Load the already familiar *Advertising.csv* file as a DataFrame object.** "
   ]
  },
  {
   "cell_type": "code",
   "execution_count": 249,
   "metadata": {
    "id": "E1L4_xeDa_Wz"
   },
   "outputs": [
    {
     "data": {
      "text/html": [
       "<div>\n",
       "<style scoped>\n",
       "    .dataframe tbody tr th:only-of-type {\n",
       "        vertical-align: middle;\n",
       "    }\n",
       "\n",
       "    .dataframe tbody tr th {\n",
       "        vertical-align: top;\n",
       "    }\n",
       "\n",
       "    .dataframe thead th {\n",
       "        text-align: right;\n",
       "    }\n",
       "</style>\n",
       "<table border=\"1\" class=\"dataframe\">\n",
       "  <thead>\n",
       "    <tr style=\"text-align: right;\">\n",
       "      <th></th>\n",
       "      <th>TV</th>\n",
       "      <th>radio</th>\n",
       "      <th>newspaper</th>\n",
       "      <th>sales</th>\n",
       "    </tr>\n",
       "  </thead>\n",
       "  <tbody>\n",
       "    <tr>\n",
       "      <th>1</th>\n",
       "      <td>230.1</td>\n",
       "      <td>37.8</td>\n",
       "      <td>69.2</td>\n",
       "      <td>22.1</td>\n",
       "    </tr>\n",
       "    <tr>\n",
       "      <th>2</th>\n",
       "      <td>44.5</td>\n",
       "      <td>39.3</td>\n",
       "      <td>45.1</td>\n",
       "      <td>10.4</td>\n",
       "    </tr>\n",
       "    <tr>\n",
       "      <th>3</th>\n",
       "      <td>17.2</td>\n",
       "      <td>45.9</td>\n",
       "      <td>69.3</td>\n",
       "      <td>9.3</td>\n",
       "    </tr>\n",
       "    <tr>\n",
       "      <th>4</th>\n",
       "      <td>151.5</td>\n",
       "      <td>41.3</td>\n",
       "      <td>58.5</td>\n",
       "      <td>18.5</td>\n",
       "    </tr>\n",
       "    <tr>\n",
       "      <th>5</th>\n",
       "      <td>180.8</td>\n",
       "      <td>10.8</td>\n",
       "      <td>58.4</td>\n",
       "      <td>12.9</td>\n",
       "    </tr>\n",
       "    <tr>\n",
       "      <th>...</th>\n",
       "      <td>...</td>\n",
       "      <td>...</td>\n",
       "      <td>...</td>\n",
       "      <td>...</td>\n",
       "    </tr>\n",
       "    <tr>\n",
       "      <th>196</th>\n",
       "      <td>38.2</td>\n",
       "      <td>3.7</td>\n",
       "      <td>13.8</td>\n",
       "      <td>7.6</td>\n",
       "    </tr>\n",
       "    <tr>\n",
       "      <th>197</th>\n",
       "      <td>94.2</td>\n",
       "      <td>4.9</td>\n",
       "      <td>8.1</td>\n",
       "      <td>9.7</td>\n",
       "    </tr>\n",
       "    <tr>\n",
       "      <th>198</th>\n",
       "      <td>177.0</td>\n",
       "      <td>9.3</td>\n",
       "      <td>6.4</td>\n",
       "      <td>12.8</td>\n",
       "    </tr>\n",
       "    <tr>\n",
       "      <th>199</th>\n",
       "      <td>283.6</td>\n",
       "      <td>42.0</td>\n",
       "      <td>66.2</td>\n",
       "      <td>25.5</td>\n",
       "    </tr>\n",
       "    <tr>\n",
       "      <th>200</th>\n",
       "      <td>232.1</td>\n",
       "      <td>8.6</td>\n",
       "      <td>8.7</td>\n",
       "      <td>13.4</td>\n",
       "    </tr>\n",
       "  </tbody>\n",
       "</table>\n",
       "<p>200 rows × 4 columns</p>\n",
       "</div>"
      ],
      "text/plain": [
       "        TV  radio  newspaper  sales\n",
       "1    230.1   37.8       69.2   22.1\n",
       "2     44.5   39.3       45.1   10.4\n",
       "3     17.2   45.9       69.3    9.3\n",
       "4    151.5   41.3       58.5   18.5\n",
       "5    180.8   10.8       58.4   12.9\n",
       "..     ...    ...        ...    ...\n",
       "196   38.2    3.7       13.8    7.6\n",
       "197   94.2    4.9        8.1    9.7\n",
       "198  177.0    9.3        6.4   12.8\n",
       "199  283.6   42.0       66.2   25.5\n",
       "200  232.1    8.6        8.7   13.4\n",
       "\n",
       "[200 rows x 4 columns]"
      ]
     },
     "execution_count": 249,
     "metadata": {},
     "output_type": "execute_result"
    }
   ],
   "source": [
    "import numpy as np\n",
    "import pandas as pd\n",
    "import plotly.express as px\n",
    "\n",
    "df = pd.read_csv('../../data/Advertising.csv', index_col=0)\n",
    "df"
   ]
  },
  {
   "cell_type": "markdown",
   "metadata": {
    "id": "bf4aVFndDUKf"
   },
   "source": [
    "**Check if there are empty values in the data and if there are, remove them**"
   ]
  },
  {
   "cell_type": "code",
   "execution_count": 250,
   "metadata": {
    "id": "tiVeFnR5DUKg"
   },
   "outputs": [
    {
     "data": {
      "text/plain": [
       "TV           0\n",
       "radio        0\n",
       "newspaper    0\n",
       "sales        0\n",
       "dtype: int64"
      ]
     },
     "execution_count": 250,
     "metadata": {},
     "output_type": "execute_result"
    }
   ],
   "source": [
    "df.isnull().sum()"
   ]
  },
  {
   "cell_type": "markdown",
   "metadata": {},
   "source": [
    "> **Conclusion:**\n",
    "> \n",
    "> There are no empty values in the dataset."
   ]
  },
  {
   "cell_type": "markdown",
   "metadata": {
    "id": "rTkiqPr_DUKh"
   },
   "source": [
    "**Convert your features into NumPy arrays and split them into X (predictors) and y (target) variables**"
   ]
  },
  {
   "cell_type": "code",
   "execution_count": 251,
   "metadata": {
    "id": "R9OHIRB3a_Xa"
   },
   "outputs": [],
   "source": [
    "X = np.array(df.drop('sales', axis=1))\n",
    "y = np.array(df['sales'])"
   ]
  },
  {
   "cell_type": "markdown",
   "metadata": {
    "id": "KCvjSoHEDUKo"
   },
   "source": [
    "## Coordinate descent"
   ]
  },
  {
   "cell_type": "markdown",
   "metadata": {
    "id": "yjNm8dATDUKq"
   },
   "source": [
    "**Let's add a ones column so that we have a free coefficient in the regression equation:**"
   ]
  },
  {
   "cell_type": "code",
   "execution_count": 252,
   "metadata": {
    "id": "LMgq0fmKDUKr"
   },
   "outputs": [
    {
     "name": "stdout",
     "output_type": "stream",
     "text": [
      "(200, 4) (200, 1)\n"
     ]
    }
   ],
   "source": [
    "X = np.hstack([np.ones(X.shape[0]).reshape(-1, 1), X])\n",
    "y = y.reshape(-1, 1)\n",
    "print(X.shape, y.shape)"
   ]
  },
  {
   "cell_type": "markdown",
   "metadata": {
    "id": "R008OQwcDUKt"
   },
   "source": [
    "**Normalize the data: this is necessary for the algorithm to work correctly**"
   ]
  },
  {
   "cell_type": "code",
   "execution_count": 253,
   "metadata": {
    "id": "2Sk7Wx-SDUKt"
   },
   "outputs": [],
   "source": [
    "X = X / np.sqrt(np.sum(np.square(X), axis=0))"
   ]
  },
  {
   "cell_type": "markdown",
   "metadata": {
    "id": "F_pHHbAdDUKu"
   },
   "source": [
    "**Implement the coordinate descent algorithm:**"
   ]
  },
  {
   "cell_type": "markdown",
   "metadata": {},
   "source": [
    "**Given:**\n",
    "\n",
    "* $X=(x_{ij})$ - observation matrix, with dimension $dim(X)=(m, n)$\n",
    "* $N=1000$ - number of iterations\n",
    "\n",
    "**Note:** *1000 iterations are specified here for this task, in reality there may be a different number, there is no deterministic value.*\n",
    "\n",
    "**Algorithm (mathematical notation):**\n",
    "* Create a zero vector of parameters $w_0=(0, 0,..., 0)^T$\n",
    "* For all $t=1, 2, ..., N$ iterations:\n",
    "    * For all $k = 1, 2,..., n$:\n",
    "        * Fix the value of all features except the $k$-th and calculate the forecast of the linear regression model. To do this, exclude the $k$-th feature from the data and $w_j$ from the parameters when constructing the forecast.\n",
    "        Mathematically, this can be written as follows:\n",
    "\n",
    "        $$h_i = \\sum_{j=1}^{k-1} x_{ij}w_{j} + \\sum_{j=k+1}^{n} x_{ij}w_j $$\n",
    "\n",
    "        **Note:**\n",
    "\n",
    "        *Note that in this entry, the current feature number $k$ is not included in the sum. Compare this entry with the classic linear regression prediction entry in the case of normalized data (when all features are included):*\n",
    "\n",
    "        $$h_i = \\sum_{j=1}^{n} x_{ij}w_{j}$$\n",
    "\n",
    "        * Calculate the new value of the $k$-th coefficient parameter:\n",
    "        $$w_k = \\sum_{i=1}^{m} x_{ik} (y_i - h_i) = x_k^T(y-h) $$\n",
    "\n",
    "    * Calculate the value of the loss function and save it in history of the loss function change (All features are involved in the loss function evaluation):\n",
    "        $$\\hat{y_i} = \\sum_{j=1}^{n}x_{ij}w_j$$\n",
    "        $$Loss_t = \\frac{1}{n} \\sum_{i=1}^{m}(y_i-\\hat{y_i})^2$$\n",
    "\n",
    "        or in vector form:\n",
    "\n",
    "        $$\\hat{y} = Xw$$\n",
    "        $$Loss_t = \\frac{1}{n}(y-\\hat{y})^T(y-\\hat{y})$$"
   ]
  },
  {
   "cell_type": "markdown",
   "metadata": {
    "id": "y3IdiHm9DUKv"
   },
   "source": [
    "You need to implement coordinate descent and infer weights in a linear regression model."
   ]
  },
  {
   "cell_type": "code",
   "execution_count": 254,
   "metadata": {},
   "outputs": [
    {
     "name": "stdout",
     "output_type": "stream",
     "text": [
      "Weights of the linear regression model: \n",
      "[[ 41.56217205]\n",
      " [110.13144155]\n",
      " [ 73.52860638]\n",
      " [ -0.55006384]]\n"
     ]
    }
   ],
   "source": [
    "num_iters = 1000\n",
    "m = X.shape[0]\n",
    "n = X.shape[1]\n",
    "w = np.zeros(n).reshape(-1, 1)\n",
    "\n",
    "for i in range(num_iters):\n",
    "    for k in range(n):\n",
    "        h = (X[:,0:k]@w[0:k]) + (X[:,k+1:]@w[k+1:])\n",
    "        w[k] = (X[:,k].T@(y - h))\n",
    "        cost = sum(((X@w) - y)**2)/n\n",
    "\n",
    "print('Weights of the linear regression model: ')\n",
    "print(w)"
   ]
  },
  {
   "cell_type": "markdown",
   "metadata": {
    "id": "a3jG-7UADUKx"
   },
   "source": [
    "Compare the results with the linear regression implementation from the sklearn library:"
   ]
  },
  {
   "cell_type": "code",
   "execution_count": 255,
   "metadata": {
    "id": "SBl-1Yb5DUKy"
   },
   "outputs": [
    {
     "name": "stdout",
     "output_type": "stream",
     "text": [
      "[[ 41.56217205 110.13144155  73.52860638  -0.55006384]]\n"
     ]
    }
   ],
   "source": [
    "from sklearn.linear_model import LinearRegression\n",
    " \n",
    "model = LinearRegression(fit_intercept=False)\n",
    "model.fit(X, y)\n",
    " \n",
    "print(model.coef_)"
   ]
  },
  {
   "cell_type": "markdown",
   "metadata": {
    "id": "hIl0AGLyDUKy"
   },
   "source": [
    "> **Conclusion:**\n",
    "> \n",
    "> The results of the coordinate descent calculation are matching the results of the sklearn library."
   ]
  },
  {
   "cell_type": "markdown",
   "metadata": {
    "id": "VCGwFnPdDUKz"
   },
   "source": [
    "## Stochastic Gradient Descent"
   ]
  },
  {
   "cell_type": "markdown",
   "metadata": {
    "id": "5u7Q2YJla_Xk"
   },
   "source": [
    "**Scale the columns of the original matrix *X* (which we haven't normalized yet!). To do this, subtract the mean from each value and divide by the standard deviation**"
   ]
  },
  {
   "cell_type": "code",
   "execution_count": 256,
   "metadata": {
    "id": "9cEpV_5La_Xo"
   },
   "outputs": [],
   "source": [
    "def scale_column(C):\n",
    "    return (C - C.mean())/C.std()\n",
    "\n",
    "\n",
    "X = df.drop('sales', axis=1)\n",
    "\n",
    "X['TV'] = scale_column(X['TV'])\n",
    "X['radio'] = scale_column(X['radio'])\n",
    "X['newspaper'] = scale_column(X['newspaper'])\n",
    "\n",
    "X = np.array(X)\n",
    "\n",
    "y = np.array(df['sales'])"
   ]
  },
  {
   "cell_type": "markdown",
   "metadata": {
    "id": "8WkNYILHDUK1"
   },
   "source": [
    "**Add a ones column**"
   ]
  },
  {
   "cell_type": "code",
   "execution_count": 257,
   "metadata": {
    "id": "EVl5tEGtDUK1"
   },
   "outputs": [],
   "source": [
    "X = np.hstack([np.ones(X.shape[0]).reshape(-1, 1), X])"
   ]
  },
  {
   "cell_type": "markdown",
   "metadata": {
    "id": "m53tZA5fDUK1"
   },
   "source": [
    "**Create a function mse_error to calculate the mean square error, taking two arguments: actual values ​​and predicted ones, and returning the mse value**"
   ]
  },
  {
   "cell_type": "code",
   "execution_count": 258,
   "metadata": {
    "id": "0cvtC08Aa_YK"
   },
   "outputs": [],
   "source": [
    "def mse_error(y_true, y_pred):\n",
    "    n = y_true.shape[0]\n",
    "    return sum((y_true - y_pred)**2)/n"
   ]
  },
  {
   "cell_type": "markdown",
   "metadata": {
    "id": "lpOLhdvBDUK2"
   },
   "source": [
    "**Make a naive forecast: predict sales with the mean. Then calculate the standard error for this forecast** "
   ]
  },
  {
   "cell_type": "code",
   "execution_count": 259,
   "metadata": {
    "id": "kLV_XljVa_YZ"
   },
   "outputs": [
    {
     "name": "stdout",
     "output_type": "stream",
     "text": [
      "MSE value for the mean forecast is: 27.086\n"
     ]
    }
   ],
   "source": [
    "y_pred_mean = np.array([y.mean()]*y.size)\n",
    "mse_mean = mse_error(y, y_pred_mean)\n",
    "print(f'MSE value for the mean forecast is: {mse_mean:.3f}')"
   ]
  },
  {
   "cell_type": "markdown",
   "metadata": {
    "id": "BbybL2ola_ZM"
   },
   "source": [
    "**Create a function *lin_pred* that can, given a matrix of predictors *X* and a vector of linear model weights *w*, obtain a vector of predictions**"
   ]
  },
  {
   "cell_type": "code",
   "execution_count": 260,
   "metadata": {
    "id": "1Cyz-Luaa_ZO"
   },
   "outputs": [],
   "source": [
    "def lin_pred(X, w):\n",
    "    return (X@w).flatten()"
   ]
  },
  {
   "cell_type": "markdown",
   "metadata": {
    "id": "BU4adBrya_Zm"
   },
   "source": [
    "**Create a function *stoch_grad_step* to implement the stochastic gradient descent step.\n",
    "The function must accept the following arguments:**\n",
    "* matrix *X*\n",
    "* vectors *y* and *w*\n",
    "* parameter *train_ind* - index of the training sample object (rows of matrix *X*) by which the change in weights is calculated\n",
    "* parameter *$\\eta$* (eta) - gradient descent step\n",
    "\n",
    "The result will be a vector of updated weights"
   ]
  },
  {
   "cell_type": "markdown",
   "metadata": {
    "id": "dyLY-P02DUK5"
   },
   "source": [
    "A step for stochastic gradient descent looks as follows:"
   ]
  },
  {
   "cell_type": "markdown",
   "metadata": {
    "id": "ORsAyIKNDUK5"
   },
   "source": [
    "$$\\Large w_j \\leftarrow w_j - \\frac{2\\eta}{\\ell} \\sum_{i=1}^\\ell{{x_{ij}((w_0 + w_1x_{i1} + w_2x_{i2} +  w_3x_{i3}) - y_i)}}$$"
   ]
  },
  {
   "cell_type": "markdown",
   "metadata": {
    "id": "CQl2FrpuDUK6"
   },
   "source": [
    "To write a function, you need to do the following:\n",
    "\n",
    "* calculate the direction of change: multiply the training sample object by 2 and by the difference between the predicted value and the real one, and then divide by the number of elements in the sample.\n",
    "* return the difference between the weight vector and the direction of change, multiplied by the gradient descent step"
   ]
  },
  {
   "cell_type": "code",
   "execution_count": 261,
   "metadata": {
    "id": "YUhVQGsja_Zn"
   },
   "outputs": [],
   "source": [
    "def stoch_grad_step(X, y, w, train_ind, eta):\n",
    "    w_new = []\n",
    "    diff_y = (lin_pred(X[train_ind], w) - y[train_ind])\n",
    "    for j in range(X.shape[1]):\n",
    "        w_new.append(w.flatten()[j] - 2*eta*sum(X[train_ind,j]*diff_y) / X.shape[0])\n",
    "    return np.array(w_new)"
   ]
  },
  {
   "cell_type": "markdown",
   "metadata": {
    "id": "pXwIFd0Ma_Zx"
   },
   "source": [
    "**Create a function *stochastic_gradient_descent* to implement stochastic gradient descent**\n",
    "\n",
    "**The function takes the following arguments as input:**\n",
    "- Feature matrix X\n",
    "- Target variable\n",
    "- Initial point (model weights)\n",
    "- Parameter defining the learning rate\n",
    "- Maximum number of iterations\n",
    "- Euclidean distance between weight vectors at adjacent gradient descent iterations, at which the algorithm stops working\n",
    "\n",
    "**At each iteration, the current value of the mean square error must be written to the vector (list). The function must return the weight vector $w$, as well as the error vector (list).**"
   ]
  },
  {
   "cell_type": "markdown",
   "metadata": {
    "id": "ZVeoNF1JDUK7"
   },
   "source": [
    "The algorithm is as follows:\n",
    "\n",
    "* Initialize the distance between the weight vectors on adjacent iterations to a large number (infinity is possible)\n",
    "* Create an empty list to record errors\n",
    "* Create an iteration counter\n",
    "* Implement the main training loop while the distance between the weight vectors is greater than the one at which it is necessary to stop working (when the distances become too small - it means that we are stuck in a single position) and the number of iterations is less than the maximum allowed: generate a random index, write the current error to the error vector, write the current stochastic descent step to a variable using the function written earlier. Then calculate the current distance between the weight vectors and add 1 to the iteration counter.\n",
    "* Return the weight vector and the error vector"
   ]
  },
  {
   "cell_type": "code",
   "execution_count": 262,
   "metadata": {
    "id": "CD_xcFNfa_Zy"
   },
   "outputs": [],
   "source": [
    "def stochastic_gradient_descent(X, y, w, eta, max_iter, min_dist):\n",
    "    mse_list = []\n",
    "    for i in range(max_iter):\n",
    "        w_new = stoch_grad_step(X, y, w, np.random.randint(0, high=X.shape[0], size=None, dtype=int), eta)\n",
    "        mse_list.append(mse_error(y, lin_pred(X, w_new)))\n",
    "        dist = np.linalg.norm(w - w_new)\n",
    "        if dist <= min_dist:\n",
    "            break\n",
    "        w = w_new\n",
    "    return w_new, mse_list"
   ]
  },
  {
   "cell_type": "markdown",
   "metadata": {
    "id": "0OqHO1Rta_Z7"
   },
   "source": [
    "**Run $10^5$ iterations of stochastic gradient descent. Specify an initial weight vector consisting of zeros. Feel free to experiment with the learning rate parameter.**"
   ]
  },
  {
   "cell_type": "markdown",
   "metadata": {
    "id": "N6fHHT6vDUK8"
   },
   "source": [
    "**Plot a graph of the error as a function of iteration number**"
   ]
  },
  {
   "cell_type": "code",
   "execution_count": 263,
   "metadata": {
    "id": "zsSfHDzLDUK9"
   },
   "outputs": [
    {
     "data": {
      "image/png": "[encoded data removed]"
     },
     "metadata": {},
     "output_type": "display_data"
    }
   ],
   "source": [
    "w_new, mse_list = stochastic_gradient_descent(X, y, np.array([0, 0, 0, 0]), 0.25, 10**5, 0.0001)\n",
    "\n",
    "fig = px.line(\n",
    "    mse_list,\n",
    "    width=1000,\n",
    "    height=500,\n",
    "    title='Graph of the MSE as a function of iteration number'    \n",
    ").update_layout(\n",
    "    showlegend=False,\n",
    "    yaxis_title='MSE',\n",
    "    xaxis_title='Iteration number'\n",
    ")\n",
    "fig.show('png')"
   ]
  },
  {
   "cell_type": "markdown",
   "metadata": {
    "id": "O-MVOcJ6a_aY"
   },
   "source": [
    "**Print the vector of weights to which the method converged.**"
   ]
  },
  {
   "cell_type": "code",
   "execution_count": 264,
   "metadata": {
    "id": "MPjVkXe4DUK9"
   },
   "outputs": [
    {
     "data": {
      "text/plain": [
       "array([13.18791085,  3.66798329,  2.61252179,  0.18913293])"
      ]
     },
     "execution_count": 264,
     "metadata": {},
     "output_type": "execute_result"
    }
   ],
   "source": [
    "w_new"
   ]
  },
  {
   "cell_type": "markdown",
   "metadata": {
    "id": "qabzMc3Qa_a5"
   },
   "source": [
    "**Print the mean squared error at the last iteration.**"
   ]
  },
  {
   "cell_type": "code",
   "execution_count": 265,
   "metadata": {
    "id": "7tPWleMIa_a7"
   },
   "outputs": [
    {
     "name": "stdout",
     "output_type": "stream",
     "text": [
      "MSE: 3.599 after 1149 iterations\n"
     ]
    }
   ],
   "source": [
    "print(f'MSE: {mse_list[-1]:.3f} after {len(mse_list)} iterations')\n",
    " "
   ]
  },
  {
   "cell_type": "markdown",
   "metadata": {},
   "source": [
    "> **Conclusion:**\n",
    "> \n",
    "> Stochastic gradient decent is converging with the value of MSE 3.599 after 1149 iterations, which means that the distance between the weight vectors is below the specified value 0.0001. It has been achieved earlier than the defined 10^5 iterations."
   ]
  }
 ],
 "metadata": {
  "colab": {
   "collapsed_sections": [],
   "name": "Практика_Оптимизация.ipynb",
   "provenance": [],
   "toc_visible": true
  },
  "kernelspec": {
   "display_name": "Python 3",
   "language": "python",
   "name": "python3"
  },
  "language_info": {
   "codemirror_mode": {
    "name": "ipython",
    "version": 3
   },
   "file_extension": ".py",
   "mimetype": "text/x-python",
   "name": "python",
   "nbconvert_exporter": "python",
   "pygments_lexer": "ipython3",
   "version": "3.12.1"
  }
 },
 "nbformat": 4,
 "nbformat_minor": 0
}
