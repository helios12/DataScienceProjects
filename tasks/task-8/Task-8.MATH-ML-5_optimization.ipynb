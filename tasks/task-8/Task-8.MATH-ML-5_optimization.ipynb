{
 "cells": [
  {
   "cell_type": "markdown",
   "metadata": {
    "id": "NyHIGVhfa_Wf"
   },
   "source": [
    "# Stochastic Gradient and Coordinate Descent"
   ]
  },
  {
   "cell_type": "markdown",
   "metadata": {
    "id": "txCccYvha_Wv"
   },
   "source": [
    "## Loading and preparing data"
   ]
  },
  {
   "cell_type": "markdown",
   "metadata": {
    "id": "NbyOzeZ6a_Wx"
   },
   "source": [
    "**Load the already familiar *Advertising.csv* file as a DataFrame object.** "
   ]
  },
  {
   "cell_type": "code",
   "execution_count": 225,
   "metadata": {
    "id": "E1L4_xeDa_Wz"
   },
   "outputs": [
    {
     "data": {
      "text/html": [
       "<div>\n",
       "<style scoped>\n",
       "    .dataframe tbody tr th:only-of-type {\n",
       "        vertical-align: middle;\n",
       "    }\n",
       "\n",
       "    .dataframe tbody tr th {\n",
       "        vertical-align: top;\n",
       "    }\n",
       "\n",
       "    .dataframe thead th {\n",
       "        text-align: right;\n",
       "    }\n",
       "</style>\n",
       "<table border=\"1\" class=\"dataframe\">\n",
       "  <thead>\n",
       "    <tr style=\"text-align: right;\">\n",
       "      <th></th>\n",
       "      <th>TV</th>\n",
       "      <th>radio</th>\n",
       "      <th>newspaper</th>\n",
       "      <th>sales</th>\n",
       "    </tr>\n",
       "  </thead>\n",
       "  <tbody>\n",
       "    <tr>\n",
       "      <th>1</th>\n",
       "      <td>230.1</td>\n",
       "      <td>37.8</td>\n",
       "      <td>69.2</td>\n",
       "      <td>22.1</td>\n",
       "    </tr>\n",
       "    <tr>\n",
       "      <th>2</th>\n",
       "      <td>44.5</td>\n",
       "      <td>39.3</td>\n",
       "      <td>45.1</td>\n",
       "      <td>10.4</td>\n",
       "    </tr>\n",
       "    <tr>\n",
       "      <th>3</th>\n",
       "      <td>17.2</td>\n",
       "      <td>45.9</td>\n",
       "      <td>69.3</td>\n",
       "      <td>9.3</td>\n",
       "    </tr>\n",
       "    <tr>\n",
       "      <th>4</th>\n",
       "      <td>151.5</td>\n",
       "      <td>41.3</td>\n",
       "      <td>58.5</td>\n",
       "      <td>18.5</td>\n",
       "    </tr>\n",
       "    <tr>\n",
       "      <th>5</th>\n",
       "      <td>180.8</td>\n",
       "      <td>10.8</td>\n",
       "      <td>58.4</td>\n",
       "      <td>12.9</td>\n",
       "    </tr>\n",
       "    <tr>\n",
       "      <th>...</th>\n",
       "      <td>...</td>\n",
       "      <td>...</td>\n",
       "      <td>...</td>\n",
       "      <td>...</td>\n",
       "    </tr>\n",
       "    <tr>\n",
       "      <th>196</th>\n",
       "      <td>38.2</td>\n",
       "      <td>3.7</td>\n",
       "      <td>13.8</td>\n",
       "      <td>7.6</td>\n",
       "    </tr>\n",
       "    <tr>\n",
       "      <th>197</th>\n",
       "      <td>94.2</td>\n",
       "      <td>4.9</td>\n",
       "      <td>8.1</td>\n",
       "      <td>9.7</td>\n",
       "    </tr>\n",
       "    <tr>\n",
       "      <th>198</th>\n",
       "      <td>177.0</td>\n",
       "      <td>9.3</td>\n",
       "      <td>6.4</td>\n",
       "      <td>12.8</td>\n",
       "    </tr>\n",
       "    <tr>\n",
       "      <th>199</th>\n",
       "      <td>283.6</td>\n",
       "      <td>42.0</td>\n",
       "      <td>66.2</td>\n",
       "      <td>25.5</td>\n",
       "    </tr>\n",
       "    <tr>\n",
       "      <th>200</th>\n",
       "      <td>232.1</td>\n",
       "      <td>8.6</td>\n",
       "      <td>8.7</td>\n",
       "      <td>13.4</td>\n",
       "    </tr>\n",
       "  </tbody>\n",
       "</table>\n",
       "<p>200 rows × 4 columns</p>\n",
       "</div>"
      ],
      "text/plain": [
       "        TV  radio  newspaper  sales\n",
       "1    230.1   37.8       69.2   22.1\n",
       "2     44.5   39.3       45.1   10.4\n",
       "3     17.2   45.9       69.3    9.3\n",
       "4    151.5   41.3       58.5   18.5\n",
       "5    180.8   10.8       58.4   12.9\n",
       "..     ...    ...        ...    ...\n",
       "196   38.2    3.7       13.8    7.6\n",
       "197   94.2    4.9        8.1    9.7\n",
       "198  177.0    9.3        6.4   12.8\n",
       "199  283.6   42.0       66.2   25.5\n",
       "200  232.1    8.6        8.7   13.4\n",
       "\n",
       "[200 rows x 4 columns]"
      ]
     },
     "execution_count": 225,
     "metadata": {},
     "output_type": "execute_result"
    }
   ],
   "source": [
    "import numpy as np\n",
    "import pandas as pd\n",
    "import plotly.express as px\n",
    "\n",
    "df = pd.read_csv('../../data/Advertising.csv', index_col=0)\n",
    "df"
   ]
  },
  {
   "cell_type": "markdown",
   "metadata": {
    "id": "bf4aVFndDUKf"
   },
   "source": [
    "**Check if there are empty values in the data and if there are, remove them**"
   ]
  },
  {
   "cell_type": "code",
   "execution_count": 226,
   "metadata": {
    "id": "tiVeFnR5DUKg"
   },
   "outputs": [
    {
     "data": {
      "text/plain": [
       "TV           0\n",
       "radio        0\n",
       "newspaper    0\n",
       "sales        0\n",
       "dtype: int64"
      ]
     },
     "execution_count": 226,
     "metadata": {},
     "output_type": "execute_result"
    }
   ],
   "source": [
    "df.isnull().sum()"
   ]
  },
  {
   "cell_type": "markdown",
   "metadata": {},
   "source": [
    "> **Conclusion:**\n",
    "> \n",
    "> There are no empty values in the dataset."
   ]
  },
  {
   "cell_type": "markdown",
   "metadata": {
    "id": "rTkiqPr_DUKh"
   },
   "source": [
    "**Convert your features into NumPy arrays and split them into X (predictors) and y (target) variables**"
   ]
  },
  {
   "cell_type": "code",
   "execution_count": 227,
   "metadata": {
    "id": "R9OHIRB3a_Xa"
   },
   "outputs": [],
   "source": [
    "X = np.array(df.drop('sales', axis=1))\n",
    "y = np.array(df['sales'])"
   ]
  },
  {
   "cell_type": "markdown",
   "metadata": {
    "id": "KCvjSoHEDUKo"
   },
   "source": [
    "## Coordinate descent"
   ]
  },
  {
   "cell_type": "markdown",
   "metadata": {
    "id": "yjNm8dATDUKq"
   },
   "source": [
    "**Let's add a ones column so that we have a free coefficient in the regression equation:**"
   ]
  },
  {
   "cell_type": "code",
   "execution_count": 228,
   "metadata": {
    "id": "LMgq0fmKDUKr"
   },
   "outputs": [
    {
     "name": "stdout",
     "output_type": "stream",
     "text": [
      "(200, 4) (200, 1)\n"
     ]
    }
   ],
   "source": [
    "X = np.hstack([np.ones(X.shape[0]).reshape(-1, 1), X])\n",
    "y = y.reshape(-1, 1)\n",
    "print(X.shape, y.shape)"
   ]
  },
  {
   "cell_type": "markdown",
   "metadata": {
    "id": "R008OQwcDUKt"
   },
   "source": [
    "**Normalize the data: this is necessary for the algorithm to work correctly**"
   ]
  },
  {
   "cell_type": "code",
   "execution_count": 229,
   "metadata": {
    "id": "2Sk7Wx-SDUKt"
   },
   "outputs": [],
   "source": [
    "X = X / np.sqrt(np.sum(np.square(X), axis=0))"
   ]
  },
  {
   "cell_type": "markdown",
   "metadata": {
    "id": "F_pHHbAdDUKu"
   },
   "source": [
    "**Implement the coordinate descent algorithm:**"
   ]
  },
  {
   "cell_type": "markdown",
   "metadata": {},
   "source": [
    "**Given:**\n",
    "\n",
    "* $X=(x_{ij})$ - observation matrix, with dimension $dim(X)=(m, n)$\n",
    "* $N=1000$ - number of iterations\n",
    "\n",
    "**Note:** *1000 iterations are specified here for this task, in reality there may be a different number, there is no deterministic value.*\n",
    "\n",
    "**Algorithm (mathematical notation):**\n",
    "* Create a zero vector of parameters $w_0=(0, 0,..., 0)^T$\n",
    "* For all $t=1, 2, ..., N$ iterations:\n",
    "    * For all $k = 1, 2,..., n$:\n",
    "        * Fix the value of all features except the $k$-th and calculate the forecast of the linear regression model. To do this, exclude the $k$-th feature from the data and $w_j$ from the parameters when constructing the forecast.\n",
    "        Mathematically, this can be written as follows:\n",
    "\n",
    "        $$h_i = \\sum_{j=1}^{k-1} x_{ij}w_{j} + \\sum_{j=k+1}^{n} x_{ij}w_j $$\n",
    "\n",
    "        **Note:**\n",
    "\n",
    "        *Note that in this entry, the current feature number $k$ is not included in the sum. Compare this entry with the classic linear regression prediction entry in the case of normalized data (when all features are included):*\n",
    "\n",
    "        $$h_i = \\sum_{j=1}^{n} x_{ij}w_{j}$$\n",
    "\n",
    "        * Calculate the new value of the $k$-th coefficient parameter:\n",
    "        $$w_k = \\sum_{i=1}^{m} x_{ik} (y_i - h_i) = x_k^T(y-h) $$\n",
    "\n",
    "    * Calculate the value of the loss function and save it in history of the loss function change (All features are involved in the loss function evaluation):\n",
    "        $$\\hat{y_i} = \\sum_{j=1}^{n}x_{ij}w_j$$\n",
    "        $$Loss_t = \\frac{1}{n} \\sum_{i=1}^{m}(y_i-\\hat{y_i})^2$$\n",
    "\n",
    "        or in vector form:\n",
    "\n",
    "        $$\\hat{y} = Xw$$\n",
    "        $$Loss_t = \\frac{1}{n}(y-\\hat{y})^T(y-\\hat{y})$$"
   ]
  },
  {
   "cell_type": "markdown",
   "metadata": {
    "id": "y3IdiHm9DUKv"
   },
   "source": [
    "You need to implement coordinate descent and infer weights in a linear regression model."
   ]
  },
  {
   "cell_type": "code",
   "execution_count": 230,
   "metadata": {},
   "outputs": [
    {
     "name": "stdout",
     "output_type": "stream",
     "text": [
      "Weights of the linear regression model: \n",
      "[[ 41.56217205]\n",
      " [110.13144155]\n",
      " [ 73.52860638]\n",
      " [ -0.55006384]]\n"
     ]
    }
   ],
   "source": [
    "num_iters = 1000\n",
    "m = X.shape[0]\n",
    "n = X.shape[1]\n",
    "w = np.zeros(n).reshape(-1, 1)\n",
    "\n",
    "for i in range(num_iters):\n",
    "    for k in range(n):\n",
    "        h = (X[:,0:k]@w[0:k]) + (X[:,k+1:]@w[k+1:])\n",
    "        w[k] = (X[:,k].T@(y - h))\n",
    "        cost = sum(((X@w) - y)**2)/n\n",
    "\n",
    "print('Weights of the linear regression model: ')\n",
    "print(w)"
   ]
  },
  {
   "cell_type": "markdown",
   "metadata": {
    "id": "a3jG-7UADUKx"
   },
   "source": [
    "Compare the results with the linear regression implementation from the sklearn library:"
   ]
  },
  {
   "cell_type": "code",
   "execution_count": 231,
   "metadata": {
    "id": "SBl-1Yb5DUKy"
   },
   "outputs": [
    {
     "name": "stdout",
     "output_type": "stream",
     "text": [
      "[[ 41.56217205 110.13144155  73.52860638  -0.55006384]]\n"
     ]
    }
   ],
   "source": [
    "from sklearn.linear_model import LinearRegression\n",
    " \n",
    "model = LinearRegression(fit_intercept=False)\n",
    "model.fit(X, y)\n",
    " \n",
    "print(model.coef_)"
   ]
  },
  {
   "cell_type": "markdown",
   "metadata": {
    "id": "hIl0AGLyDUKy"
   },
   "source": [
    "> **Conclusion:**\n",
    "> \n",
    "> The results of the coordinate descent calculation are matching the results of the sklearn library."
   ]
  },
  {
   "cell_type": "markdown",
   "metadata": {
    "id": "VCGwFnPdDUKz"
   },
   "source": [
    "## Stochastic Gradient Descent"
   ]
  },
  {
   "cell_type": "markdown",
   "metadata": {
    "id": "5u7Q2YJla_Xk"
   },
   "source": [
    "**Scale the columns of the original matrix *X* (which we haven't normalized yet!). To do this, subtract the mean from each value and divide by the standard deviation**"
   ]
  },
  {
   "cell_type": "code",
   "execution_count": 232,
   "metadata": {
    "id": "9cEpV_5La_Xo"
   },
   "outputs": [],
   "source": [
    "def scale_column(C):\n",
    "    return (C - C.mean())/C.std()\n",
    "\n",
    "\n",
    "X = df.drop('sales', axis=1)\n",
    "\n",
    "X['TV'] = scale_column(X['TV'])\n",
    "X['radio'] = scale_column(X['radio'])\n",
    "X['newspaper'] = scale_column(X['newspaper'])\n",
    "\n",
    "X = np.array(X)\n",
    "\n",
    "y = np.array(df['sales'])"
   ]
  },
  {
   "cell_type": "markdown",
   "metadata": {
    "id": "8WkNYILHDUK1"
   },
   "source": [
    "**Add a ones column**"
   ]
  },
  {
   "cell_type": "code",
   "execution_count": 233,
   "metadata": {
    "id": "EVl5tEGtDUK1"
   },
   "outputs": [],
   "source": [
    "X = np.hstack([np.ones(X.shape[0]).reshape(-1, 1), X])"
   ]
  },
  {
   "cell_type": "markdown",
   "metadata": {
    "id": "m53tZA5fDUK1"
   },
   "source": [
    "**Create a function mse_error to calculate the mean square error, taking two arguments: actual values ​​and predicted ones, and returning the mse value**"
   ]
  },
  {
   "cell_type": "code",
   "execution_count": 234,
   "metadata": {
    "id": "0cvtC08Aa_YK"
   },
   "outputs": [],
   "source": [
    "def mse_error(y_true, y_pred):\n",
    "    n = y_true.shape[0]\n",
    "    return sum((y_true - y_pred)**2)/n"
   ]
  },
  {
   "cell_type": "markdown",
   "metadata": {
    "id": "lpOLhdvBDUK2"
   },
   "source": [
    "**Make a naive forecast: predict sales with the mean. Then calculate the standard error for this forecast** "
   ]
  },
  {
   "cell_type": "code",
   "execution_count": 235,
   "metadata": {
    "id": "kLV_XljVa_YZ"
   },
   "outputs": [
    {
     "name": "stdout",
     "output_type": "stream",
     "text": [
      "MSE value for the mean forecast is: 27.086\n"
     ]
    }
   ],
   "source": [
    "y_pred_mean = np.array([y.mean()]*y.size)\n",
    "mse_mean = mse_error(y, y_pred_mean)\n",
    "print(f'MSE value for the mean forecast is: {mse_mean:.3f}')"
   ]
  },
  {
   "cell_type": "markdown",
   "metadata": {
    "id": "BbybL2ola_ZM"
   },
   "source": [
    "**Create a function *lin_pred* that can, given a matrix of predictors *X* and a vector of linear model weights *w*, obtain a vector of predictions**"
   ]
  },
  {
   "cell_type": "code",
   "execution_count": 236,
   "metadata": {
    "id": "1Cyz-Luaa_ZO"
   },
   "outputs": [],
   "source": [
    "def lin_pred(X, w):\n",
    "    return (X@w).flatten()"
   ]
  },
  {
   "cell_type": "markdown",
   "metadata": {
    "id": "BU4adBrya_Zm"
   },
   "source": [
    "**Create a function *stoch_grad_step* to implement the stochastic gradient descent step.\n",
    "The function must accept the following arguments:**\n",
    "* matrix *X*\n",
    "* vectors *y* and *w*\n",
    "* parameter *train_ind* - index of the training sample object (rows of matrix *X*) by which the change in weights is calculated\n",
    "* parameter *$\\eta$* (eta) - gradient descent step\n",
    "\n",
    "The result will be a vector of updated weights"
   ]
  },
  {
   "cell_type": "markdown",
   "metadata": {
    "id": "dyLY-P02DUK5"
   },
   "source": [
    "A step for stochastic gradient descent looks as follows:"
   ]
  },
  {
   "cell_type": "markdown",
   "metadata": {
    "id": "ORsAyIKNDUK5"
   },
   "source": [
    "$$\\Large w_j \\leftarrow w_j - \\frac{2\\eta}{\\ell} \\sum_{i=1}^\\ell{{x_{ij}((w_0 + w_1x_{i1} + w_2x_{i2} +  w_3x_{i3}) - y_i)}}$$"
   ]
  },
  {
   "cell_type": "markdown",
   "metadata": {
    "id": "CQl2FrpuDUK6"
   },
   "source": [
    "To write a function, you need to do the following:\n",
    "\n",
    "* calculate the direction of change: multiply the training sample object by 2 and by the difference between the predicted value and the real one, and then divide by the number of elements in the sample.\n",
    "* return the difference between the weight vector and the direction of change, multiplied by the gradient descent step"
   ]
  },
  {
   "cell_type": "code",
   "execution_count": 237,
   "metadata": {
    "id": "YUhVQGsja_Zn"
   },
   "outputs": [],
   "source": [
    "def stoch_grad_step(X, y, w, train_ind, eta):\n",
    "    w_new = []\n",
    "    diff_y = (lin_pred(X[train_ind], w) - y[train_ind])\n",
    "    for j in range(X.shape[1]):\n",
    "        w_new.append(w.flatten()[j] - 2*eta*sum(X[train_ind,j]*diff_y) / X.shape[0])\n",
    "    return np.array(w_new)"
   ]
  },
  {
   "cell_type": "markdown",
   "metadata": {
    "id": "pXwIFd0Ma_Zx"
   },
   "source": [
    "**Create a function *stochastic_gradient_descent* to implement stochastic gradient descent**\n",
    "\n",
    "**The function takes the following arguments as input:**\n",
    "- Feature matrix X\n",
    "- Target variable\n",
    "- Initial point (model weights)\n",
    "- Parameter defining the learning rate\n",
    "- Maximum number of iterations\n",
    "- Euclidean distance between weight vectors at adjacent gradient descent iterations, at which the algorithm stops working\n",
    "\n",
    "**At each iteration, the current value of the mean square error must be written to the vector (list). The function must return the weight vector $w$, as well as the error vector (list).**"
   ]
  },
  {
   "cell_type": "markdown",
   "metadata": {
    "id": "ZVeoNF1JDUK7"
   },
   "source": [
    "The algorithm is as follows:\n",
    "\n",
    "* Initialize the distance between the weight vectors on adjacent iterations to a large number (infinity is possible)\n",
    "* Create an empty list to record errors\n",
    "* Create an iteration counter\n",
    "* Implement the main training loop while the distance between the weight vectors is greater than the one at which it is necessary to stop working (when the distances become too small - it means that we are stuck in a single position) and the number of iterations is less than the maximum allowed: generate a random index, write the current error to the error vector, write the current stochastic descent step to a variable using the function written earlier. Then calculate the current distance between the weight vectors and add 1 to the iteration counter.\n",
    "* Return the weight vector and the error vector"
   ]
  },
  {
   "cell_type": "code",
   "execution_count": 238,
   "metadata": {
    "id": "CD_xcFNfa_Zy"
   },
   "outputs": [],
   "source": [
    "def stochastic_gradient_descent(X, y, w, eta, max_iter, min_dist):\n",
    "    mse_list = []\n",
    "    for i in range(max_iter):\n",
    "        w_new = stoch_grad_step(X, y, w, np.random.randint(0, high=X.shape[0], size=None, dtype=int), eta)\n",
    "        mse_list.append(mse_error(y, lin_pred(X, w_new)))\n",
    "        dist = np.linalg.norm(w - w_new)\n",
    "        if dist <= min_dist:\n",
    "            break\n",
    "        w = w_new\n",
    "    return w_new, mse_list"
   ]
  },
  {
   "cell_type": "markdown",
   "metadata": {
    "id": "0OqHO1Rta_Z7"
   },
   "source": [
    "**Run $10^5$ iterations of stochastic gradient descent. Specify an initial weight vector consisting of zeros. Feel free to experiment with the learning rate parameter.**"
   ]
  },
  {
   "cell_type": "markdown",
   "metadata": {
    "id": "N6fHHT6vDUK8"
   },
   "source": [
    "**Plot a graph of the error as a function of iteration number**"
   ]
  },
  {
   "cell_type": "code",
   "execution_count": 239,
   "metadata": {
    "id": "zsSfHDzLDUK9"
   },
   "outputs": [
    {
     "data": {
      "application/vnd.plotly.v1+json": {
       "config": {
        "plotlyServerURL": "https://plot.ly"
       },
       "data": [
        {
         "hovertemplate": "variable=0<br>index=%{x}<br>value=%{y}<extra></extra>",
         "legendgroup": "0",
         "line": {
          "color": "#636efa",
          "dash": "solid"
         },
         "marker": {
          "symbol": "circle"
         },
         "mode": "lines",
         "name": "0",
         "showlegend": true,
         "type": "scattergl",
         "x": [
          0,
          1,
          2,
          3,
          4,
          5,
          6,
          7,
          8,
          9,
          10,
          11,
          12,
          13,
          14,
          15,
          16,
          17,
          18,
          19,
          20,
          21,
          22,
          23,
          24,
          25,
          26,
          27,
          28,
          29,
          30,
          31,
          32,
          33,
          34,
          35,
          36,
          37,
          38,
          39,
          40,
          41,
          42,
          43,
          44,
          45,
          46,
          47,
          48,
          49,
          50,
          51,
          52,
          53,
          54,
          55,
          56,
          57,
          58,
          59,
          60,
          61,
          62,
          63,
          64,
          65,
          66,
          67,
          68,
          69,
          70,
          71,
          72,
          73,
          74,
          75,
          76,
          77,
          78,
          79,
          80,
          81,
          82,
          83,
          84,
          85,
          86,
          87,
          88,
          89,
          90,
          91,
          92,
          93,
          94,
          95,
          96,
          97,
          98,
          99,
          100,
          101,
          102,
          103,
          104,
          105,
          106,
          107,
          108,
          109,
          110,
          111,
          112,
          113,
          114,
          115,
          116,
          117,
          118,
          119,
          120,
          121,
          122,
          123,
          124,
          125,
          126,
          127,
          128,
          129,
          130,
          131,
          132,
          133,
          134,
          135,
          136,
          137,
          138,
          139,
          140,
          141,
          142,
          143,
          144,
          145,
          146,
          147,
          148,
          149,
          150,
          151,
          152,
          153,
          154,
          155,
          156,
          157,
          158,
          159,
          160,
          161,
          162,
          163,
          164,
          165,
          166,
          167,
          168,
          169,
          170,
          171,
          172,
          173,
          174,
          175,
          176,
          177,
          178,
          179,
          180,
          181,
          182,
          183,
          184,
          185,
          186,
          187,
          188,
          189,
          190,
          191,
          192,
          193,
          194,
          195,
          196,
          197,
          198,
          199,
          200,
          201,
          202,
          203,
          204,
          205,
          206,
          207,
          208,
          209,
          210,
          211,
          212,
          213,
          214,
          215,
          216,
          217,
          218,
          219,
          220,
          221,
          222,
          223,
          224,
          225,
          226,
          227,
          228,
          229,
          230,
          231,
          232,
          233,
          234,
          235,
          236,
          237,
          238,
          239,
          240,
          241,
          242,
          243,
          244,
          245,
          246,
          247,
          248,
          249,
          250,
          251,
          252,
          253,
          254,
          255,
          256,
          257,
          258,
          259,
          260,
          261,
          262,
          263,
          264,
          265,
          266,
          267,
          268,
          269,
          270,
          271,
          272,
          273,
          274,
          275,
          276,
          277,
          278,
          279,
          280,
          281,
          282,
          283,
          284,
          285,
          286,
          287,
          288,
          289,
          290,
          291,
          292,
          293,
          294,
          295,
          296,
          297,
          298,
          299,
          300,
          301,
          302,
          303,
          304,
          305,
          306,
          307,
          308,
          309,
          310,
          311,
          312,
          313,
          314,
          315,
          316,
          317,
          318,
          319,
          320,
          321,
          322,
          323,
          324,
          325,
          326,
          327,
          328,
          329,
          330,
          331,
          332,
          333,
          334,
          335,
          336,
          337,
          338,
          339,
          340,
          341,
          342,
          343,
          344,
          345,
          346,
          347,
          348,
          349,
          350,
          351,
          352,
          353,
          354,
          355,
          356,
          357,
          358,
          359,
          360,
          361,
          362,
          363,
          364,
          365,
          366,
          367,
          368,
          369,
          370,
          371,
          372,
          373,
          374,
          375,
          376,
          377,
          378,
          379,
          380,
          381,
          382,
          383,
          384,
          385,
          386,
          387,
          388,
          389,
          390,
          391,
          392,
          393,
          394,
          395,
          396,
          397,
          398,
          399,
          400,
          401,
          402,
          403,
          404,
          405,
          406,
          407,
          408,
          409,
          410,
          411,
          412,
          413,
          414,
          415,
          416,
          417,
          418,
          419,
          420,
          421,
          422,
          423,
          424,
          425,
          426,
          427,
          428,
          429,
          430,
          431,
          432,
          433,
          434,
          435,
          436,
          437,
          438,
          439,
          440,
          441,
          442,
          443,
          444,
          445,
          446,
          447,
          448,
          449,
          450,
          451,
          452,
          453,
          454,
          455,
          456,
          457,
          458,
          459,
          460,
          461,
          462,
          463,
          464,
          465,
          466,
          467,
          468,
          469,
          470,
          471,
          472,
          473,
          474,
          475,
          476,
          477,
          478,
          479,
          480,
          481,
          482,
          483,
          484,
          485,
          486,
          487,
          488,
          489,
          490,
          491,
          492,
          493,
          494,
          495,
          496,
          497,
          498,
          499,
          500,
          501,
          502,
          503,
          504,
          505,
          506,
          507,
          508,
          509,
          510,
          511,
          512,
          513,
          514,
          515,
          516,
          517,
          518,
          519,
          520,
          521,
          522,
          523,
          524,
          525,
          526,
          527,
          528,
          529,
          530,
          531,
          532,
          533,
          534,
          535,
          536,
          537,
          538,
          539,
          540,
          541,
          542,
          543,
          544,
          545,
          546,
          547,
          548,
          549,
          550,
          551,
          552,
          553,
          554,
          555,
          556,
          557,
          558,
          559,
          560,
          561,
          562,
          563,
          564,
          565,
          566,
          567,
          568,
          569,
          570,
          571,
          572,
          573,
          574,
          575,
          576,
          577,
          578,
          579,
          580,
          581,
          582,
          583,
          584,
          585,
          586,
          587,
          588,
          589,
          590,
          591,
          592,
          593,
          594,
          595,
          596,
          597,
          598,
          599,
          600,
          601,
          602,
          603,
          604,
          605,
          606,
          607,
          608,
          609,
          610,
          611,
          612,
          613,
          614,
          615,
          616,
          617,
          618,
          619,
          620,
          621,
          622,
          623,
          624,
          625,
          626,
          627,
          628,
          629,
          630,
          631,
          632,
          633,
          634,
          635,
          636,
          637,
          638,
          639,
          640,
          641,
          642,
          643,
          644,
          645,
          646,
          647,
          648,
          649,
          650,
          651,
          652,
          653,
          654,
          655,
          656,
          657,
          658,
          659,
          660,
          661,
          662,
          663,
          664,
          665,
          666,
          667,
          668,
          669,
          670,
          671,
          672,
          673,
          674,
          675,
          676,
          677,
          678,
          679,
          680,
          681,
          682,
          683,
          684,
          685,
          686,
          687,
          688,
          689,
          690,
          691,
          692,
          693,
          694,
          695,
          696,
          697,
          698,
          699,
          700,
          701,
          702,
          703,
          704,
          705,
          706,
          707,
          708,
          709,
          710,
          711,
          712,
          713,
          714,
          715,
          716,
          717,
          718,
          719,
          720,
          721,
          722,
          723,
          724,
          725,
          726,
          727,
          728,
          729,
          730,
          731,
          732,
          733,
          734,
          735,
          736,
          737,
          738,
          739,
          740,
          741,
          742,
          743,
          744,
          745,
          746,
          747,
          748,
          749,
          750,
          751,
          752,
          753,
          754,
          755,
          756,
          757,
          758,
          759,
          760,
          761,
          762,
          763,
          764,
          765,
          766,
          767,
          768,
          769,
          770,
          771,
          772,
          773,
          774,
          775,
          776,
          777,
          778,
          779,
          780,
          781,
          782,
          783,
          784,
          785,
          786,
          787,
          788,
          789,
          790,
          791,
          792,
          793,
          794,
          795,
          796,
          797,
          798,
          799,
          800,
          801,
          802,
          803,
          804,
          805,
          806,
          807,
          808,
          809,
          810,
          811,
          812,
          813,
          814,
          815,
          816,
          817,
          818,
          819,
          820,
          821,
          822,
          823,
          824,
          825,
          826,
          827,
          828,
          829,
          830,
          831,
          832,
          833,
          834,
          835,
          836,
          837,
          838,
          839,
          840,
          841,
          842,
          843,
          844,
          845,
          846,
          847,
          848,
          849,
          850,
          851,
          852,
          853,
          854,
          855,
          856,
          857,
          858,
          859,
          860,
          861,
          862,
          863,
          864,
          865,
          866,
          867,
          868,
          869,
          870,
          871,
          872,
          873,
          874,
          875,
          876,
          877,
          878,
          879,
          880,
          881,
          882,
          883,
          884,
          885,
          886,
          887,
          888,
          889,
          890,
          891,
          892,
          893,
          894,
          895,
          896,
          897,
          898,
          899,
          900,
          901,
          902,
          903,
          904,
          905,
          906,
          907,
          908,
          909,
          910,
          911,
          912,
          913,
          914,
          915,
          916,
          917,
          918,
          919,
          920,
          921,
          922,
          923,
          924,
          925,
          926,
          927,
          928,
          929,
          930,
          931,
          932,
          933,
          934,
          935,
          936,
          937,
          938,
          939,
          940,
          941,
          942,
          943,
          944,
          945,
          946,
          947,
          948,
          949,
          950,
          951,
          952,
          953,
          954,
          955,
          956,
          957,
          958,
          959,
          960,
          961,
          962,
          963,
          964,
          965,
          966,
          967,
          968,
          969,
          970,
          971,
          972,
          973,
          974,
          975,
          976,
          977,
          978,
          979,
          980,
          981,
          982,
          983,
          984,
          985,
          986,
          987,
          988,
          989,
          990,
          991,
          992,
          993,
          994,
          995,
          996,
          997,
          998,
          999,
          1000,
          1001,
          1002,
          1003,
          1004,
          1005,
          1006,
          1007,
          1008,
          1009,
          1010,
          1011,
          1012,
          1013,
          1014,
          1015,
          1016,
          1017,
          1018,
          1019,
          1020,
          1021,
          1022,
          1023,
          1024,
          1025,
          1026,
          1027,
          1028,
          1029,
          1030,
          1031,
          1032,
          1033,
          1034,
          1035,
          1036,
          1037,
          1038,
          1039,
          1040,
          1041,
          1042,
          1043,
          1044,
          1045,
          1046,
          1047,
          1048,
          1049,
          1050,
          1051,
          1052,
          1053,
          1054,
          1055,
          1056,
          1057,
          1058,
          1059,
          1060,
          1061,
          1062
         ],
         "xaxis": "x",
         "y": [
          223.37287149667134,
          220.40072462206604,
          219.51548629903263,
          218.51817854743265,
          217.33040159867843,
          214.7951596512413,
          213.57540668904804,
          213.18061218775694,
          211.7879775850222,
          211.15151539783565,
          210.43620008891946,
          208.8063749878807,
          207.4064497788113,
          206.56213160197308,
          206.20013199030606,
          203.3974158380179,
          201.96250147221653,
          200.15856207292774,
          197.53655117746214,
          196.82061560672528,
          196.23585397672926,
          196.1317625955893,
          195.191436801631,
          194.2179421102393,
          191.47715743014388,
          190.4585752409711,
          189.68052950945585,
          189.23219775089945,
          188.70515412331233,
          187.74024954017804,
          187.15551340632175,
          186.16688801030642,
          184.1065198805034,
          184.00200920830787,
          183.1356902604262,
          182.73306390338885,
          182.33971685168638,
          180.92925379140425,
          178.59982162247067,
          177.83114793128595,
          176.80942453764038,
          176.43707338300973,
          175.63738512001888,
          175.29571678279942,
          174.87579933133674,
          172.4654324914296,
          171.95984924279804,
          171.37702774961656,
          170.8066293099424,
          169.95051038111762,
          169.3362748420211,
          167.76768747161012,
          166.11326837405232,
          165.708777851209,
          165.3105945666844,
          164.70834194616145,
          163.46992663152648,
          162.63980590350644,
          162.04224239491555,
          160.63095337823412,
          159.5773266300366,
          158.78142073645557,
          157.254729733317,
          156.64531091206055,
          156.24486817757293,
          153.971561755759,
          153.53670033097163,
          152.0072663072397,
          151.30105520668326,
          151.11425621225143,
          150.9236108137424,
          148.9906580829762,
          147.93666386001806,
          147.21139002700173,
          145.36403119317865,
          144.8132888875958,
          144.4212415895531,
          143.57990027770828,
          142.5248939778714,
          142.23938344921444,
          141.30211288854707,
          140.77904757337214,
          140.2816176783817,
          139.9524636422655,
          139.0274142180204,
          138.54388276173285,
          137.67154009275927,
          136.68645642810938,
          136.14448697162376,
          135.67904808989172,
          135.42105542804293,
          134.62026213222296,
          133.5260648327766,
          131.927063135156,
          131.74252365443513,
          131.248180283287,
          130.92827706750455,
          130.41200960226934,
          128.708479814759,
          127.79179511480028,
          127.31412795304647,
          126.24890244828327,
          125.3447248135954,
          124.67501311567752,
          124.47428301116074,
          124.45782417161371,
          122.80173990964278,
          122.31697026601482,
          122.01255588136677,
          121.21024996105197,
          121.03069218694189,
          119.45673378295196,
          118.89748941115872,
          118.40799886741497,
          117.74204163106411,
          117.51112314794057,
          117.10499950804217,
          116.20141670068593,
          115.88920881690392,
          115.52504329643489,
          114.10698022688405,
          113.31493087814476,
          113.10178512323317,
          112.82075228835832,
          112.3774636665837,
          111.83015611056464,
          111.44024187449071,
          111.09228186614466,
          111.0773321345245,
          110.90526167624049,
          109.52999734417317,
          108.44606522662303,
          108.07318353332953,
          107.7816313616232,
          107.49954315326755,
          106.70213583868892,
          106.54300710871456,
          106.24237177449253,
          106.02489193304805,
          105.84145975669433,
          105.69313530234537,
          105.36832012082992,
          105.01865186418893,
          103.63706987393012,
          102.9677477732381,
          102.76008881158167,
          102.26228998688843,
          101.83911567634487,
          101.4975222079758,
          101.39311061386046,
          100.3205470680606,
          99.53887446057935,
          99.39557841767557,
          98.7836795702452,
          98.5205587695747,
          98.15998703375881,
          98.00980630189378,
          96.82811194150749,
          96.34494171080563,
          95.86952500065316,
          95.62094471912076,
          94.95926065782842,
          94.80611489428493,
          94.3858485672861,
          93.69092717143484,
          93.45370368020436,
          93.1481331991971,
          92.91654352501823,
          92.14846913044578,
          91.8363183128329,
          91.5364630912735,
          91.05876293212461,
          90.90643255722017,
          90.82881584869774,
          90.60421359717122,
          90.28859291060644,
          90.00232023281256,
          89.7184869266528,
          89.45961606539659,
          89.13908175279786,
          88.94996764140065,
          88.70571737777883,
          88.49414253066742,
          88.2062148108881,
          87.60921982840318,
          87.3539710723928,
          86.68431973508054,
          86.2310852984444,
          85.90755905022837,
          85.65587622837775,
          85.31527502778528,
          84.41858237671457,
          84.37610719365713,
          83.93168981228764,
          83.71288028516003,
          83.2491201467983,
          82.96551115171354,
          82.78275871889225,
          82.61869715864185,
          82.03173464996867,
          81.58040915636532,
          81.41060370346875,
          81.26132216768245,
          81.2987516616986,
          80.78961739650607,
          80.6342506715126,
          80.43493112197486,
          80.47513035765091,
          80.36513077621613,
          80.0914654361664,
          79.80643313081904,
          79.35989566406957,
          78.7681625133618,
          78.50710875619508,
          77.86884194433077,
          77.61387501755884,
          77.42970313932506,
          76.64233391895219,
          76.46738659231976,
          76.07199043761038,
          75.68693797287858,
          75.30578725394754,
          74.87944672917348,
          74.5673837178382,
          74.3023979215355,
          74.02450412242412,
          73.7988842446828,
          73.05314749164667,
          72.99721025470599,
          72.92517173402258,
          72.56169140961234,
          71.8462167709194,
          71.80328579865774,
          71.64714284126622,
          71.51311295411176,
          71.40864495682641,
          70.84923521516535,
          70.13947330746947,
          69.8046380741482,
          69.73408608859809,
          69.57158507424845,
          69.45694674245304,
          69.51181299535264,
          69.21045883302062,
          68.70634866969345,
          67.95355218858407,
          67.69775862104417,
          67.20874927569933,
          67.05375027104519,
          66.94443127354724,
          66.75507536150009,
          66.55909401252246,
          66.49847720002252,
          66.356637432066,
          66.17868901033164,
          65.47230571506643,
          64.51405091024158,
          64.29939637482823,
          64.11079640138868,
          63.87256227009526,
          63.19155031498647,
          63.02875736783923,
          62.7564547173516,
          62.6276482879797,
          62.51499098355141,
          62.38961867568306,
          62.21964882956072,
          62.064963262197836,
          61.835432888865455,
          61.64941739599446,
          60.86909078440391,
          60.11664508202096,
          59.922311876043366,
          59.59069254863113,
          59.4477958300696,
          58.59738470107861,
          58.469540974706426,
          57.754753175572915,
          57.71621283248803,
          57.42868797633579,
          57.25729166385988,
          56.71361599738573,
          56.5525220756616,
          56.618478775412704,
          56.38441372182129,
          56.18007718818948,
          55.73465453507323,
          55.58760681690711,
          55.5733309417691,
          55.28877585097121,
          55.111091887492876,
          54.91305078703621,
          54.61372294406533,
          54.30287415652358,
          54.162000848789475,
          53.96053917689698,
          53.84658271810547,
          53.7368940702534,
          53.533731280872544,
          52.94920342879039,
          52.78294357557429,
          52.49193438771222,
          52.04002316470389,
          51.99996504787968,
          51.661506684192375,
          51.14915139666333,
          50.59479331227093,
          50.327581253842844,
          50.10677072720236,
          50.11735332992131,
          49.86149720256316,
          49.71812921228079,
          49.46685376994998,
          49.16664220620907,
          48.78485119103711,
          48.65821227840658,
          48.51490115922913,
          48.353331094799216,
          48.230613374643674,
          47.8872726990186,
          47.700643775184034,
          47.188883444628885,
          46.69249886035871,
          46.24734747264168,
          46.070433202047205,
          45.831553232132336,
          45.650195528576695,
          45.62870289239583,
          45.41637192034877,
          44.976420814036366,
          44.627706569725135,
          44.160259220721436,
          43.93437012052397,
          43.82174547225048,
          43.482178714353225,
          43.24465934056024,
          43.224574975204824,
          43.07415495239073,
          43.020475031393055,
          42.61108146080454,
          42.31825619873612,
          42.02791427300112,
          41.73662977479895,
          41.51675799488116,
          41.29953760249331,
          41.07911390046941,
          41.072896622601036,
          40.97211504177774,
          40.85218770763276,
          40.73659345230408,
          40.624934734682896,
          40.51365255745693,
          40.13150719302112,
          40.001688945519454,
          39.78792531364585,
          39.484815655153845,
          39.409852213530556,
          39.38529417178441,
          39.06365880257747,
          38.86935619749048,
          38.726273007915346,
          38.31473392220227,
          37.942998590385876,
          37.54988582239167,
          37.34588400328032,
          37.13819873711969,
          37.020519409025034,
          36.9378454991584,
          36.73344858927688,
          36.59084757945985,
          36.580728566383954,
          36.38875258564804,
          36.24722061975487,
          36.20513107816811,
          36.06249817257807,
          35.9849336432318,
          35.45996557423318,
          35.25978714216145,
          35.145772229714765,
          35.02893950566277,
          34.913647581866655,
          34.78891534061138,
          34.67658572594009,
          34.41136229419064,
          34.32880799592539,
          34.28751516564323,
          34.19843936844111,
          33.89777682053066,
          33.78769174509789,
          33.63643534025903,
          33.50966530172581,
          33.30361366591034,
          32.98966780247861,
          32.69730865087117,
          32.22081014171297,
          32.14170865593138,
          32.1298680775074,
          32.02484802869546,
          31.923498608109472,
          31.746748869307886,
          31.585862821343074,
          31.29101993983913,
          31.101749187655575,
          30.979470155925352,
          30.830991348203337,
          30.736100262080395,
          30.610599877110026,
          30.534384863822144,
          30.393303201777154,
          30.339399157722493,
          30.325983891594205,
          30.194812896879835,
          30.17907124656576,
          29.89900696547892,
          29.75747625709151,
          29.62918454165213,
          29.579440004872822,
          29.490035321120775,
          29.29860178120375,
          29.17608720489764,
          28.956893248389694,
          28.854807628901668,
          28.734952130185807,
          28.639234682276978,
          28.4056858469525,
          28.327259057350517,
          28.344843760989303,
          28.23092497903435,
          28.15480843553767,
          28.080029506074833,
          27.821516957259504,
          27.72815834910677,
          27.812853887865714,
          27.641180571904513,
          27.470731501206977,
          27.32429988588438,
          27.087600249717443,
          26.957615729203223,
          26.8747548027766,
          26.789322867334587,
          26.710765105867573,
          26.623267272681673,
          26.513974077541953,
          26.441519941719754,
          26.227777348644945,
          26.246361240568014,
          26.088979144625238,
          25.97573889741992,
          25.584679128014518,
          25.603224648686442,
          25.517184595824084,
          25.3064373337507,
          25.23050297090854,
          25.153339467221464,
          24.958657634323032,
          24.85066790940802,
          24.780706115808457,
          24.747524855115767,
          24.50307889777777,
          24.328576627759247,
          24.28615458355759,
          24.238779538259404,
          24.009789679890492,
          24.094388172961995,
          23.84611208842788,
          23.798033403924457,
          23.685132630555763,
          23.480870735187327,
          23.405418792711547,
          23.28164963060722,
          23.15900307543212,
          23.069285656428086,
          23.044275367362847,
          22.998789934398754,
          22.937101342992978,
          22.8159187574828,
          22.71064878889959,
          22.600155933649322,
          22.63547814812442,
          22.45203654146793,
          22.462392586574282,
          22.327483811551023,
          22.144382863623573,
          21.995387990694436,
          21.876583573862963,
          21.75342536143453,
          21.73784906135256,
          21.622272336649118,
          21.526690100077612,
          21.419745179119413,
          21.34964872315178,
          21.217087347010164,
          21.108499128977023,
          21.04212619537178,
          20.98197831914791,
          20.892285351433056,
          20.802946519648977,
          20.692369263502542,
          20.62881474481727,
          20.418936129623948,
          20.352777738881308,
          20.251970141717308,
          20.148718342761,
          20.016036835910317,
          19.916236647783297,
          19.859866920412045,
          19.77640224432035,
          19.664505091494995,
          19.530998347163873,
          19.500461119386422,
          19.423460162517753,
          19.295928105779428,
          19.257445127628458,
          19.08909103508607,
          18.93967387790311,
          18.86761455757389,
          18.841978648235365,
          18.879119035402567,
          18.888733701294996,
          18.84004132699455,
          18.80042994524137,
          18.71779395671329,
          18.594515219957326,
          18.485059220899743,
          18.447303854718438,
          18.400059610703227,
          18.36103843107612,
          18.309310331667646,
          18.245476467393576,
          18.213305340795067,
          18.14941527819703,
          18.1019452944745,
          18.01589434817291,
          17.913038467594404,
          17.83455030059754,
          17.785994369043063,
          17.612868326003216,
          17.52336260093503,
          17.5405809508912,
          17.50230620890529,
          17.456639326160435,
          17.367909234499905,
          17.106273854512427,
          17.056984502330387,
          16.959430350467365,
          16.929495286859684,
          16.852651779052582,
          16.77641246152894,
          16.64376222402352,
          16.59588989054886,
          16.5858227012129,
          16.542905594040686,
          16.45955293361028,
          16.4019989348877,
          16.26414987189176,
          16.17091790950955,
          16.051358593295877,
          16.042145406209425,
          16.01203955976342,
          15.9418680286859,
          15.84228581045606,
          15.69858382237691,
          15.526117105090186,
          15.476079881584024,
          15.48699421047665,
          15.481407402786015,
          15.302044246002586,
          15.26293074526162,
          15.269723729027215,
          15.176134891064969,
          15.099123517943163,
          15.06976308868479,
          15.00748193351289,
          14.950012207105292,
          14.86241344773796,
          14.840562348604466,
          14.790082809116612,
          14.728202996012037,
          14.724345865771156,
          14.683547560524628,
          14.635328816614399,
          14.605331234433395,
          14.625332358352866,
          14.567271857390029,
          14.537806628065702,
          14.459549971348135,
          14.375995442650346,
          14.339961826648334,
          14.29669092840735,
          14.263121950502994,
          14.244581422555918,
          14.208428869536766,
          14.177469076889787,
          14.141777946061298,
          14.068876284332546,
          14.050315376100043,
          13.997224372310225,
          13.976840869895703,
          13.93993620451123,
          13.920691913660471,
          13.876729508671911,
          13.826221637239438,
          13.776233875889039,
          13.776673333325732,
          13.735446755201313,
          13.71098215959393,
          13.588340746245997,
          13.584547667827724,
          13.55129141249944,
          13.553080557635868,
          13.466705607952179,
          13.354890889029011,
          13.322012747214556,
          13.246886548583037,
          13.224079146930736,
          13.202667140126378,
          13.079270805488385,
          13.021714371708429,
          12.944898866902996,
          12.866201037414733,
          12.823641841284397,
          12.708072848080429,
          12.689620427938586,
          12.690020813147699,
          12.635482108744686,
          12.607940719706189,
          12.554044279370952,
          12.556906704672832,
          12.51807583256127,
          12.504067696251466,
          12.505654212744616,
          12.456032499966168,
          12.428354404590046,
          12.371263219409585,
          12.298604745282873,
          12.27019984117111,
          12.235322516612703,
          12.234488619407824,
          12.20385598882848,
          12.147592961336324,
          12.119101424971452,
          12.100464555180425,
          12.110410899852198,
          12.058578530165498,
          12.01574613741758,
          11.982407243794286,
          11.952439236244498,
          11.909405765036299,
          11.880550233007748,
          11.894603059779229,
          11.798168531829628,
          11.72732611741789,
          11.703298355588412,
          11.647303695293388,
          11.583047827855165,
          11.539054465320161,
          11.506581905613887,
          11.466109749849558,
          11.443067265686029,
          11.515795227568985,
          11.504405851731919,
          11.465430782280547,
          11.41969329279394,
          11.44782460914867,
          11.449823423436701,
          11.396201386292317,
          11.361402234380128,
          11.32020828996067,
          11.313149052168082,
          11.224663046172658,
          11.148684101103813,
          11.081652143429096,
          11.051897290565494,
          10.958839801594898,
          10.901656944017352,
          10.876369519808609,
          10.833881291512382,
          10.802216714649058,
          10.759127506633208,
          10.672934793056951,
          10.63287292421927,
          10.593448451691723,
          10.58404593398626,
          10.552343429542448,
          10.552604986393597,
          10.535742367020907,
          10.436835383136208,
          10.354592853050129,
          10.374149194295818,
          10.336661204656634,
          10.307427424301666,
          10.321495889990068,
          10.28574575817253,
          10.24017207452389,
          10.213664214992155,
          10.176285930091439,
          10.17649423869489,
          10.178191863419533,
          10.152379991802395,
          10.152642448773932,
          10.142400887984708,
          10.1319812913789,
          10.061392770849952,
          9.97305675953639,
          9.951206098022572,
          9.933542481047768,
          9.899296913019809,
          9.878034114830326,
          9.779207704518674,
          9.77343955207237,
          9.715515905774119,
          9.641218907695976,
          9.584477780035629,
          9.544208525747091,
          9.510355189627054,
          9.484839808992776,
          9.459993979186931,
          9.459007628758874,
          9.457064782606563,
          9.434318275623754,
          9.391781393988012,
          9.369853454801783,
          9.277026777235317,
          9.290781370034237,
          9.306837441002425,
          9.274977347886454,
          9.247961207998223,
          9.233483603726441,
          9.14957395484955,
          9.117671228133123,
          8.990230225653747,
          8.966899365082115,
          8.936672761063983,
          8.911470289865846,
          8.88845287662332,
          8.870645698581425,
          8.851159631539888,
          8.806356499907132,
          8.805925549135209,
          8.817953290771182,
          8.75940261771695,
          8.730505010728692,
          8.72453578724539,
          8.712353483417719,
          8.697877584682047,
          8.660675697468628,
          8.64245809500383,
          8.63197030359578,
          8.55987381257725,
          8.548162961663126,
          8.545646589992574,
          8.534154133596287,
          8.48228065987192,
          8.440959582409718,
          8.413242589193821,
          8.392774813339575,
          8.352263084333678,
          8.338103069989819,
          8.356323790279095,
          8.302241179712492,
          8.269920591297618,
          8.254200239686384,
          8.234777290642324,
          8.194302425808466,
          8.17373592492678,
          8.17098411314234,
          8.098907096246592,
          8.105464352909372,
          8.095706641269592,
          8.083708913949215,
          8.065126113921059,
          8.071747428191868,
          8.05011592182356,
          8.031346610410004,
          8.016734911311316,
          7.986241547217905,
          7.9732905308067235,
          7.9423877890653936,
          7.879115783664706,
          7.855041240627266,
          7.829869402914304,
          7.779079605092131,
          7.7858645463590515,
          7.756159522195548,
          7.696402455041898,
          7.690658352952891,
          7.6413866339758725,
          7.630833766697513,
          7.625225619596467,
          7.617879886359326,
          7.595158416276665,
          7.591868081598773,
          7.527865035547548,
          7.514598854102089,
          7.456835661516741,
          7.467033951086872,
          7.456531307096743,
          7.446254829760615,
          7.4521489655596245,
          7.433270874349725,
          7.400892406823395,
          7.388845022698778,
          7.356441442082501,
          7.358143942726489,
          7.316687153863105,
          7.309282115291411,
          7.24055522073652,
          7.22965439341509,
          7.212133850537088,
          7.154818533281342,
          7.133173810749122,
          7.101943630373437,
          7.082882393781608,
          7.048718086746377,
          6.965997484204287,
          6.94406676491406,
          6.830188609495198,
          6.802112161348145,
          6.79298473718419,
          6.770615663654085,
          6.7590065429374135,
          6.7435270506366365,
          6.713627726207568,
          6.703722263218747,
          6.6856414471438885,
          6.577979593579703,
          6.559131750975767,
          6.5003281270540345,
          6.4896289819349295,
          6.478340093934724,
          6.4894822835723,
          6.485540499808889,
          6.4763910320397455,
          6.405086456873914,
          6.427077464363806,
          6.4311631946989705,
          6.36271836694727,
          6.343334987043412,
          6.324825626562071,
          6.298515139387745,
          6.283142888417341,
          6.238899214038821,
          6.248379891060397,
          6.253831486572373,
          6.23994669948803,
          6.219822452223293,
          6.20007871404047,
          6.170635731337674,
          6.122721543071982,
          6.108857899252563,
          6.105159931106027,
          6.079957551624287,
          6.060392180984452,
          6.0506502423436395,
          6.0201181095078935,
          6.037567489052764,
          5.995059301504158,
          5.9681207725773255,
          5.957980443465736,
          5.9461257748907315,
          5.883601324620503,
          5.886795213757649,
          5.896615509510847,
          5.886247412378237,
          5.844629374701543,
          5.841329368642728,
          5.830214677043045,
          5.811387666048005,
          5.799700961890319,
          5.775949392673899,
          5.755284816713335,
          5.743195365884319,
          5.731607071392563,
          5.720078062777427,
          5.712829268047702,
          5.667973984961706,
          5.653762032254028,
          5.644079123315429,
          5.63584476423223,
          5.6292261540940185,
          5.607745191161968,
          5.594153567722149,
          5.566570662756824,
          5.54970760085791,
          5.534676096434429,
          5.521545215555875,
          5.492993498992449,
          5.4596192636596665,
          5.448467218542471,
          5.426777422724082,
          5.392502519833137,
          5.365460617702811,
          5.372708029602275,
          5.36142776637543,
          5.363621054413509,
          5.346322409039901,
          5.359321284822235,
          5.349102866514913,
          5.342308621143279,
          5.329106525316963,
          5.328250117274498,
          5.318228847601188,
          5.303777155213671,
          5.295854385929951,
          5.286536253818407,
          5.286346631631204,
          5.272484358786574,
          5.285668152784734,
          5.285158148758396,
          5.280024942063407,
          5.284866184397246,
          5.287245872855898,
          5.263680989247485,
          5.28113095177926,
          5.23620577962559,
          5.2537939694429205,
          5.235657207734309,
          5.24528134230414,
          5.23565979339632,
          5.245792686487138,
          5.2406045475890615,
          5.247868900617238,
          5.231357489136903,
          5.217926284534696,
          5.196559168184275,
          5.193747572668439,
          5.182031653019522,
          5.143229937116827,
          5.138817112716838,
          5.1252809793367975,
          5.129282346047419,
          5.137669052851542,
          5.1094405729296914,
          5.104669114140391,
          5.08078649799582,
          5.0869450230294575,
          5.0898037947204475,
          5.073046456060185,
          5.040187294290444,
          5.024525543311983,
          5.032129200949667,
          5.026705418899166,
          4.996983229309983,
          4.981674974645511,
          4.973165598337775,
          4.951120203937432,
          4.9204045916402475,
          4.885690598197146,
          4.883295102180927,
          4.855500343266144,
          4.85962855663519,
          4.874075511351404,
          4.840154388707647,
          4.810573282694077,
          4.802540545798924,
          4.796088772023594,
          4.788189902814308,
          4.782560964190857,
          4.787354303430596,
          4.7791813740162645,
          4.740938716423812,
          4.722219185161583,
          4.72217585468363,
          4.719100260295703,
          4.701129463954748,
          4.693361351319653,
          4.691115383907996,
          4.6896924150153225,
          4.677681423250154,
          4.66559437731536,
          4.658809903506721,
          4.652348478794168,
          4.652252797872339,
          4.646432255287827,
          4.640041692921834,
          4.645536137745866,
          4.6402211498182195,
          4.63973473893856,
          4.636768041565139,
          4.622870747916971,
          4.629941559904352,
          4.623689990381179,
          4.604990380653279,
          4.595140466542437,
          4.587359376537259,
          4.577556967008843,
          4.562645240447456,
          4.549437524411737,
          4.533178796158425,
          4.529885390319787,
          4.5335986937136985,
          4.534833091857392,
          4.54303004651605,
          4.5379938450482635,
          4.542416717657652,
          4.535868204622806,
          4.530640486545418,
          4.519973465238727,
          4.525444534883836,
          4.529155287518618,
          4.526696905486447,
          4.525379586485244,
          4.519111544728396,
          4.489723946122684,
          4.471700101845595,
          4.4614906285781215,
          4.462665338281321,
          4.446453048504448,
          4.449222614742487,
          4.441772759006073,
          4.463077172196356,
          4.440418420524632,
          4.435519837939427,
          4.433581080645141,
          4.435502037777922,
          4.421545925904593,
          4.406289170772315,
          4.396788279284825,
          4.394904534060794,
          4.389618470938628,
          4.365713984692331,
          4.347581944467018,
          4.327977755565504,
          4.319534992866493,
          4.294195831719621,
          4.286569572589177,
          4.285058963397902,
          4.267720301869676,
          4.270836395446123,
          4.254609619373474,
          4.2401842096910665,
          4.243468480571536,
          4.2475729324661,
          4.254562274901486,
          4.259624714433192,
          4.264365802837701,
          4.253044185742428,
          4.265079621641662,
          4.254713223744827,
          4.251923283687905,
          4.24748076960688,
          4.235397873330059,
          4.229114615011656,
          4.20594599564728,
          4.184354907545511,
          4.174239134995433,
          4.1566127184416795,
          4.148477647954536,
          4.138869059480908,
          4.14932818062892,
          4.14667582428308,
          4.155044471049748,
          4.122830265231986,
          4.116510770975298,
          4.107426471661179,
          4.115153589311533,
          4.124129375273874,
          4.113686267229096,
          4.119735563992512,
          4.111966566641915,
          4.10684458916452,
          4.092522042126346,
          4.092402072970661
         ],
         "yaxis": "y"
        }
       ],
       "layout": {
        "height": 500,
        "legend": {
         "title": {
          "text": "variable"
         },
         "tracegroupgap": 0
        },
        "showlegend": false,
        "template": {
         "data": {
          "bar": [
           {
            "error_x": {
             "color": "#2a3f5f"
            },
            "error_y": {
             "color": "#2a3f5f"
            },
            "marker": {
             "line": {
              "color": "#E5ECF6",
              "width": 0.5
             },
             "pattern": {
              "fillmode": "overlay",
              "size": 10,
              "solidity": 0.2
             }
            },
            "type": "bar"
           }
          ],
          "barpolar": [
           {
            "marker": {
             "line": {
              "color": "#E5ECF6",
              "width": 0.5
             },
             "pattern": {
              "fillmode": "overlay",
              "size": 10,
              "solidity": 0.2
             }
            },
            "type": "barpolar"
           }
          ],
          "carpet": [
           {
            "aaxis": {
             "endlinecolor": "#2a3f5f",
             "gridcolor": "white",
             "linecolor": "white",
             "minorgridcolor": "white",
             "startlinecolor": "#2a3f5f"
            },
            "baxis": {
             "endlinecolor": "#2a3f5f",
             "gridcolor": "white",
             "linecolor": "white",
             "minorgridcolor": "white",
             "startlinecolor": "#2a3f5f"
            },
            "type": "carpet"
           }
          ],
          "choropleth": [
           {
            "colorbar": {
             "outlinewidth": 0,
             "ticks": ""
            },
            "type": "choropleth"
           }
          ],
          "contour": [
           {
            "colorbar": {
             "outlinewidth": 0,
             "ticks": ""
            },
            "colorscale": [
             [
              0,
              "#0d0887"
             ],
             [
              0.1111111111111111,
              "#46039f"
             ],
             [
              0.2222222222222222,
              "#7201a8"
             ],
             [
              0.3333333333333333,
              "#9c179e"
             ],
             [
              0.4444444444444444,
              "#bd3786"
             ],
             [
              0.5555555555555556,
              "#d8576b"
             ],
             [
              0.6666666666666666,
              "#ed7953"
             ],
             [
              0.7777777777777778,
              "#fb9f3a"
             ],
             [
              0.8888888888888888,
              "#fdca26"
             ],
             [
              1,
              "#f0f921"
             ]
            ],
            "type": "contour"
           }
          ],
          "contourcarpet": [
           {
            "colorbar": {
             "outlinewidth": 0,
             "ticks": ""
            },
            "type": "contourcarpet"
           }
          ],
          "heatmap": [
           {
            "colorbar": {
             "outlinewidth": 0,
             "ticks": ""
            },
            "colorscale": [
             [
              0,
              "#0d0887"
             ],
             [
              0.1111111111111111,
              "#46039f"
             ],
             [
              0.2222222222222222,
              "#7201a8"
             ],
             [
              0.3333333333333333,
              "#9c179e"
             ],
             [
              0.4444444444444444,
              "#bd3786"
             ],
             [
              0.5555555555555556,
              "#d8576b"
             ],
             [
              0.6666666666666666,
              "#ed7953"
             ],
             [
              0.7777777777777778,
              "#fb9f3a"
             ],
             [
              0.8888888888888888,
              "#fdca26"
             ],
             [
              1,
              "#f0f921"
             ]
            ],
            "type": "heatmap"
           }
          ],
          "heatmapgl": [
           {
            "colorbar": {
             "outlinewidth": 0,
             "ticks": ""
            },
            "colorscale": [
             [
              0,
              "#0d0887"
             ],
             [
              0.1111111111111111,
              "#46039f"
             ],
             [
              0.2222222222222222,
              "#7201a8"
             ],
             [
              0.3333333333333333,
              "#9c179e"
             ],
             [
              0.4444444444444444,
              "#bd3786"
             ],
             [
              0.5555555555555556,
              "#d8576b"
             ],
             [
              0.6666666666666666,
              "#ed7953"
             ],
             [
              0.7777777777777778,
              "#fb9f3a"
             ],
             [
              0.8888888888888888,
              "#fdca26"
             ],
             [
              1,
              "#f0f921"
             ]
            ],
            "type": "heatmapgl"
           }
          ],
          "histogram": [
           {
            "marker": {
             "pattern": {
              "fillmode": "overlay",
              "size": 10,
              "solidity": 0.2
             }
            },
            "type": "histogram"
           }
          ],
          "histogram2d": [
           {
            "colorbar": {
             "outlinewidth": 0,
             "ticks": ""
            },
            "colorscale": [
             [
              0,
              "#0d0887"
             ],
             [
              0.1111111111111111,
              "#46039f"
             ],
             [
              0.2222222222222222,
              "#7201a8"
             ],
             [
              0.3333333333333333,
              "#9c179e"
             ],
             [
              0.4444444444444444,
              "#bd3786"
             ],
             [
              0.5555555555555556,
              "#d8576b"
             ],
             [
              0.6666666666666666,
              "#ed7953"
             ],
             [
              0.7777777777777778,
              "#fb9f3a"
             ],
             [
              0.8888888888888888,
              "#fdca26"
             ],
             [
              1,
              "#f0f921"
             ]
            ],
            "type": "histogram2d"
           }
          ],
          "histogram2dcontour": [
           {
            "colorbar": {
             "outlinewidth": 0,
             "ticks": ""
            },
            "colorscale": [
             [
              0,
              "#0d0887"
             ],
             [
              0.1111111111111111,
              "#46039f"
             ],
             [
              0.2222222222222222,
              "#7201a8"
             ],
             [
              0.3333333333333333,
              "#9c179e"
             ],
             [
              0.4444444444444444,
              "#bd3786"
             ],
             [
              0.5555555555555556,
              "#d8576b"
             ],
             [
              0.6666666666666666,
              "#ed7953"
             ],
             [
              0.7777777777777778,
              "#fb9f3a"
             ],
             [
              0.8888888888888888,
              "#fdca26"
             ],
             [
              1,
              "#f0f921"
             ]
            ],
            "type": "histogram2dcontour"
           }
          ],
          "mesh3d": [
           {
            "colorbar": {
             "outlinewidth": 0,
             "ticks": ""
            },
            "type": "mesh3d"
           }
          ],
          "parcoords": [
           {
            "line": {
             "colorbar": {
              "outlinewidth": 0,
              "ticks": ""
             }
            },
            "type": "parcoords"
           }
          ],
          "pie": [
           {
            "automargin": true,
            "type": "pie"
           }
          ],
          "scatter": [
           {
            "fillpattern": {
             "fillmode": "overlay",
             "size": 10,
             "solidity": 0.2
            },
            "type": "scatter"
           }
          ],
          "scatter3d": [
           {
            "line": {
             "colorbar": {
              "outlinewidth": 0,
              "ticks": ""
             }
            },
            "marker": {
             "colorbar": {
              "outlinewidth": 0,
              "ticks": ""
             }
            },
            "type": "scatter3d"
           }
          ],
          "scattercarpet": [
           {
            "marker": {
             "colorbar": {
              "outlinewidth": 0,
              "ticks": ""
             }
            },
            "type": "scattercarpet"
           }
          ],
          "scattergeo": [
           {
            "marker": {
             "colorbar": {
              "outlinewidth": 0,
              "ticks": ""
             }
            },
            "type": "scattergeo"
           }
          ],
          "scattergl": [
           {
            "marker": {
             "colorbar": {
              "outlinewidth": 0,
              "ticks": ""
             }
            },
            "type": "scattergl"
           }
          ],
          "scattermapbox": [
           {
            "marker": {
             "colorbar": {
              "outlinewidth": 0,
              "ticks": ""
             }
            },
            "type": "scattermapbox"
           }
          ],
          "scatterpolar": [
           {
            "marker": {
             "colorbar": {
              "outlinewidth": 0,
              "ticks": ""
             }
            },
            "type": "scatterpolar"
           }
          ],
          "scatterpolargl": [
           {
            "marker": {
             "colorbar": {
              "outlinewidth": 0,
              "ticks": ""
             }
            },
            "type": "scatterpolargl"
           }
          ],
          "scatterternary": [
           {
            "marker": {
             "colorbar": {
              "outlinewidth": 0,
              "ticks": ""
             }
            },
            "type": "scatterternary"
           }
          ],
          "surface": [
           {
            "colorbar": {
             "outlinewidth": 0,
             "ticks": ""
            },
            "colorscale": [
             [
              0,
              "#0d0887"
             ],
             [
              0.1111111111111111,
              "#46039f"
             ],
             [
              0.2222222222222222,
              "#7201a8"
             ],
             [
              0.3333333333333333,
              "#9c179e"
             ],
             [
              0.4444444444444444,
              "#bd3786"
             ],
             [
              0.5555555555555556,
              "#d8576b"
             ],
             [
              0.6666666666666666,
              "#ed7953"
             ],
             [
              0.7777777777777778,
              "#fb9f3a"
             ],
             [
              0.8888888888888888,
              "#fdca26"
             ],
             [
              1,
              "#f0f921"
             ]
            ],
            "type": "surface"
           }
          ],
          "table": [
           {
            "cells": {
             "fill": {
              "color": "#EBF0F8"
             },
             "line": {
              "color": "white"
             }
            },
            "header": {
             "fill": {
              "color": "#C8D4E3"
             },
             "line": {
              "color": "white"
             }
            },
            "type": "table"
           }
          ]
         },
         "layout": {
          "annotationdefaults": {
           "arrowcolor": "#2a3f5f",
           "arrowhead": 0,
           "arrowwidth": 1
          },
          "autotypenumbers": "strict",
          "coloraxis": {
           "colorbar": {
            "outlinewidth": 0,
            "ticks": ""
           }
          },
          "colorscale": {
           "diverging": [
            [
             0,
             "#8e0152"
            ],
            [
             0.1,
             "#c51b7d"
            ],
            [
             0.2,
             "#de77ae"
            ],
            [
             0.3,
             "#f1b6da"
            ],
            [
             0.4,
             "#fde0ef"
            ],
            [
             0.5,
             "#f7f7f7"
            ],
            [
             0.6,
             "#e6f5d0"
            ],
            [
             0.7,
             "#b8e186"
            ],
            [
             0.8,
             "#7fbc41"
            ],
            [
             0.9,
             "#4d9221"
            ],
            [
             1,
             "#276419"
            ]
           ],
           "sequential": [
            [
             0,
             "#0d0887"
            ],
            [
             0.1111111111111111,
             "#46039f"
            ],
            [
             0.2222222222222222,
             "#7201a8"
            ],
            [
             0.3333333333333333,
             "#9c179e"
            ],
            [
             0.4444444444444444,
             "#bd3786"
            ],
            [
             0.5555555555555556,
             "#d8576b"
            ],
            [
             0.6666666666666666,
             "#ed7953"
            ],
            [
             0.7777777777777778,
             "#fb9f3a"
            ],
            [
             0.8888888888888888,
             "#fdca26"
            ],
            [
             1,
             "#f0f921"
            ]
           ],
           "sequentialminus": [
            [
             0,
             "#0d0887"
            ],
            [
             0.1111111111111111,
             "#46039f"
            ],
            [
             0.2222222222222222,
             "#7201a8"
            ],
            [
             0.3333333333333333,
             "#9c179e"
            ],
            [
             0.4444444444444444,
             "#bd3786"
            ],
            [
             0.5555555555555556,
             "#d8576b"
            ],
            [
             0.6666666666666666,
             "#ed7953"
            ],
            [
             0.7777777777777778,
             "#fb9f3a"
            ],
            [
             0.8888888888888888,
             "#fdca26"
            ],
            [
             1,
             "#f0f921"
            ]
           ]
          },
          "colorway": [
           "#636efa",
           "#EF553B",
           "#00cc96",
           "#ab63fa",
           "#FFA15A",
           "#19d3f3",
           "#FF6692",
           "#B6E880",
           "#FF97FF",
           "#FECB52"
          ],
          "font": {
           "color": "#2a3f5f"
          },
          "geo": {
           "bgcolor": "white",
           "lakecolor": "white",
           "landcolor": "#E5ECF6",
           "showlakes": true,
           "showland": true,
           "subunitcolor": "white"
          },
          "hoverlabel": {
           "align": "left"
          },
          "hovermode": "closest",
          "mapbox": {
           "style": "light"
          },
          "paper_bgcolor": "white",
          "plot_bgcolor": "#E5ECF6",
          "polar": {
           "angularaxis": {
            "gridcolor": "white",
            "linecolor": "white",
            "ticks": ""
           },
           "bgcolor": "#E5ECF6",
           "radialaxis": {
            "gridcolor": "white",
            "linecolor": "white",
            "ticks": ""
           }
          },
          "scene": {
           "xaxis": {
            "backgroundcolor": "#E5ECF6",
            "gridcolor": "white",
            "gridwidth": 2,
            "linecolor": "white",
            "showbackground": true,
            "ticks": "",
            "zerolinecolor": "white"
           },
           "yaxis": {
            "backgroundcolor": "#E5ECF6",
            "gridcolor": "white",
            "gridwidth": 2,
            "linecolor": "white",
            "showbackground": true,
            "ticks": "",
            "zerolinecolor": "white"
           },
           "zaxis": {
            "backgroundcolor": "#E5ECF6",
            "gridcolor": "white",
            "gridwidth": 2,
            "linecolor": "white",
            "showbackground": true,
            "ticks": "",
            "zerolinecolor": "white"
           }
          },
          "shapedefaults": {
           "line": {
            "color": "#2a3f5f"
           }
          },
          "ternary": {
           "aaxis": {
            "gridcolor": "white",
            "linecolor": "white",
            "ticks": ""
           },
           "baxis": {
            "gridcolor": "white",
            "linecolor": "white",
            "ticks": ""
           },
           "bgcolor": "#E5ECF6",
           "caxis": {
            "gridcolor": "white",
            "linecolor": "white",
            "ticks": ""
           }
          },
          "title": {
           "x": 0.05
          },
          "xaxis": {
           "automargin": true,
           "gridcolor": "white",
           "linecolor": "white",
           "ticks": "",
           "title": {
            "standoff": 15
           },
           "zerolinecolor": "white",
           "zerolinewidth": 2
          },
          "yaxis": {
           "automargin": true,
           "gridcolor": "white",
           "linecolor": "white",
           "ticks": "",
           "title": {
            "standoff": 15
           },
           "zerolinecolor": "white",
           "zerolinewidth": 2
          }
         }
        },
        "title": {
         "text": "Graph of the MSE as a function of iteration number"
        },
        "width": 1000,
        "xaxis": {
         "anchor": "y",
         "domain": [
          0,
          1
         ],
         "title": {
          "text": "Iteration number"
         }
        },
        "yaxis": {
         "anchor": "x",
         "domain": [
          0,
          1
         ],
         "title": {
          "text": "MSE"
         }
        }
       }
      }
     },
     "metadata": {},
     "output_type": "display_data"
    }
   ],
   "source": [
    "w_new, mse_list = stochastic_gradient_descent(X, y, np.array([0, 0, 0, 0]), 0.25, 10**5, 0.0001)\n",
    "\n",
    "fig = px.line(\n",
    "    mse_list,\n",
    "    width=1000,\n",
    "    height=500,\n",
    "    title='Graph of the MSE as a function of iteration number'    \n",
    ").update_layout(\n",
    "    showlegend=False,\n",
    "    yaxis_title='MSE',\n",
    "    xaxis_title='Iteration number'\n",
    ")\n",
    "fig.show()"
   ]
  },
  {
   "cell_type": "markdown",
   "metadata": {
    "id": "O-MVOcJ6a_aY"
   },
   "source": [
    "**Print the vector of weights to which the method converged.**"
   ]
  },
  {
   "cell_type": "code",
   "execution_count": 240,
   "metadata": {
    "id": "MPjVkXe4DUK9"
   },
   "outputs": [
    {
     "data": {
      "text/plain": [
       "array([12.99258725,  3.72265028,  2.4030689 ,  0.38128619])"
      ]
     },
     "execution_count": 240,
     "metadata": {},
     "output_type": "execute_result"
    }
   ],
   "source": [
    "w_new"
   ]
  },
  {
   "cell_type": "markdown",
   "metadata": {
    "id": "qabzMc3Qa_a5"
   },
   "source": [
    "**Print the mean squared error at the last iteration.**"
   ]
  },
  {
   "cell_type": "code",
   "execution_count": 248,
   "metadata": {
    "id": "7tPWleMIa_a7"
   },
   "outputs": [
    {
     "name": "stdout",
     "output_type": "stream",
     "text": [
      "MSE: 4.092 after 1063 iterations\n"
     ]
    }
   ],
   "source": [
    "print(f'MSE: {mse_list[-1]:.3f} after {len(mse_list)} iterations')\n",
    " "
   ]
  },
  {
   "cell_type": "markdown",
   "metadata": {},
   "source": [
    "> **Conclusion:**\n",
    "> \n",
    "> Stochastic gradient decent is converging with the value of MSE 4.092 after 1063 iterations, which means that the distance between the weight vectors is below the specified value 0.0001."
   ]
  }
 ],
 "metadata": {
  "colab": {
   "collapsed_sections": [],
   "name": "Практика_Оптимизация.ipynb",
   "provenance": [],
   "toc_visible": true
  },
  "kernelspec": {
   "display_name": "Python 3",
   "language": "python",
   "name": "python3"
  },
  "language_info": {
   "codemirror_mode": {
    "name": "ipython",
    "version": 3
   },
   "file_extension": ".py",
   "mimetype": "text/x-python",
   "name": "python",
   "nbconvert_exporter": "python",
   "pygments_lexer": "ipython3",
   "version": "3.12.1"
  }
 },
 "nbformat": 4,
 "nbformat_minor": 0
}
